{
  "cells": [
    {
      "cell_type": "markdown",
      "source": [
        "# Automated ML\n",
        "\n",
        "TODO: Import Dependencies. In the cell below, import all the dependencies that you will need to complete the project."
      ],
      "metadata": {}
    },
    {
      "cell_type": "code",
      "source": [
        "from azureml.core import Workspace, Dataset\r\n",
        "from azureml.core.experiment import Experiment\r\n",
        "from azureml.core.compute import ComputeTarget, AmlCompute\r\n",
        "from azureml.core.compute_target import ComputeTargetException\r\n",
        "from azureml.train.automl import AutoMLConfig\r\n",
        "\r\n",
        "from sklearn.model_selection import StratifiedKFold\r\n",
        "from azureml.core.environment import Environment\r\n",
        "from azureml.widgets import RunDetails"
      ],
      "outputs": [],
      "execution_count": 1,
      "metadata": {
        "gather": {
          "logged": 1616354508080
        },
        "jupyter": {
          "outputs_hidden": false,
          "source_hidden": false
        },
        "nteract": {
          "transient": {
            "deleting": false
          }
        }
      }
    },
    {
      "cell_type": "markdown",
      "source": [
        "## Dataset\n",
        "\n",
        "### Overview\n",
        "\n",
        "For this project, the data used is **Mobile Price Classification** ([data source](https://www.kaggle.com/iabhishekofficial/mobile-price-classification?select=train.csv))\n",
        "from Kaggle website. The description provided in Kaggle is the following one:\n",
        "\n",
        "```\n",
        "Bob has started his own mobile company. He wants to give tough fight to big companies like Apple,Samsung etc.\n",
        "\n",
        "He does not know how to estimate price of mobiles his company creates. In this competitive mobile phone market you cannot simply assume things. To solve this problem he collects sales data of mobile phones of various companies.\n",
        "\n",
        "Bob wants to find out some relation between features of a mobile phone(eg:- RAM,Internal Memory etc) and its selling price. But he is not so good at Machine Learning. So he needs your help to solve this problem.\n",
        "\n",
        "In this problem you do not have to predict actual price but a price range indicating how high the price is.\n",
        "```\n",
        "\n",
        "We are using the *train.csv* file.\n",
        "\n",
        "### Task\n",
        "*TODO*: Explain the task you are going to be solving with this dataset and the features you will be using for it.\n",
        "\n",
        "As described above, we are using some technical characteristics of mobile phones\n",
        "to classify their prices between 0 and 3. So that, we have a Multi-Label\n",
        "Classification Problem.\n",
        "\n",
        "The features available are the following:\n",
        "\n",
        "* **battery_power**: Total energy a battery can store in one time measured in mAh.\n",
        "\n",
        "* **blue**: Has bluetooth or not.\n",
        "\n",
        "* **clock_speed**: speed at which microprocessor executes instructions.\n",
        "\n",
        "* **dual_sim**: Has dual sim support or not.\n",
        "\n",
        "* **fc**: Front Camera mega pixels\n",
        "\n",
        "* **four_g**: Has 4G or not.\n",
        "\n",
        "* **int_memory**: Internal Memory in Gigabytes.\n",
        "\n",
        "* **m_dep**: Mobile Depth in cm.\n",
        "\n",
        "* **mobile_wt**: Weight of mobile phone.\n",
        "\n",
        "* **n_cores**: Number of cores of processor.\n",
        "\n",
        "* **pc**: Primary Camera mega pixels.\n",
        "\n",
        "* **px_height**: Pixel Resolution Height.\n",
        "\n",
        "* **px_width**: Pixel Resolution Width.\n",
        "\n",
        "* **ram**: Random Access Memory in Mega Bytes.\n",
        "\n",
        "* **sc_h**: Screen Height of mobile in cm.\n",
        "\n",
        "* **sc_w**: Screen Width of mobile in cm.\n",
        "\n",
        "* **talk_time**: longest time that a single battery charge will last when you are.\n",
        "\n",
        "* **three_g**: Has 3G or not.\n",
        "\n",
        "* **touch_screen**: Has touch screen or not.\n",
        "\n",
        "* **wifi**: Has wifi or not.\n",
        "\n",
        "* **price_range**: This is the target variable with value of 0 (low cost), 1 (medium cost), 2 (high cost) and 3 (very high cost).\n",
        "\n",
        "\n",
        "In this data we have a balanced target for training set, i.e., each class has almost the same representation. This is important because it makes it easier to create a general model using classical.\n",
        "\n",
        "TODO: Get data. In the cell below, write code to access the data you will be using in this project. Remember that the dataset needs to be external."
      ],
      "metadata": {}
    },
    {
      "cell_type": "code",
      "source": [
        "ws = Workspace.from_config()\n",
        "\n",
        "# choose a name for experiment\n",
        "experiment_name = 'automl-mobile'\n",
        "project_folder = './automl-mobile-udacity'\n",
        "\n",
        "experiment=Experiment(ws, experiment_name)"
      ],
      "outputs": [],
      "execution_count": 2,
      "metadata": {
        "gather": {
          "logged": 1616354512545
        },
        "jupyter": {
          "outputs_hidden": false,
          "source_hidden": false
        },
        "nteract": {
          "transient": {
            "deleting": false
          }
        }
      }
    },
    {
      "cell_type": "markdown",
      "source": [
        "In the following cell, data is consumed using *Consume* tab in ML Studio Datasets section."
      ],
      "metadata": {
        "nteract": {
          "transient": {
            "deleting": false
          }
        }
      }
    },
    {
      "cell_type": "code",
      "source": [
        "# azureml-core of version 1.0.72 or higher is required\r\n",
        "# azureml-dataprep[pandas] of version 1.1.34 or higher is required\r\n",
        "\r\n",
        "dataset = Dataset.get_by_name(ws, name='mobile_prices')\r\n",
        "df = dataset.to_pandas_dataframe()\r\n",
        "df.head(5)"
      ],
      "outputs": [
        {
          "output_type": "execute_result",
          "execution_count": 3,
          "data": {
            "text/plain": "   battery_power  blue  clock_speed  dual_sim  fc  four_g  int_memory  m_dep  \\\n0            842     0          2.2         0   1       0           7    0.6   \n1           1021     1          0.5         1   0       1          53    0.7   \n2            563     1          0.5         1   2       1          41    0.9   \n3            615     1          2.5         0   0       0          10    0.8   \n4           1821     1          1.2         0  13       1          44    0.6   \n\n   mobile_wt  n_cores  ...  px_height  px_width   ram  sc_h  sc_w  talk_time  \\\n0        188        2  ...         20       756  2549     9     7         19   \n1        136        3  ...        905      1988  2631    17     3          7   \n2        145        5  ...       1263      1716  2603    11     2          9   \n3        131        6  ...       1216      1786  2769    16     8         11   \n4        141        2  ...       1208      1212  1411     8     2         15   \n\n   three_g  touch_screen  wifi  price_range  \n0        0             0     1            1  \n1        1             1     0            2  \n2        1             1     0            2  \n3        1             0     0            2  \n4        1             1     0            1  \n\n[5 rows x 21 columns]",
            "text/html": "<div>\n<style scoped>\n    .dataframe tbody tr th:only-of-type {\n        vertical-align: middle;\n    }\n\n    .dataframe tbody tr th {\n        vertical-align: top;\n    }\n\n    .dataframe thead th {\n        text-align: right;\n    }\n</style>\n<table border=\"1\" class=\"dataframe\">\n  <thead>\n    <tr style=\"text-align: right;\">\n      <th></th>\n      <th>battery_power</th>\n      <th>blue</th>\n      <th>clock_speed</th>\n      <th>dual_sim</th>\n      <th>fc</th>\n      <th>four_g</th>\n      <th>int_memory</th>\n      <th>m_dep</th>\n      <th>mobile_wt</th>\n      <th>n_cores</th>\n      <th>...</th>\n      <th>px_height</th>\n      <th>px_width</th>\n      <th>ram</th>\n      <th>sc_h</th>\n      <th>sc_w</th>\n      <th>talk_time</th>\n      <th>three_g</th>\n      <th>touch_screen</th>\n      <th>wifi</th>\n      <th>price_range</th>\n    </tr>\n  </thead>\n  <tbody>\n    <tr>\n      <th>0</th>\n      <td>842</td>\n      <td>0</td>\n      <td>2.2</td>\n      <td>0</td>\n      <td>1</td>\n      <td>0</td>\n      <td>7</td>\n      <td>0.6</td>\n      <td>188</td>\n      <td>2</td>\n      <td>...</td>\n      <td>20</td>\n      <td>756</td>\n      <td>2549</td>\n      <td>9</td>\n      <td>7</td>\n      <td>19</td>\n      <td>0</td>\n      <td>0</td>\n      <td>1</td>\n      <td>1</td>\n    </tr>\n    <tr>\n      <th>1</th>\n      <td>1021</td>\n      <td>1</td>\n      <td>0.5</td>\n      <td>1</td>\n      <td>0</td>\n      <td>1</td>\n      <td>53</td>\n      <td>0.7</td>\n      <td>136</td>\n      <td>3</td>\n      <td>...</td>\n      <td>905</td>\n      <td>1988</td>\n      <td>2631</td>\n      <td>17</td>\n      <td>3</td>\n      <td>7</td>\n      <td>1</td>\n      <td>1</td>\n      <td>0</td>\n      <td>2</td>\n    </tr>\n    <tr>\n      <th>2</th>\n      <td>563</td>\n      <td>1</td>\n      <td>0.5</td>\n      <td>1</td>\n      <td>2</td>\n      <td>1</td>\n      <td>41</td>\n      <td>0.9</td>\n      <td>145</td>\n      <td>5</td>\n      <td>...</td>\n      <td>1263</td>\n      <td>1716</td>\n      <td>2603</td>\n      <td>11</td>\n      <td>2</td>\n      <td>9</td>\n      <td>1</td>\n      <td>1</td>\n      <td>0</td>\n      <td>2</td>\n    </tr>\n    <tr>\n      <th>3</th>\n      <td>615</td>\n      <td>1</td>\n      <td>2.5</td>\n      <td>0</td>\n      <td>0</td>\n      <td>0</td>\n      <td>10</td>\n      <td>0.8</td>\n      <td>131</td>\n      <td>6</td>\n      <td>...</td>\n      <td>1216</td>\n      <td>1786</td>\n      <td>2769</td>\n      <td>16</td>\n      <td>8</td>\n      <td>11</td>\n      <td>1</td>\n      <td>0</td>\n      <td>0</td>\n      <td>2</td>\n    </tr>\n    <tr>\n      <th>4</th>\n      <td>1821</td>\n      <td>1</td>\n      <td>1.2</td>\n      <td>0</td>\n      <td>13</td>\n      <td>1</td>\n      <td>44</td>\n      <td>0.6</td>\n      <td>141</td>\n      <td>2</td>\n      <td>...</td>\n      <td>1208</td>\n      <td>1212</td>\n      <td>1411</td>\n      <td>8</td>\n      <td>2</td>\n      <td>15</td>\n      <td>1</td>\n      <td>1</td>\n      <td>0</td>\n      <td>1</td>\n    </tr>\n  </tbody>\n</table>\n<p>5 rows × 21 columns</p>\n</div>"
          },
          "metadata": {}
        }
      ],
      "execution_count": 3,
      "metadata": {
        "collapsed": true,
        "jupyter": {
          "source_hidden": false,
          "outputs_hidden": false
        },
        "nteract": {
          "transient": {
            "deleting": false
          }
        },
        "gather": {
          "logged": 1616354520828
        }
      }
    },
    {
      "cell_type": "code",
      "source": [
        "df.shape"
      ],
      "outputs": [
        {
          "output_type": "execute_result",
          "execution_count": 4,
          "data": {
            "text/plain": "(2000, 21)"
          },
          "metadata": {}
        }
      ],
      "execution_count": 4,
      "metadata": {
        "collapsed": true,
        "jupyter": {
          "source_hidden": false,
          "outputs_hidden": false
        },
        "nteract": {
          "transient": {
            "deleting": false
          }
        },
        "gather": {
          "logged": 1616350239678
        }
      }
    },
    {
      "cell_type": "markdown",
      "source": [
        "## AutoML Configuration\n",
        "* **experiment_timeout_minutes**: Maximum amount of time in minutes that all iterations combined can take before the experiment terminates. In this case is set to 20 so that we can have time enough to do all the steps in the project.\n",
        "* **max_concurrent_iterations**: Represents the maximum number of iterations that would be executed in parallel. The default value is 1. This value is bounded\n",
        "by the number of maximum nodes chosen for Compute Target. In our case, this value is 4 so that we set the same number of max_concurrent_iterations.\n",
        "* **primary_metric**: The metric that Automated Machine Learning will optimize for model selection. Automated Machine Learning collects more metrics than it can optimize. In this case, as we have a balanced target for Multi Label Classification, 'accuracy' seems to be a good option.\n",
        "* **compute_target**: The Azure Machine Learning compute target to run the Automated Machine Learning experiment on (see Figure 6).\n",
        "* **task**:The type of task to run. Values can be 'classification', 'regression', or 'forecasting' depending on the type of automated ML problem to solve. In this case, it's obviously 'classification'.\n",
        "* **training_data**: The training data to be used within the experiment. It should contain both training features and a label column (optionally a sample weights column). If training_data is specified, then the label_column_name parameter must also be specified.\n",
        "* **label_column_name**: The name of the label column. If the input data is from a pandas.DataFrame which doesn't have column names, column indices can be used instead, expressed as integers. In this case, the column in *training_data* that we want to predict is 'price_range'.\n",
        "* **path**: The full path to the Azure Machine Learning project folder. If not specified, the default is to use the current directory or \".\". Our project folder is called './automl-mobile-udacity'.\n",
        "* **n_cross_validations**:How many cross validations to perform when user validation data is not specified. In this case, with 2000 rows it seems natural that we take a 20% for validation.\n",
        "* **enable_early_stopping**: Whether to enable early termination if the score is not improving in the short term. The default is False.\n",
        "\n",
        "    * Default behavior for stopping criteria:\n",
        "\n",
        "        1. If iteration and experiment timeout are not specified, then early stopping is turned on and experiment_timeout = 6 days, num_iterations = 1000.\n",
        "\n",
        "        2. If experiment timeout is specified, then early_stopping = off, num_iterations = 1000.\n",
        "\n",
        "    * Early stopping logic:\n",
        "\n",
        "        1. No early stopping for first 20 iterations (landmarks).\n",
        "\n",
        "        2. Early stopping window starts on the 21st iteration and looks for early_stopping_n_iters iterations (currently set to 10). This means that the first iteration where stopping can occur is the 31st.\n",
        "\n",
        "        3. AutoML still schedules 2 ensemble iterations AFTER early stopping, which might result in higher scores.\n",
        "\n",
        "        4. Early stopping is triggered if the absolute value of best score calculated is the same for past early_stopping_n_iters iterations, that is, if there is no improvement in score for early_stopping_n_iters iterations.\n",
        "\n",
        "* **featurization**: auto' / 'off' / FeaturizationConfig Indicator for whether featurization step should be done automatically or not, or whether customized featurization should be used. Note: If the input data is sparse, featurization cannot be turned on.\n",
        "\n",
        "    Column type is automatically detected. Based on the detected column type preprocessing/featurization is done as follows:\n",
        "\n",
        "    * Categorical: Target encoding, one hot encoding, drop high cardinality categories, impute missing values.\n",
        "\n",
        "    * Numeric: Impute missing values, cluster distance, weight of evidence.\n",
        "\n",
        "    * DateTime: Several features such as day, seconds, minutes, hours etc.\n",
        "\n",
        "    * Text: Bag of words, pre-trained Word embedding, text target encoding.\n",
        "\n",
        "    More details can be found in the article [Configure automated ML experiments in Python](https://docs.microsoft.com/en-us/azure/machine-learning/how-to-configure-auto-train#data-featurization).\n",
        "\n",
        "    This time, no specific featurization is proposed so that we keep it as 'auto'."
      ],
      "metadata": {}
    },
    {
      "cell_type": "code",
      "source": [
        "cpu_cluster_name='automl-mobiles'\r\n",
        "\r\n",
        "# Verify that cluster does not exist already\r\n",
        "try:\r\n",
        "    cpu_cluster = ComputeTarget(workspace=ws, name=cpu_cluster_name)\r\n",
        "    print('Found existing cluster, use it.')\r\n",
        "except ComputeTargetException:\r\n",
        "    compute_config = AmlCompute.provisioning_configuration(vm_size='STANDARD_D2_V2',\r\n",
        "                                                            max_nodes=4)\r\n",
        "    cpu_cluster = ComputeTarget.create(ws, cpu_cluster_name, compute_config)\r\n",
        "\r\n",
        "cpu_cluster.wait_for_completion(show_output=True, min_node_count = 1, timeout_in_minutes = 10)"
      ],
      "outputs": [
        {
          "output_type": "stream",
          "name": "stdout",
          "text": [
            "Found existing cluster, use it.\n",
            "Succeeded....................................................................................................................\n",
            "AmlCompute wait for completion finished\n",
            "\n",
            "Wait timeout has been reached\n",
            "Current provisioning state of AmlCompute is \"Succeeded\" and current node count is \"0\"\n"
          ]
        }
      ],
      "execution_count": 5,
      "metadata": {
        "collapsed": true,
        "jupyter": {
          "source_hidden": false,
          "outputs_hidden": false
        },
        "nteract": {
          "transient": {
            "deleting": false
          }
        },
        "gather": {
          "logged": 1616350840624
        }
      }
    },
    {
      "cell_type": "code",
      "source": [
        "!pip install xgboost==0.90"
      ],
      "outputs": [
        {
          "output_type": "stream",
          "name": "stdout",
          "text": [
            "Requirement already satisfied: xgboost==0.90 in /anaconda/envs/azureml_py36/lib/python3.6/site-packages (0.90)\r\n",
            "Requirement already satisfied: numpy in /anaconda/envs/azureml_py36/lib/python3.6/site-packages (from xgboost==0.90) (1.18.5)\r\n",
            "Requirement already satisfied: scipy in /anaconda/envs/azureml_py36/lib/python3.6/site-packages (from xgboost==0.90) (1.4.1)\r\n"
          ]
        }
      ],
      "execution_count": 36,
      "metadata": {
        "collapsed": true,
        "jupyter": {
          "source_hidden": false,
          "outputs_hidden": false
        },
        "nteract": {
          "transient": {
            "deleting": false
          }
        },
        "gather": {
          "logged": 1616350840846
        }
      }
    },
    {
      "cell_type": "code",
      "source": [
        "automl_settings = {\r\n",
        "    \"experiment_timeout_minutes\": 20,\r\n",
        "    \"max_concurrent_iterations\": 4,\r\n",
        "    \"primary_metric\" : 'accuracy'\r\n",
        "}\r\n",
        "project_folder = './automl-mobile-udacity'\r\n",
        "automl_config = AutoMLConfig(compute_target=cpu_cluster,\r\n",
        "                             task = \"classification\",\r\n",
        "                             training_data=dataset,\r\n",
        "                             label_column_name=\"price_range\",   \r\n",
        "                             path = project_folder,\r\n",
        "                             n_cross_validations=5,\r\n",
        "                             enable_early_stopping= True,\r\n",
        "                             featurization= 'auto',\r\n",
        "                             debug_log = \"automl_errors.log\",\r\n",
        "                             **automl_settings\r\n",
        "                            )"
      ],
      "outputs": [],
      "execution_count": 7,
      "metadata": {
        "collapsed": true,
        "jupyter": {
          "source_hidden": false,
          "outputs_hidden": false
        },
        "nteract": {
          "transient": {
            "deleting": false
          }
        },
        "gather": {
          "logged": 1616350841250
        }
      }
    },
    {
      "cell_type": "code",
      "source": [
        "# TODO: Submit your experiment\n",
        "remote_run = experiment.submit(automl_config)\n",
        "\n",
        "RunDetails(remote_run).show()"
      ],
      "outputs": [
        {
          "output_type": "stream",
          "name": "stdout",
          "text": [
            "Running on remote.\n"
          ]
        },
        {
          "output_type": "display_data",
          "data": {
            "text/plain": "_AutoMLWidget(widget_settings={'childWidgetDisplay': 'popup', 'send_telemetry': False, 'log_level': 'INFO', 's…",
            "application/vnd.jupyter.widget-view+json": {
              "version_major": 2,
              "version_minor": 0,
              "model_id": "7727d79224784cedace7de7346f15942"
            }
          },
          "metadata": {}
        },
        {
          "output_type": "display_data",
          "data": {
            "application/aml.mini.widget.v1": "{\"status\": \"Completed\", \"workbench_run_details_uri\": \"https://ml.azure.com/experiments/automl-mobile/runs/AutoML_2e3ecec9-8b98-46e6-8caf-ebe839cb45fc?wsid=/subscriptions/f5091c60-1c3c-430f-8d81-d802f6bf2414/resourcegroups/aml-quickstarts-141054/workspaces/quick-starts-ws-141054\", \"run_id\": \"AutoML_2e3ecec9-8b98-46e6-8caf-ebe839cb45fc\", \"run_properties\": {\"run_id\": \"AutoML_2e3ecec9-8b98-46e6-8caf-ebe839cb45fc\", \"created_utc\": \"2021-03-21T18:20:45.447184Z\", \"properties\": {\"num_iterations\": \"1000\", \"training_type\": \"TrainFull\", \"acquisition_function\": \"EI\", \"primary_metric\": \"accuracy\", \"train_split\": \"0\", \"acquisition_parameter\": \"0\", \"num_cross_validation\": \"5\", \"target\": \"automl-mobiles\", \"AMLSettingsJsonString\": \"{\\\"path\\\":null,\\\"name\\\":\\\"automl-mobile\\\",\\\"subscription_id\\\":\\\"f5091c60-1c3c-430f-8d81-d802f6bf2414\\\",\\\"resource_group\\\":\\\"aml-quickstarts-141054\\\",\\\"workspace_name\\\":\\\"quick-starts-ws-141054\\\",\\\"region\\\":\\\"southcentralus\\\",\\\"compute_target\\\":\\\"automl-mobiles\\\",\\\"spark_service\\\":null,\\\"azure_service\\\":\\\"remote\\\",\\\"many_models\\\":false,\\\"pipeline_fetch_max_batch_size\\\":1,\\\"enable_batch_run\\\":false,\\\"iterations\\\":1000,\\\"primary_metric\\\":\\\"accuracy\\\",\\\"task_type\\\":\\\"classification\\\",\\\"data_script\\\":null,\\\"validation_size\\\":0.0,\\\"n_cross_validations\\\":5,\\\"y_min\\\":null,\\\"y_max\\\":null,\\\"num_classes\\\":null,\\\"featurization\\\":\\\"auto\\\",\\\"_ignore_package_version_incompatibilities\\\":false,\\\"is_timeseries\\\":false,\\\"max_cores_per_iteration\\\":1,\\\"max_concurrent_iterations\\\":4,\\\"iteration_timeout_minutes\\\":null,\\\"mem_in_mb\\\":null,\\\"enforce_time_on_windows\\\":false,\\\"experiment_timeout_minutes\\\":20,\\\"experiment_exit_score\\\":null,\\\"whitelist_models\\\":null,\\\"blacklist_algos\\\":[\\\"TensorFlowLinearClassifier\\\",\\\"TensorFlowDNN\\\"],\\\"supported_models\\\":[\\\"BernoulliNaiveBayes\\\",\\\"XGBoostClassifier\\\",\\\"KNN\\\",\\\"AveragedPerceptronClassifier\\\",\\\"ExtremeRandomTrees\\\",\\\"DecisionTree\\\",\\\"GradientBoosting\\\",\\\"TensorFlowDNN\\\",\\\"TensorFlowLinearClassifier\\\",\\\"SGD\\\",\\\"SVM\\\",\\\"LogisticRegression\\\",\\\"LinearSVM\\\",\\\"LightGBM\\\",\\\"MultinomialNaiveBayes\\\",\\\"RandomForest\\\"],\\\"private_models\\\":[],\\\"auto_blacklist\\\":true,\\\"blacklist_samples_reached\\\":false,\\\"exclude_nan_labels\\\":true,\\\"verbosity\\\":20,\\\"_debug_log\\\":\\\"azureml_automl.log\\\",\\\"show_warnings\\\":false,\\\"model_explainability\\\":true,\\\"service_url\\\":null,\\\"sdk_url\\\":null,\\\"sdk_packages\\\":null,\\\"enable_onnx_compatible_models\\\":false,\\\"enable_split_onnx_featurizer_estimator_models\\\":false,\\\"vm_type\\\":\\\"STANDARD_D2_V2\\\",\\\"telemetry_verbosity\\\":20,\\\"send_telemetry\\\":true,\\\"enable_dnn\\\":false,\\\"scenario\\\":\\\"SDK-1.13.0\\\",\\\"environment_label\\\":null,\\\"save_mlflow\\\":false,\\\"force_text_dnn\\\":false,\\\"enable_feature_sweeping\\\":true,\\\"enable_early_stopping\\\":true,\\\"early_stopping_n_iters\\\":10,\\\"metrics\\\":null,\\\"enable_metric_confidence\\\":false,\\\"enable_ensembling\\\":true,\\\"enable_stack_ensembling\\\":true,\\\"ensemble_iterations\\\":15,\\\"enable_tf\\\":false,\\\"enable_subsampling\\\":null,\\\"subsample_seed\\\":null,\\\"enable_nimbusml\\\":false,\\\"enable_streaming\\\":false,\\\"force_streaming\\\":false,\\\"track_child_runs\\\":true,\\\"allowed_private_models\\\":[],\\\"label_column_name\\\":\\\"price_range\\\",\\\"weight_column_name\\\":null,\\\"cv_split_column_names\\\":null,\\\"enable_local_managed\\\":false,\\\"_local_managed_run_id\\\":null,\\\"cost_mode\\\":1,\\\"lag_length\\\":0,\\\"metric_operation\\\":\\\"maximize\\\",\\\"preprocess\\\":true}\", \"DataPrepJsonString\": \"{\\\\\\\"training_data\\\\\\\": \\\\\\\"{\\\\\\\\\\\\\\\"blocks\\\\\\\\\\\\\\\": [{\\\\\\\\\\\\\\\"id\\\\\\\\\\\\\\\": \\\\\\\\\\\\\\\"49700a5d-9250-4716-b833-76c1566a6551\\\\\\\\\\\\\\\", \\\\\\\\\\\\\\\"type\\\\\\\\\\\\\\\": \\\\\\\\\\\\\\\"Microsoft.DPrep.GetDatastoreFilesBlock\\\\\\\\\\\\\\\", \\\\\\\\\\\\\\\"arguments\\\\\\\\\\\\\\\": {\\\\\\\\\\\\\\\"datastores\\\\\\\\\\\\\\\": [{\\\\\\\\\\\\\\\"datastoreName\\\\\\\\\\\\\\\": \\\\\\\\\\\\\\\"workspaceblobstore\\\\\\\\\\\\\\\", \\\\\\\\\\\\\\\"path\\\\\\\\\\\\\\\": \\\\\\\\\\\\\\\"UI/03-21-2021_050026_UTC/train.csv\\\\\\\\\\\\\\\", \\\\\\\\\\\\\\\"resourceGroup\\\\\\\\\\\\\\\": \\\\\\\\\\\\\\\"aml-quickstarts-141054\\\\\\\\\\\\\\\", \\\\\\\\\\\\\\\"subscription\\\\\\\\\\\\\\\": \\\\\\\\\\\\\\\"f5091c60-1c3c-430f-8d81-d802f6bf2414\\\\\\\\\\\\\\\", \\\\\\\\\\\\\\\"workspaceName\\\\\\\\\\\\\\\": \\\\\\\\\\\\\\\"quick-starts-ws-141054\\\\\\\\\\\\\\\"}]}, \\\\\\\\\\\\\\\"localData\\\\\\\\\\\\\\\": {}, \\\\\\\\\\\\\\\"isEnabled\\\\\\\\\\\\\\\": true, \\\\\\\\\\\\\\\"name\\\\\\\\\\\\\\\": null, \\\\\\\\\\\\\\\"annotation\\\\\\\\\\\\\\\": null}, {\\\\\\\\\\\\\\\"id\\\\\\\\\\\\\\\": \\\\\\\\\\\\\\\"1a6b6965-4525-4a36-b326-11158a43ea6a\\\\\\\\\\\\\\\", \\\\\\\\\\\\\\\"type\\\\\\\\\\\\\\\": \\\\\\\\\\\\\\\"Microsoft.DPrep.ParseDelimitedBlock\\\\\\\\\\\\\\\", \\\\\\\\\\\\\\\"arguments\\\\\\\\\\\\\\\": {\\\\\\\\\\\\\\\"columnHeadersMode\\\\\\\\\\\\\\\": 1, \\\\\\\\\\\\\\\"fileEncoding\\\\\\\\\\\\\\\": 0, \\\\\\\\\\\\\\\"handleQuotedLineBreaks\\\\\\\\\\\\\\\": false, \\\\\\\\\\\\\\\"preview\\\\\\\\\\\\\\\": false, \\\\\\\\\\\\\\\"separator\\\\\\\\\\\\\\\": \\\\\\\\\\\\\\\",\\\\\\\\\\\\\\\", \\\\\\\\\\\\\\\"skipRows\\\\\\\\\\\\\\\": 0, \\\\\\\\\\\\\\\"skipRowsMode\\\\\\\\\\\\\\\": 0}, \\\\\\\\\\\\\\\"localData\\\\\\\\\\\\\\\": {}, \\\\\\\\\\\\\\\"isEnabled\\\\\\\\\\\\\\\": true, \\\\\\\\\\\\\\\"name\\\\\\\\\\\\\\\": null, \\\\\\\\\\\\\\\"annotation\\\\\\\\\\\\\\\": null}, {\\\\\\\\\\\\\\\"id\\\\\\\\\\\\\\\": \\\\\\\\\\\\\\\"7dca64d5-bc9b-4d78-b891-029ef3eb91a0\\\\\\\\\\\\\\\", \\\\\\\\\\\\\\\"type\\\\\\\\\\\\\\\": \\\\\\\\\\\\\\\"Microsoft.DPrep.DropColumnsBlock\\\\\\\\\\\\\\\", \\\\\\\\\\\\\\\"arguments\\\\\\\\\\\\\\\": {\\\\\\\\\\\\\\\"columns\\\\\\\\\\\\\\\": {\\\\\\\\\\\\\\\"type\\\\\\\\\\\\\\\": 0, \\\\\\\\\\\\\\\"details\\\\\\\\\\\\\\\": {\\\\\\\\\\\\\\\"selectedColumns\\\\\\\\\\\\\\\": [\\\\\\\\\\\\\\\"Path\\\\\\\\\\\\\\\"]}}}, \\\\\\\\\\\\\\\"localData\\\\\\\\\\\\\\\": {}, \\\\\\\\\\\\\\\"isEnabled\\\\\\\\\\\\\\\": true, \\\\\\\\\\\\\\\"name\\\\\\\\\\\\\\\": null, \\\\\\\\\\\\\\\"annotation\\\\\\\\\\\\\\\": null}, {\\\\\\\\\\\\\\\"id\\\\\\\\\\\\\\\": \\\\\\\\\\\\\\\"b078b6bb-70cf-46da-afe7-1511d229c95e\\\\\\\\\\\\\\\", \\\\\\\\\\\\\\\"type\\\\\\\\\\\\\\\": \\\\\\\\\\\\\\\"Microsoft.DPrep.SetColumnTypesBlock\\\\\\\\\\\\\\\", \\\\\\\\\\\\\\\"arguments\\\\\\\\\\\\\\\": {\\\\\\\\\\\\\\\"columnConversion\\\\\\\\\\\\\\\": [{\\\\\\\\\\\\\\\"column\\\\\\\\\\\\\\\": {\\\\\\\\\\\\\\\"type\\\\\\\\\\\\\\\": 2, \\\\\\\\\\\\\\\"details\\\\\\\\\\\\\\\": {\\\\\\\\\\\\\\\"selectedColumn\\\\\\\\\\\\\\\": \\\\\\\\\\\\\\\"Path\\\\\\\\\\\\\\\"}}, \\\\\\\\\\\\\\\"typeProperty\\\\\\\\\\\\\\\": 0}, {\\\\\\\\\\\\\\\"column\\\\\\\\\\\\\\\": {\\\\\\\\\\\\\\\"type\\\\\\\\\\\\\\\": 2, \\\\\\\\\\\\\\\"details\\\\\\\\\\\\\\\": {\\\\\\\\\\\\\\\"selectedColumn\\\\\\\\\\\\\\\": \\\\\\\\\\\\\\\"battery_power\\\\\\\\\\\\\\\"}}, \\\\\\\\\\\\\\\"typeProperty\\\\\\\\\\\\\\\": 2}, {\\\\\\\\\\\\\\\"column\\\\\\\\\\\\\\\": {\\\\\\\\\\\\\\\"type\\\\\\\\\\\\\\\": 2, \\\\\\\\\\\\\\\"details\\\\\\\\\\\\\\\": {\\\\\\\\\\\\\\\"selectedColumn\\\\\\\\\\\\\\\": \\\\\\\\\\\\\\\"blue\\\\\\\\\\\\\\\"}}, \\\\\\\\\\\\\\\"typeProperty\\\\\\\\\\\\\\\": 2}, {\\\\\\\\\\\\\\\"column\\\\\\\\\\\\\\\": {\\\\\\\\\\\\\\\"type\\\\\\\\\\\\\\\": 2, \\\\\\\\\\\\\\\"details\\\\\\\\\\\\\\\": {\\\\\\\\\\\\\\\"selectedColumn\\\\\\\\\\\\\\\": \\\\\\\\\\\\\\\"clock_speed\\\\\\\\\\\\\\\"}}, \\\\\\\\\\\\\\\"typeProperty\\\\\\\\\\\\\\\": 3}, {\\\\\\\\\\\\\\\"column\\\\\\\\\\\\\\\": {\\\\\\\\\\\\\\\"type\\\\\\\\\\\\\\\": 2, \\\\\\\\\\\\\\\"details\\\\\\\\\\\\\\\": {\\\\\\\\\\\\\\\"selectedColumn\\\\\\\\\\\\\\\": \\\\\\\\\\\\\\\"dual_sim\\\\\\\\\\\\\\\"}}, \\\\\\\\\\\\\\\"typeProperty\\\\\\\\\\\\\\\": 2}, {\\\\\\\\\\\\\\\"column\\\\\\\\\\\\\\\": {\\\\\\\\\\\\\\\"type\\\\\\\\\\\\\\\": 2, \\\\\\\\\\\\\\\"details\\\\\\\\\\\\\\\": {\\\\\\\\\\\\\\\"selectedColumn\\\\\\\\\\\\\\\": \\\\\\\\\\\\\\\"fc\\\\\\\\\\\\\\\"}}, \\\\\\\\\\\\\\\"typeProperty\\\\\\\\\\\\\\\": 2}, {\\\\\\\\\\\\\\\"column\\\\\\\\\\\\\\\": {\\\\\\\\\\\\\\\"type\\\\\\\\\\\\\\\": 2, \\\\\\\\\\\\\\\"details\\\\\\\\\\\\\\\": {\\\\\\\\\\\\\\\"selectedColumn\\\\\\\\\\\\\\\": \\\\\\\\\\\\\\\"four_g\\\\\\\\\\\\\\\"}}, \\\\\\\\\\\\\\\"typeProperty\\\\\\\\\\\\\\\": 2}, {\\\\\\\\\\\\\\\"column\\\\\\\\\\\\\\\": {\\\\\\\\\\\\\\\"type\\\\\\\\\\\\\\\": 2, \\\\\\\\\\\\\\\"details\\\\\\\\\\\\\\\": {\\\\\\\\\\\\\\\"selectedColumn\\\\\\\\\\\\\\\": \\\\\\\\\\\\\\\"int_memory\\\\\\\\\\\\\\\"}}, \\\\\\\\\\\\\\\"typeProperty\\\\\\\\\\\\\\\": 2}, {\\\\\\\\\\\\\\\"column\\\\\\\\\\\\\\\": {\\\\\\\\\\\\\\\"type\\\\\\\\\\\\\\\": 2, \\\\\\\\\\\\\\\"details\\\\\\\\\\\\\\\": {\\\\\\\\\\\\\\\"selectedColumn\\\\\\\\\\\\\\\": \\\\\\\\\\\\\\\"m_dep\\\\\\\\\\\\\\\"}}, \\\\\\\\\\\\\\\"typeProperty\\\\\\\\\\\\\\\": 3}, {\\\\\\\\\\\\\\\"column\\\\\\\\\\\\\\\": {\\\\\\\\\\\\\\\"type\\\\\\\\\\\\\\\": 2, \\\\\\\\\\\\\\\"details\\\\\\\\\\\\\\\": {\\\\\\\\\\\\\\\"selectedColumn\\\\\\\\\\\\\\\": \\\\\\\\\\\\\\\"mobile_wt\\\\\\\\\\\\\\\"}}, \\\\\\\\\\\\\\\"typeProperty\\\\\\\\\\\\\\\": 2}, {\\\\\\\\\\\\\\\"column\\\\\\\\\\\\\\\": {\\\\\\\\\\\\\\\"type\\\\\\\\\\\\\\\": 2, \\\\\\\\\\\\\\\"details\\\\\\\\\\\\\\\": {\\\\\\\\\\\\\\\"selectedColumn\\\\\\\\\\\\\\\": \\\\\\\\\\\\\\\"n_cores\\\\\\\\\\\\\\\"}}, \\\\\\\\\\\\\\\"typeProperty\\\\\\\\\\\\\\\": 2}, {\\\\\\\\\\\\\\\"column\\\\\\\\\\\\\\\": {\\\\\\\\\\\\\\\"type\\\\\\\\\\\\\\\": 2, \\\\\\\\\\\\\\\"details\\\\\\\\\\\\\\\": {\\\\\\\\\\\\\\\"selectedColumn\\\\\\\\\\\\\\\": \\\\\\\\\\\\\\\"pc\\\\\\\\\\\\\\\"}}, \\\\\\\\\\\\\\\"typeProperty\\\\\\\\\\\\\\\": 2}, {\\\\\\\\\\\\\\\"column\\\\\\\\\\\\\\\": {\\\\\\\\\\\\\\\"type\\\\\\\\\\\\\\\": 2, \\\\\\\\\\\\\\\"details\\\\\\\\\\\\\\\": {\\\\\\\\\\\\\\\"selectedColumn\\\\\\\\\\\\\\\": \\\\\\\\\\\\\\\"px_height\\\\\\\\\\\\\\\"}}, \\\\\\\\\\\\\\\"typeProperty\\\\\\\\\\\\\\\": 2}, {\\\\\\\\\\\\\\\"column\\\\\\\\\\\\\\\": {\\\\\\\\\\\\\\\"type\\\\\\\\\\\\\\\": 2, \\\\\\\\\\\\\\\"details\\\\\\\\\\\\\\\": {\\\\\\\\\\\\\\\"selectedColumn\\\\\\\\\\\\\\\": \\\\\\\\\\\\\\\"px_width\\\\\\\\\\\\\\\"}}, \\\\\\\\\\\\\\\"typeProperty\\\\\\\\\\\\\\\": 2}, {\\\\\\\\\\\\\\\"column\\\\\\\\\\\\\\\": {\\\\\\\\\\\\\\\"type\\\\\\\\\\\\\\\": 2, \\\\\\\\\\\\\\\"details\\\\\\\\\\\\\\\": {\\\\\\\\\\\\\\\"selectedColumn\\\\\\\\\\\\\\\": \\\\\\\\\\\\\\\"ram\\\\\\\\\\\\\\\"}}, \\\\\\\\\\\\\\\"typeProperty\\\\\\\\\\\\\\\": 2}, {\\\\\\\\\\\\\\\"column\\\\\\\\\\\\\\\": {\\\\\\\\\\\\\\\"type\\\\\\\\\\\\\\\": 2, \\\\\\\\\\\\\\\"details\\\\\\\\\\\\\\\": {\\\\\\\\\\\\\\\"selectedColumn\\\\\\\\\\\\\\\": \\\\\\\\\\\\\\\"sc_h\\\\\\\\\\\\\\\"}}, \\\\\\\\\\\\\\\"typeProperty\\\\\\\\\\\\\\\": 2}, {\\\\\\\\\\\\\\\"column\\\\\\\\\\\\\\\": {\\\\\\\\\\\\\\\"type\\\\\\\\\\\\\\\": 2, \\\\\\\\\\\\\\\"details\\\\\\\\\\\\\\\": {\\\\\\\\\\\\\\\"selectedColumn\\\\\\\\\\\\\\\": \\\\\\\\\\\\\\\"sc_w\\\\\\\\\\\\\\\"}}, \\\\\\\\\\\\\\\"typeProperty\\\\\\\\\\\\\\\": 2}, {\\\\\\\\\\\\\\\"column\\\\\\\\\\\\\\\": {\\\\\\\\\\\\\\\"type\\\\\\\\\\\\\\\": 2, \\\\\\\\\\\\\\\"details\\\\\\\\\\\\\\\": {\\\\\\\\\\\\\\\"selectedColumn\\\\\\\\\\\\\\\": \\\\\\\\\\\\\\\"talk_time\\\\\\\\\\\\\\\"}}, \\\\\\\\\\\\\\\"typeProperty\\\\\\\\\\\\\\\": 2}, {\\\\\\\\\\\\\\\"column\\\\\\\\\\\\\\\": {\\\\\\\\\\\\\\\"type\\\\\\\\\\\\\\\": 2, \\\\\\\\\\\\\\\"details\\\\\\\\\\\\\\\": {\\\\\\\\\\\\\\\"selectedColumn\\\\\\\\\\\\\\\": \\\\\\\\\\\\\\\"three_g\\\\\\\\\\\\\\\"}}, \\\\\\\\\\\\\\\"typeProperty\\\\\\\\\\\\\\\": 2}, {\\\\\\\\\\\\\\\"column\\\\\\\\\\\\\\\": {\\\\\\\\\\\\\\\"type\\\\\\\\\\\\\\\": 2, \\\\\\\\\\\\\\\"details\\\\\\\\\\\\\\\": {\\\\\\\\\\\\\\\"selectedColumn\\\\\\\\\\\\\\\": \\\\\\\\\\\\\\\"touch_screen\\\\\\\\\\\\\\\"}}, \\\\\\\\\\\\\\\"typeProperty\\\\\\\\\\\\\\\": 2}, {\\\\\\\\\\\\\\\"column\\\\\\\\\\\\\\\": {\\\\\\\\\\\\\\\"type\\\\\\\\\\\\\\\": 2, \\\\\\\\\\\\\\\"details\\\\\\\\\\\\\\\": {\\\\\\\\\\\\\\\"selectedColumn\\\\\\\\\\\\\\\": \\\\\\\\\\\\\\\"wifi\\\\\\\\\\\\\\\"}}, \\\\\\\\\\\\\\\"typeProperty\\\\\\\\\\\\\\\": 2}, {\\\\\\\\\\\\\\\"column\\\\\\\\\\\\\\\": {\\\\\\\\\\\\\\\"type\\\\\\\\\\\\\\\": 2, \\\\\\\\\\\\\\\"details\\\\\\\\\\\\\\\": {\\\\\\\\\\\\\\\"selectedColumn\\\\\\\\\\\\\\\": \\\\\\\\\\\\\\\"price_range\\\\\\\\\\\\\\\"}}, \\\\\\\\\\\\\\\"typeProperty\\\\\\\\\\\\\\\": 2}]}, \\\\\\\\\\\\\\\"localData\\\\\\\\\\\\\\\": {}, \\\\\\\\\\\\\\\"isEnabled\\\\\\\\\\\\\\\": true, \\\\\\\\\\\\\\\"name\\\\\\\\\\\\\\\": null, \\\\\\\\\\\\\\\"annotation\\\\\\\\\\\\\\\": null}], \\\\\\\\\\\\\\\"inspectors\\\\\\\\\\\\\\\": [], \\\\\\\\\\\\\\\"meta\\\\\\\\\\\\\\\": {\\\\\\\\\\\\\\\"savedDatasetId\\\\\\\\\\\\\\\": \\\\\\\\\\\\\\\"6398cc1c-e72a-430a-8684-38352d55cbf6\\\\\\\\\\\\\\\", \\\\\\\\\\\\\\\"datasetType\\\\\\\\\\\\\\\": \\\\\\\\\\\\\\\"tabular\\\\\\\\\\\\\\\", \\\\\\\\\\\\\\\"subscriptionId\\\\\\\\\\\\\\\": \\\\\\\\\\\\\\\"f5091c60-1c3c-430f-8d81-d802f6bf2414\\\\\\\\\\\\\\\", \\\\\\\\\\\\\\\"workspaceId\\\\\\\\\\\\\\\": \\\\\\\\\\\\\\\"0ba91f0a-2220-463c-8a8d-41081a563dea\\\\\\\\\\\\\\\", \\\\\\\\\\\\\\\"workspaceLocation\\\\\\\\\\\\\\\": \\\\\\\\\\\\\\\"southcentralus\\\\\\\\\\\\\\\"}}\\\\\\\", \\\\\\\"activities\\\\\\\": 0}\", \"EnableSubsampling\": null, \"runTemplate\": \"AutoML\", \"azureml.runsource\": \"automl\", \"display_task_type\": \"classification\", \"dependencies_versions\": \"{\\\"azureml-widgets\\\": \\\"1.24.0\\\", \\\"azureml-train\\\": \\\"1.24.0\\\", \\\"azureml-train-restclients-hyperdrive\\\": \\\"1.24.0\\\", \\\"azureml-train-core\\\": \\\"1.24.0\\\", \\\"azureml-train-automl\\\": \\\"1.24.0\\\", \\\"azureml-train-automl-runtime\\\": \\\"1.24.0\\\", \\\"azureml-train-automl-client\\\": \\\"1.24.0\\\", \\\"azureml-tensorboard\\\": \\\"1.24.0\\\", \\\"azureml-telemetry\\\": \\\"1.24.0\\\", \\\"azureml-sdk\\\": \\\"1.24.0\\\", \\\"azureml-samples\\\": \\\"0+unknown\\\", \\\"azureml-pipeline\\\": \\\"1.24.0\\\", \\\"azureml-pipeline-steps\\\": \\\"1.24.0\\\", \\\"azureml-pipeline-core\\\": \\\"1.24.0\\\", \\\"azureml-opendatasets\\\": \\\"1.24.0\\\", \\\"azureml-model-management-sdk\\\": \\\"1.0.1b6.post1\\\", \\\"azureml-mlflow\\\": \\\"1.24.0\\\", \\\"azureml-interpret\\\": \\\"1.24.0\\\", \\\"azureml-explain-model\\\": \\\"1.24.0\\\", \\\"azureml-defaults\\\": \\\"1.24.0\\\", \\\"azureml-dataset-runtime\\\": \\\"1.24.0\\\", \\\"azureml-dataprep\\\": \\\"2.11.1\\\", \\\"azureml-dataprep-rslex\\\": \\\"1.9.0\\\", \\\"azureml-dataprep-native\\\": \\\"30.0.0\\\", \\\"azureml-datadrift\\\": \\\"1.24.0\\\", \\\"azureml-core\\\": \\\"1.24.0\\\", \\\"azureml-contrib-services\\\": \\\"1.24.0\\\", \\\"azureml-contrib-server\\\": \\\"1.24.0\\\", \\\"azureml-contrib-reinforcementlearning\\\": \\\"1.24.0\\\", \\\"azureml-contrib-pipeline-steps\\\": \\\"1.24.0\\\", \\\"azureml-contrib-notebook\\\": \\\"1.24.0\\\", \\\"azureml-contrib-gbdt\\\": \\\"1.24.0\\\", \\\"azureml-contrib-fairness\\\": \\\"1.24.0\\\", \\\"azureml-contrib-dataset\\\": \\\"1.24.0\\\", \\\"azureml-cli-common\\\": \\\"1.24.0\\\", \\\"azureml-automl-runtime\\\": \\\"1.24.0\\\", \\\"azureml-automl-dnn-nlp\\\": \\\"1.24.0\\\", \\\"azureml-automl-core\\\": \\\"1.24.0\\\", \\\"azureml-accel-models\\\": \\\"1.24.0\\\"}\", \"_aml_system_scenario_identification\": \"Remote.Parent\", \"ClientType\": \"SDK\", \"environment_cpu_name\": \"AzureML-AutoML\", \"environment_cpu_label\": \"prod\", \"environment_gpu_name\": \"AzureML-AutoML-GPU\", \"environment_gpu_label\": \"prod\", \"root_attribution\": \"automl\", \"attribution\": \"AutoML\", \"Orchestrator\": \"AutoML\", \"CancelUri\": \"https://southcentralus.experiments.azureml.net/jasmine/v1.0/subscriptions/f5091c60-1c3c-430f-8d81-d802f6bf2414/resourceGroups/aml-quickstarts-141054/providers/Microsoft.MachineLearningServices/workspaces/quick-starts-ws-141054/experimentids/43fed0bb-8f13-455e-b792-bcfd4c245add/cancel/AutoML_2e3ecec9-8b98-46e6-8caf-ebe839cb45fc\", \"ClientSdkVersion\": \"1.24.0\", \"snapshotId\": \"00000000-0000-0000-0000-000000000000\", \"SetupRunId\": \"AutoML_2e3ecec9-8b98-46e6-8caf-ebe839cb45fc_setup\", \"SetupRunContainerId\": \"dcid.AutoML_2e3ecec9-8b98-46e6-8caf-ebe839cb45fc_setup\", \"FeaturizationRunJsonPath\": \"featurizer_container.json\", \"FeaturizationRunId\": \"AutoML_2e3ecec9-8b98-46e6-8caf-ebe839cb45fc_featurize\", \"ProblemInfoJsonString\": \"{\\\"dataset_num_categorical\\\": 0, \\\"is_sparse\\\": true, \\\"subsampling\\\": false, \\\"dataset_classes\\\": 4, \\\"dataset_features\\\": 116, \\\"dataset_samples\\\": 2000, \\\"single_frequency_class_detected\\\": false}\", \"ModelExplainRunId\": \"AutoML_2e3ecec9-8b98-46e6-8caf-ebe839cb45fc_ModelExplain\"}, \"tags\": {\"model_explain_run\": \"best_run\", \"_aml_system_azureml.automlComponent\": \"AutoML\", \"pipeline_id\": \"\", \"score\": \"\", \"predicted_cost\": \"\", \"fit_time\": \"\", \"training_percent\": \"\", \"iteration\": \"\", \"run_preprocessor\": \"\", \"run_algorithm\": \"\", \"dynamic_whitelisting_iterations\": \"<25>;<30>;<35>;\", \"automl_best_child_run_id\": \"AutoML_2e3ecec9-8b98-46e6-8caf-ebe839cb45fc_36\", \"model_explain_best_run_child_id\": \"AutoML_2e3ecec9-8b98-46e6-8caf-ebe839cb45fc_36\"}, \"end_time_utc\": \"2021-03-21T18:46:39.788851Z\", \"status\": \"Completed\", \"log_files\": {}, \"log_groups\": [], \"run_duration\": \"0:25:54\", \"run_number\": \"1\", \"run_queued_details\": {\"status\": \"Completed\", \"details\": null}}, \"child_runs\": [{\"run_id\": \"AutoML_2e3ecec9-8b98-46e6-8caf-ebe839cb45fc_3\", \"run_number\": 5, \"metric\": null, \"status\": \"Completed\", \"run_type\": \"azureml.scriptrun\", \"training_percent\": \"100\", \"start_time\": \"2021-03-21T18:31:29.6763Z\", \"end_time\": \"2021-03-21T18:32:36.931432Z\", \"created_time\": \"2021-03-21T18:30:06.496777Z\", \"created_time_dt\": \"2021-03-21T18:30:06.496777Z\", \"duration\": \"0:02:30\", \"iteration\": \"3\", \"goal\": \"accuracy_max\", \"run_name\": \"MaxAbsScaler, RandomForest\", \"run_properties\": \"copy=True\", \"primary_metric\": 0.652, \"best_metric\": 0.9075}, {\"run_id\": \"AutoML_2e3ecec9-8b98-46e6-8caf-ebe839cb45fc_1\", \"run_number\": 6, \"metric\": null, \"status\": \"Completed\", \"run_type\": \"azureml.scriptrun\", \"training_percent\": \"100\", \"start_time\": \"2021-03-21T18:33:41.817365Z\", \"end_time\": \"2021-03-21T18:37:04.631584Z\", \"created_time\": \"2021-03-21T18:30:06.525309Z\", \"created_time_dt\": \"2021-03-21T18:30:06.525309Z\", \"duration\": \"0:06:58\", \"iteration\": \"1\", \"goal\": \"accuracy_max\", \"run_name\": \"MaxAbsScaler, XGBoostClassifier\", \"run_properties\": \"copy=True\", \"primary_metric\": 0.903, \"best_metric\": 0.9075}, {\"run_id\": \"AutoML_2e3ecec9-8b98-46e6-8caf-ebe839cb45fc_2\", \"run_number\": 7, \"metric\": null, \"status\": \"Completed\", \"run_type\": \"azureml.scriptrun\", \"training_percent\": \"100\", \"start_time\": \"2021-03-21T18:32:53.255725Z\", \"end_time\": \"2021-03-21T18:33:42.770458Z\", \"created_time\": \"2021-03-21T18:30:06.547298Z\", \"created_time_dt\": \"2021-03-21T18:30:06.547298Z\", \"duration\": \"0:03:36\", \"iteration\": \"2\", \"goal\": \"accuracy_max\", \"run_name\": \"MaxAbsScaler, RandomForest\", \"run_properties\": \"copy=True\", \"primary_metric\": 0.715, \"best_metric\": 0.9075}, {\"run_id\": \"AutoML_2e3ecec9-8b98-46e6-8caf-ebe839cb45fc_0\", \"run_number\": 8, \"metric\": null, \"status\": \"Completed\", \"run_type\": \"azureml.scriptrun\", \"training_percent\": \"100\", \"start_time\": \"2021-03-21T18:30:19.915051Z\", \"end_time\": \"2021-03-21T18:31:14.122496Z\", \"created_time\": \"2021-03-21T18:30:06.778729Z\", \"created_time_dt\": \"2021-03-21T18:30:06.778729Z\", \"duration\": \"0:01:07\", \"iteration\": \"0\", \"goal\": \"accuracy_max\", \"run_name\": \"MaxAbsScaler, LightGBM\", \"run_properties\": \"copy=True\", \"primary_metric\": 0.9075, \"best_metric\": 0.9075}, {\"run_id\": \"AutoML_2e3ecec9-8b98-46e6-8caf-ebe839cb45fc_4\", \"run_number\": 9, \"metric\": null, \"status\": \"Completed\", \"run_type\": \"azureml.scriptrun\", \"training_percent\": \"100\", \"start_time\": \"2021-03-21T18:33:42.373933Z\", \"end_time\": \"2021-03-21T18:37:13.381805Z\", \"created_time\": \"2021-03-21T18:31:16.332985Z\", \"created_time_dt\": \"2021-03-21T18:31:16.332985Z\", \"duration\": \"0:05:57\", \"iteration\": \"4\", \"goal\": \"accuracy_max\", \"run_name\": \"MaxAbsScaler, RandomForest\", \"run_properties\": \"copy=True\", \"primary_metric\": 0.708, \"best_metric\": 0.9075}, {\"run_id\": \"AutoML_2e3ecec9-8b98-46e6-8caf-ebe839cb45fc_5\", \"run_number\": 10, \"metric\": null, \"status\": \"Completed\", \"run_type\": \"azureml.scriptrun\", \"training_percent\": \"100\", \"start_time\": \"2021-03-21T18:33:43.541314Z\", \"end_time\": \"2021-03-21T18:37:06.363358Z\", \"created_time\": \"2021-03-21T18:32:40.778078Z\", \"created_time_dt\": \"2021-03-21T18:32:40.778078Z\", \"duration\": \"0:04:25\", \"iteration\": \"5\", \"goal\": \"accuracy_max\", \"run_name\": \"MaxAbsScaler, RandomForest\", \"run_properties\": \"copy=True\", \"primary_metric\": 0.672, \"best_metric\": 0.9075}, {\"run_id\": \"AutoML_2e3ecec9-8b98-46e6-8caf-ebe839cb45fc_6\", \"run_number\": 11, \"metric\": null, \"status\": \"Completed\", \"run_type\": \"azureml.scriptrun\", \"training_percent\": \"100\", \"start_time\": \"2021-03-21T18:33:59.639057Z\", \"end_time\": \"2021-03-21T18:34:54.965706Z\", \"created_time\": \"2021-03-21T18:33:45.598379Z\", \"created_time_dt\": \"2021-03-21T18:33:45.598379Z\", \"duration\": \"0:01:09\", \"iteration\": \"6\", \"goal\": \"accuracy_max\", \"run_name\": \"SparseNormalizer, XGBoostClassifier\", \"run_properties\": \"<azureml.automl.runtime.shared.model_wrappers.SparseNormalizer object at 0x7f3cba514cf8\", \"primary_metric\": 0.921, \"best_metric\": 0.921}, {\"run_id\": \"AutoML_2e3ecec9-8b98-46e6-8caf-ebe839cb45fc_7\", \"run_number\": 12, \"metric\": null, \"status\": \"Completed\", \"run_type\": \"azureml.scriptrun\", \"training_percent\": \"100\", \"start_time\": \"2021-03-21T18:35:11.217346Z\", \"end_time\": \"2021-03-21T18:36:11.459862Z\", \"created_time\": \"2021-03-21T18:34:57.808571Z\", \"created_time_dt\": \"2021-03-21T18:34:57.808571Z\", \"duration\": \"0:01:13\", \"iteration\": \"7\", \"goal\": \"accuracy_max\", \"run_name\": \"MaxAbsScaler, LogisticRegression\", \"run_properties\": \"copy=True\", \"primary_metric\": 0.765, \"best_metric\": 0.921}, {\"run_id\": \"AutoML_2e3ecec9-8b98-46e6-8caf-ebe839cb45fc_8\", \"run_number\": 13, \"metric\": null, \"status\": \"Completed\", \"run_type\": \"azureml.scriptrun\", \"training_percent\": \"100\", \"start_time\": \"2021-03-21T18:36:26.480056Z\", \"end_time\": \"2021-03-21T18:37:15.07198Z\", \"created_time\": \"2021-03-21T18:36:14.089981Z\", \"created_time_dt\": \"2021-03-21T18:36:14.089981Z\", \"duration\": \"0:01:00\", \"iteration\": \"8\", \"goal\": \"accuracy_max\", \"run_name\": \"SparseNormalizer, XGBoostClassifier\", \"run_properties\": \"<azureml.automl.runtime.shared.model_wrappers.SparseNormalizer object at 0x7fe665814d30\", \"primary_metric\": 0.738, \"best_metric\": 0.921}, {\"run_id\": \"AutoML_2e3ecec9-8b98-46e6-8caf-ebe839cb45fc_9\", \"run_number\": 14, \"metric\": null, \"status\": \"Completed\", \"run_type\": \"azureml.scriptrun\", \"training_percent\": \"100\", \"start_time\": \"2021-03-21T18:37:19.207438Z\", \"end_time\": \"2021-03-21T18:38:13.819259Z\", \"created_time\": \"2021-03-21T18:37:07.08095Z\", \"created_time_dt\": \"2021-03-21T18:37:07.08095Z\", \"duration\": \"0:01:06\", \"iteration\": \"9\", \"goal\": \"accuracy_max\", \"run_name\": \"StandardScalerWrapper, RandomForest\", \"run_properties\": \"<azureml.automl.runtime.shared.model_wrappers.StandardScalerWrapper object at 0x7f27da2ea6a0\", \"primary_metric\": 0.788, \"best_metric\": 0.921}, {\"run_id\": \"AutoML_2e3ecec9-8b98-46e6-8caf-ebe839cb45fc_10\", \"run_number\": 15, \"metric\": null, \"status\": \"Completed\", \"run_type\": \"azureml.scriptrun\", \"training_percent\": \"100\", \"start_time\": \"2021-03-21T18:37:22.149549Z\", \"end_time\": \"2021-03-21T18:38:09.719731Z\", \"created_time\": \"2021-03-21T18:37:11.619171Z\", \"created_time_dt\": \"2021-03-21T18:37:11.619171Z\", \"duration\": \"0:00:58\", \"iteration\": \"10\", \"goal\": \"accuracy_max\", \"run_name\": \"MaxAbsScaler, LightGBM\", \"run_properties\": \"copy=True\", \"primary_metric\": 0.7765, \"best_metric\": 0.921}, {\"run_id\": \"AutoML_2e3ecec9-8b98-46e6-8caf-ebe839cb45fc_11\", \"run_number\": 16, \"metric\": null, \"status\": \"Completed\", \"run_type\": \"azureml.scriptrun\", \"training_percent\": \"100\", \"start_time\": \"2021-03-21T18:37:28.582729Z\", \"end_time\": \"2021-03-21T18:38:27.079217Z\", \"created_time\": \"2021-03-21T18:37:18.643663Z\", \"created_time_dt\": \"2021-03-21T18:37:18.643663Z\", \"duration\": \"0:01:08\", \"iteration\": \"11\", \"goal\": \"accuracy_max\", \"run_name\": \"MaxAbsScaler, RandomForest\", \"run_properties\": \"copy=True\", \"primary_metric\": 0.761, \"best_metric\": 0.921}, {\"run_id\": \"AutoML_2e3ecec9-8b98-46e6-8caf-ebe839cb45fc_12\", \"run_number\": 17, \"metric\": null, \"status\": \"Completed\", \"run_type\": \"azureml.scriptrun\", \"training_percent\": \"100\", \"start_time\": \"2021-03-21T18:37:28.071317Z\", \"end_time\": \"2021-03-21T18:38:20.753086Z\", \"created_time\": \"2021-03-21T18:37:18.673404Z\", \"created_time_dt\": \"2021-03-21T18:37:18.673404Z\", \"duration\": \"0:01:02\", \"iteration\": \"12\", \"goal\": \"accuracy_max\", \"run_name\": \"MaxAbsScaler, GradientBoosting\", \"run_properties\": \"copy=True\", \"primary_metric\": 0.8005, \"best_metric\": 0.921}, {\"run_id\": \"AutoML_2e3ecec9-8b98-46e6-8caf-ebe839cb45fc_13\", \"run_number\": 18, \"metric\": null, \"status\": \"Completed\", \"run_type\": \"azureml.scriptrun\", \"training_percent\": \"100\", \"start_time\": \"2021-03-21T18:38:23.286738Z\", \"end_time\": \"2021-03-21T18:39:22.858171Z\", \"created_time\": \"2021-03-21T18:38:12.29648Z\", \"created_time_dt\": \"2021-03-21T18:38:12.29648Z\", \"duration\": \"0:01:10\", \"iteration\": \"13\", \"goal\": \"accuracy_max\", \"run_name\": \"MaxAbsScaler, ExtremeRandomTrees\", \"run_properties\": \"copy=True\", \"primary_metric\": 0.805, \"best_metric\": 0.921}, {\"run_id\": \"AutoML_2e3ecec9-8b98-46e6-8caf-ebe839cb45fc_14\", \"run_number\": 19, \"metric\": null, \"status\": \"Completed\", \"run_type\": \"azureml.scriptrun\", \"training_percent\": \"100\", \"start_time\": \"2021-03-21T18:38:29.761429Z\", \"end_time\": \"2021-03-21T18:39:16.904622Z\", \"created_time\": \"2021-03-21T18:38:18.236555Z\", \"created_time_dt\": \"2021-03-21T18:38:18.236555Z\", \"duration\": \"0:00:58\", \"iteration\": \"14\", \"goal\": \"accuracy_max\", \"run_name\": \"SparseNormalizer, XGBoostClassifier\", \"run_properties\": \"<azureml.automl.runtime.shared.model_wrappers.SparseNormalizer object at 0x7fd83ff2b9b0\", \"primary_metric\": 0.8705, \"best_metric\": 0.921}, {\"run_id\": \"AutoML_2e3ecec9-8b98-46e6-8caf-ebe839cb45fc_15\", \"run_number\": 20, \"metric\": null, \"status\": \"Completed\", \"run_type\": \"azureml.scriptrun\", \"training_percent\": \"100\", \"start_time\": \"2021-03-21T18:38:35.848484Z\", \"end_time\": \"2021-03-21T18:39:26.36141Z\", \"created_time\": \"2021-03-21T18:38:24.04997Z\", \"created_time_dt\": \"2021-03-21T18:38:24.04997Z\", \"duration\": \"0:01:02\", \"iteration\": \"15\", \"goal\": \"accuracy_max\", \"run_name\": \"MaxAbsScaler, LightGBM\", \"run_properties\": \"copy=True\", \"primary_metric\": 0.7795, \"best_metric\": 0.921}, {\"run_id\": \"AutoML_2e3ecec9-8b98-46e6-8caf-ebe839cb45fc_16\", \"run_number\": 21, \"metric\": null, \"status\": \"Completed\", \"run_type\": \"azureml.scriptrun\", \"training_percent\": \"100\", \"start_time\": \"2021-03-21T18:38:40.766163Z\", \"end_time\": \"2021-03-21T18:39:39.933262Z\", \"created_time\": \"2021-03-21T18:38:30.785456Z\", \"created_time_dt\": \"2021-03-21T18:38:30.785456Z\", \"duration\": \"0:01:09\", \"iteration\": \"16\", \"goal\": \"accuracy_max\", \"run_name\": \"SparseNormalizer, XGBoostClassifier\", \"run_properties\": \"<azureml.automl.runtime.shared.model_wrappers.SparseNormalizer object at 0x7f03122f03c8\", \"primary_metric\": 0.916, \"best_metric\": 0.921}, {\"run_id\": \"AutoML_2e3ecec9-8b98-46e6-8caf-ebe839cb45fc_17\", \"run_number\": 22, \"metric\": null, \"status\": \"Completed\", \"run_type\": \"azureml.scriptrun\", \"training_percent\": \"100\", \"start_time\": \"2021-03-21T18:39:32.881635Z\", \"end_time\": \"2021-03-21T18:40:24.407069Z\", \"created_time\": \"2021-03-21T18:39:18.684677Z\", \"created_time_dt\": \"2021-03-21T18:39:18.684677Z\", \"duration\": \"0:01:05\", \"iteration\": \"17\", \"goal\": \"accuracy_max\", \"run_name\": \"StandardScalerWrapper, XGBoostClassifier\", \"run_properties\": \"<azureml.automl.runtime.shared.model_wrappers.StandardScalerWrapper object at 0x7effd1d62518\", \"primary_metric\": 0.823, \"best_metric\": 0.921}, {\"run_id\": \"AutoML_2e3ecec9-8b98-46e6-8caf-ebe839cb45fc_18\", \"run_number\": 23, \"metric\": null, \"status\": \"Completed\", \"run_type\": \"azureml.scriptrun\", \"training_percent\": \"100\", \"start_time\": \"2021-03-21T18:39:35.953198Z\", \"end_time\": \"2021-03-21T18:40:28.474582Z\", \"created_time\": \"2021-03-21T18:39:24.73331Z\", \"created_time_dt\": \"2021-03-21T18:39:24.73331Z\", \"duration\": \"0:01:03\", \"iteration\": \"18\", \"goal\": \"accuracy_max\", \"run_name\": \"MaxAbsScaler, LightGBM\", \"run_properties\": \"copy=True\", \"primary_metric\": 0.764, \"best_metric\": 0.921}, {\"run_id\": \"AutoML_2e3ecec9-8b98-46e6-8caf-ebe839cb45fc_19\", \"run_number\": 24, \"metric\": null, \"status\": \"Completed\", \"run_type\": \"azureml.scriptrun\", \"training_percent\": \"100\", \"start_time\": \"2021-03-21T18:39:42.34253Z\", \"end_time\": \"2021-03-21T18:40:33.758106Z\", \"created_time\": \"2021-03-21T18:39:29.791947Z\", \"created_time_dt\": \"2021-03-21T18:39:29.791947Z\", \"duration\": \"0:01:03\", \"iteration\": \"19\", \"goal\": \"accuracy_max\", \"run_name\": \"MaxAbsScaler, LogisticRegression\", \"run_properties\": \"copy=True\", \"primary_metric\": 0.7125, \"best_metric\": 0.921}, {\"run_id\": \"AutoML_2e3ecec9-8b98-46e6-8caf-ebe839cb45fc_20\", \"run_number\": 25, \"metric\": null, \"status\": \"Completed\", \"run_type\": \"azureml.scriptrun\", \"training_percent\": \"100\", \"start_time\": \"2021-03-21T18:39:55.768048Z\", \"end_time\": \"2021-03-21T18:40:54.130151Z\", \"created_time\": \"2021-03-21T18:39:41.672109Z\", \"created_time_dt\": \"2021-03-21T18:39:41.672109Z\", \"duration\": \"0:01:12\", \"iteration\": \"20\", \"goal\": \"accuracy_max\", \"run_name\": \"MaxAbsScaler, LightGBM\", \"run_properties\": \"copy=True\", \"primary_metric\": 0.904, \"best_metric\": 0.921}, {\"run_id\": \"AutoML_2e3ecec9-8b98-46e6-8caf-ebe839cb45fc_21\", \"run_number\": 26, \"metric\": null, \"status\": \"Completed\", \"run_type\": \"azureml.scriptrun\", \"training_percent\": \"100\", \"start_time\": \"2021-03-21T18:40:40.814709Z\", \"end_time\": \"2021-03-21T18:41:38.83055Z\", \"created_time\": \"2021-03-21T18:40:26.174395Z\", \"created_time_dt\": \"2021-03-21T18:40:26.174395Z\", \"duration\": \"0:01:12\", \"iteration\": \"21\", \"goal\": \"accuracy_max\", \"run_name\": \"SparseNormalizer, LightGBM\", \"run_properties\": \"<azureml.automl.runtime.shared.model_wrappers.SparseNormalizer object at 0x7f1a8adc3e48\", \"primary_metric\": 0.9015, \"best_metric\": 0.921}, {\"run_id\": \"AutoML_2e3ecec9-8b98-46e6-8caf-ebe839cb45fc_22\", \"run_number\": 27, \"metric\": null, \"status\": \"Completed\", \"run_type\": \"azureml.scriptrun\", \"training_percent\": \"100\", \"start_time\": \"2021-03-21T18:40:42.682617Z\", \"end_time\": \"2021-03-21T18:41:40.127599Z\", \"created_time\": \"2021-03-21T18:40:31.152123Z\", \"created_time_dt\": \"2021-03-21T18:40:31.152123Z\", \"duration\": \"0:01:08\", \"iteration\": \"22\", \"goal\": \"accuracy_max\", \"run_name\": \"SparseNormalizer, LightGBM\", \"run_properties\": \"<azureml.automl.runtime.shared.model_wrappers.SparseNormalizer object at 0x7f7a6291b9e8\", \"primary_metric\": 0.8505, \"best_metric\": 0.921}, {\"run_id\": \"AutoML_2e3ecec9-8b98-46e6-8caf-ebe839cb45fc_23\", \"run_number\": 28, \"metric\": null, \"status\": \"Completed\", \"run_type\": \"azureml.scriptrun\", \"training_percent\": \"100\", \"start_time\": \"2021-03-21T18:40:47.33093Z\", \"end_time\": \"2021-03-21T18:41:44.916816Z\", \"created_time\": \"2021-03-21T18:40:35.611828Z\", \"created_time_dt\": \"2021-03-21T18:40:35.611828Z\", \"duration\": \"0:01:09\", \"iteration\": \"23\", \"goal\": \"accuracy_max\", \"run_name\": \"SparseNormalizer, XGBoostClassifier\", \"run_properties\": \"<azureml.automl.runtime.shared.model_wrappers.SparseNormalizer object at 0x7f0ca3224a58\", \"primary_metric\": 0.909, \"best_metric\": 0.921}, {\"run_id\": \"AutoML_2e3ecec9-8b98-46e6-8caf-ebe839cb45fc_24\", \"run_number\": 29, \"metric\": null, \"status\": \"Completed\", \"run_type\": \"azureml.scriptrun\", \"training_percent\": \"100\", \"start_time\": \"2021-03-21T18:41:07.518074Z\", \"end_time\": \"2021-03-21T18:41:57.807903Z\", \"created_time\": \"2021-03-21T18:40:56.160827Z\", \"created_time_dt\": \"2021-03-21T18:40:56.160827Z\", \"duration\": \"0:01:01\", \"iteration\": \"24\", \"goal\": \"accuracy_max\", \"run_name\": \"StandardScalerWrapper, XGBoostClassifier\", \"run_properties\": \"<azureml.automl.runtime.shared.model_wrappers.StandardScalerWrapper object at 0x7ff710a37278\", \"primary_metric\": 0.7325, \"best_metric\": 0.921}, {\"run_id\": \"AutoML_2e3ecec9-8b98-46e6-8caf-ebe839cb45fc_25\", \"run_number\": 30, \"metric\": null, \"status\": \"Completed\", \"run_type\": \"azureml.scriptrun\", \"training_percent\": \"100\", \"start_time\": \"2021-03-21T18:41:53.978768Z\", \"end_time\": \"2021-03-21T18:42:48.036841Z\", \"created_time\": \"2021-03-21T18:41:41.587688Z\", \"created_time_dt\": \"2021-03-21T18:41:41.587688Z\", \"duration\": \"0:01:06\", \"iteration\": \"25\", \"goal\": \"accuracy_max\", \"run_name\": \"StandardScalerWrapper, XGBoostClassifier\", \"run_properties\": \"<azureml.automl.runtime.shared.model_wrappers.StandardScalerWrapper object at 0x7f96c79b3f60\", \"primary_metric\": 0.2265, \"best_metric\": 0.921}, {\"run_id\": \"AutoML_2e3ecec9-8b98-46e6-8caf-ebe839cb45fc_26\", \"run_number\": 31, \"metric\": null, \"status\": \"Completed\", \"run_type\": \"azureml.scriptrun\", \"training_percent\": \"100\", \"start_time\": \"2021-03-21T18:41:54.179523Z\", \"end_time\": \"2021-03-21T18:43:03.465182Z\", \"created_time\": \"2021-03-21T18:41:45.031158Z\", \"created_time_dt\": \"2021-03-21T18:41:45.031158Z\", \"duration\": \"0:01:18\", \"iteration\": \"26\", \"goal\": \"accuracy_max\", \"run_name\": \"SparseNormalizer, XGBoostClassifier\", \"run_properties\": \"<azureml.automl.runtime.shared.model_wrappers.SparseNormalizer object at 0x7f18bcee5d30\", \"primary_metric\": 0.902, \"best_metric\": 0.921}, {\"run_id\": \"AutoML_2e3ecec9-8b98-46e6-8caf-ebe839cb45fc_27\", \"run_number\": 32, \"metric\": null, \"status\": \"Completed\", \"run_type\": \"azureml.scriptrun\", \"training_percent\": \"100\", \"start_time\": \"2021-03-21T18:42:00.924413Z\", \"end_time\": \"2021-03-21T18:43:04.485568Z\", \"created_time\": \"2021-03-21T18:41:48.302089Z\", \"created_time_dt\": \"2021-03-21T18:41:48.302089Z\", \"duration\": \"0:01:16\", \"iteration\": \"27\", \"goal\": \"accuracy_max\", \"run_name\": \"SparseNormalizer, XGBoostClassifier\", \"run_properties\": \"<azureml.automl.runtime.shared.model_wrappers.SparseNormalizer object at 0x7efceb791f28\", \"primary_metric\": 0.771, \"best_metric\": 0.921}, {\"run_id\": \"AutoML_2e3ecec9-8b98-46e6-8caf-ebe839cb45fc_28\", \"run_number\": 33, \"metric\": null, \"status\": \"Completed\", \"run_type\": \"azureml.scriptrun\", \"training_percent\": \"100\", \"start_time\": \"2021-03-21T18:42:12.014837Z\", \"end_time\": \"2021-03-21T18:43:25.834508Z\", \"created_time\": \"2021-03-21T18:41:59.654974Z\", \"created_time_dt\": \"2021-03-21T18:41:59.654974Z\", \"duration\": \"0:01:26\", \"iteration\": \"28\", \"goal\": \"accuracy_max\", \"run_name\": \"SparseNormalizer, XGBoostClassifier\", \"run_properties\": \"<azureml.automl.runtime.shared.model_wrappers.SparseNormalizer object at 0x7f653b9753c8\", \"primary_metric\": 0.8515, \"best_metric\": 0.921}, {\"run_id\": \"AutoML_2e3ecec9-8b98-46e6-8caf-ebe839cb45fc_29\", \"run_number\": 34, \"metric\": null, \"status\": \"Completed\", \"run_type\": \"azureml.scriptrun\", \"training_percent\": \"100\", \"start_time\": \"2021-03-21T18:43:04.572152Z\", \"end_time\": \"2021-03-21T18:44:04.828595Z\", \"created_time\": \"2021-03-21T18:42:50.850725Z\", \"created_time_dt\": \"2021-03-21T18:42:50.850725Z\", \"duration\": \"0:01:13\", \"iteration\": \"29\", \"goal\": \"accuracy_max\", \"run_name\": \"StandardScalerWrapper, XGBoostClassifier\", \"run_properties\": \"<azureml.automl.runtime.shared.model_wrappers.StandardScalerWrapper object at 0x7f9b1db17f28\", \"primary_metric\": 0.8605, \"best_metric\": 0.921}, {\"run_id\": \"AutoML_2e3ecec9-8b98-46e6-8caf-ebe839cb45fc_30\", \"run_number\": 35, \"metric\": null, \"status\": \"Completed\", \"run_type\": \"azureml.scriptrun\", \"training_percent\": \"100\", \"start_time\": \"2021-03-21T18:43:16.884255Z\", \"end_time\": \"2021-03-21T18:44:08.972826Z\", \"created_time\": \"2021-03-21T18:43:06.990516Z\", \"created_time_dt\": \"2021-03-21T18:43:06.990516Z\", \"duration\": \"0:01:01\", \"iteration\": \"30\", \"goal\": \"accuracy_max\", \"run_name\": \"SparseNormalizer, XGBoostClassifier\", \"run_properties\": \"<azureml.automl.runtime.shared.model_wrappers.SparseNormalizer object at 0x7f393487ddd8\", \"primary_metric\": 0.9055, \"best_metric\": 0.921}, {\"run_id\": \"AutoML_2e3ecec9-8b98-46e6-8caf-ebe839cb45fc_31\", \"run_number\": 36, \"metric\": null, \"status\": \"Completed\", \"run_type\": \"azureml.scriptrun\", \"training_percent\": \"100\", \"start_time\": \"2021-03-21T18:43:24.914398Z\", \"end_time\": \"2021-03-21T18:44:10.002736Z\", \"created_time\": \"2021-03-21T18:43:13.051138Z\", \"created_time_dt\": \"2021-03-21T18:43:13.051138Z\", \"duration\": \"0:00:56\", \"iteration\": \"31\", \"goal\": \"accuracy_max\", \"run_name\": \"SparseNormalizer, RandomForest\", \"run_properties\": \"<azureml.automl.runtime.shared.model_wrappers.SparseNormalizer object at 0x7feb61ba7ef0\", \"primary_metric\": 0.87, \"best_metric\": 0.921}, {\"run_id\": \"AutoML_2e3ecec9-8b98-46e6-8caf-ebe839cb45fc_32\", \"run_number\": 37, \"metric\": null, \"status\": \"Completed\", \"run_type\": \"azureml.scriptrun\", \"training_percent\": \"100\", \"start_time\": \"2021-03-21T18:43:38.884458Z\", \"end_time\": \"2021-03-21T18:44:30.248009Z\", \"created_time\": \"2021-03-21T18:43:27.483135Z\", \"created_time_dt\": \"2021-03-21T18:43:27.483135Z\", \"duration\": \"0:01:02\", \"iteration\": \"32\", \"goal\": \"accuracy_max\", \"run_name\": \"StandardScalerWrapper, XGBoostClassifier\", \"run_properties\": \"<azureml.automl.runtime.shared.model_wrappers.StandardScalerWrapper object at 0x7f12462979b0\", \"primary_metric\": 0.892, \"best_metric\": 0.921}, {\"run_id\": \"AutoML_2e3ecec9-8b98-46e6-8caf-ebe839cb45fc_33\", \"run_number\": 38, \"metric\": null, \"status\": \"Canceled\", \"run_type\": \"azureml.scriptrun\", \"training_percent\": \"100\", \"start_time\": \"2021-03-21T18:44:19.354458Z\", \"end_time\": \"2021-03-21T18:44:38.442549Z\", \"created_time\": \"2021-03-21T18:44:07.501098Z\", \"created_time_dt\": \"2021-03-21T18:44:07.501098Z\", \"duration\": \"0:00:30\", \"iteration\": \"33\", \"goal\": null, \"run_name\": \"Canceled\", \"run_properties\": null}, {\"run_id\": \"AutoML_2e3ecec9-8b98-46e6-8caf-ebe839cb45fc_34\", \"run_number\": 39, \"metric\": null, \"status\": \"Canceled\", \"run_type\": \"azureml.scriptrun\", \"training_percent\": \"100\", \"start_time\": \"2021-03-21T18:44:24.361277Z\", \"end_time\": \"2021-03-21T18:44:39.029776Z\", \"created_time\": \"2021-03-21T18:44:10.987812Z\", \"created_time_dt\": \"2021-03-21T18:44:10.987812Z\", \"duration\": \"0:00:28\", \"iteration\": \"34\", \"goal\": null, \"run_name\": \"Canceled\", \"run_properties\": null}, {\"run_id\": \"AutoML_2e3ecec9-8b98-46e6-8caf-ebe839cb45fc_35\", \"run_number\": 40, \"metric\": null, \"status\": \"Canceled\", \"run_type\": \"azureml.scriptrun\", \"training_percent\": \"100\", \"start_time\": \"2021-03-21T18:44:23.960471Z\", \"end_time\": \"2021-03-21T18:44:40.367686Z\", \"created_time\": \"2021-03-21T18:44:15.086853Z\", \"created_time_dt\": \"2021-03-21T18:44:15.086853Z\", \"duration\": \"0:00:25\", \"iteration\": \"35\", \"goal\": null, \"run_name\": \"Canceled\", \"run_properties\": null}, {\"run_id\": \"AutoML_2e3ecec9-8b98-46e6-8caf-ebe839cb45fc_36\", \"run_number\": 41, \"metric\": null, \"status\": \"Completed\", \"run_type\": \"azureml.scriptrun\", \"training_percent\": \"100\", \"start_time\": \"2021-03-21T18:44:54.036495Z\", \"end_time\": \"2021-03-21T18:46:02.129302Z\", \"created_time\": \"2021-03-21T18:44:44.199092Z\", \"created_time_dt\": \"2021-03-21T18:44:44.199092Z\", \"duration\": \"0:01:17\", \"iteration\": \"36\", \"goal\": \"accuracy_max\", \"run_name\": \"VotingEnsemble\", \"run_properties\": \"classification_labels=None,\\n                              estimators=[('6',\\n                                           Pipeline(memory=None,\\n                                                    steps=[('sparsenormalizer',\\n                                                            <azureml.automl.runtime.shared.model_wrappers.SparseNormalizer object at 0x7f127876e4a8>\", \"primary_metric\": 0.9365, \"best_metric\": 0.9365}, {\"run_id\": \"AutoML_2e3ecec9-8b98-46e6-8caf-ebe839cb45fc_37\", \"run_number\": 42, \"metric\": null, \"status\": \"Completed\", \"run_type\": \"azureml.scriptrun\", \"training_percent\": \"100\", \"start_time\": \"2021-03-21T18:44:53.84587Z\", \"end_time\": \"2021-03-21T18:46:34.646769Z\", \"created_time\": \"2021-03-21T18:44:44.229252Z\", \"created_time_dt\": \"2021-03-21T18:44:44.229252Z\", \"duration\": \"0:01:50\", \"iteration\": \"37\", \"goal\": \"accuracy_max\", \"run_name\": \"StackEnsemble\", \"run_properties\": \"base_learners=[('6',\\n                                        Pipeline(memory=None,\\n                                                 steps=[('sparsenormalizer',\\n                                                         <azureml.automl.runtime.shared.model_wrappers.SparseNormalizer object at 0x7fb980757dd8>\", \"primary_metric\": 0.931, \"best_metric\": 0.9365}], \"children_metrics\": {\"categories\": [0], \"series\": {\"precision_score_micro\": [{\"categories\": [\"0\", \"1\", \"2\", \"3\", \"4\", \"5\", \"6\", \"7\", \"8\", \"9\", \"10\", \"11\", \"12\", \"13\", \"14\", \"15\", \"16\", \"17\", \"18\", \"19\", \"20\", \"21\", \"22\", \"23\", \"24\", \"25\", \"26\", \"27\", \"28\", \"29\", \"30\", \"31\", \"32\", \"36\", \"37\"], \"mode\": \"markers\", \"name\": \"precision_score_micro\", \"stepped\": false, \"type\": \"scatter\", \"data\": [0.9075, 0.9030000000000001, 0.7150000000000001, 0.6519999999999999, 0.708, 0.6719999999999999, 0.921, 0.765, 0.7379999999999999, 0.788, 0.7765000000000001, 0.7609999999999999, 0.8005000000000001, 0.805, 0.8705, 0.7795, 0.916, 0.8230000000000001, 0.764, 0.7125, 0.9039999999999999, 0.9015000000000001, 0.8504999999999999, 0.909, 0.7325, 0.2265, 0.9019999999999999, 0.771, 0.8515, 0.8605, 0.9055, 0.8699999999999999, 0.892, 0.9365, 0.931]}, {\"categories\": [\"0\", \"1\", \"2\", \"3\", \"4\", \"5\", \"6\", \"7\", \"8\", \"9\", \"10\", \"11\", \"12\", \"13\", \"14\", \"15\", \"16\", \"17\", \"18\", \"19\", \"20\", \"21\", \"22\", \"23\", \"24\", \"25\", \"26\", \"27\", \"28\", \"29\", \"30\", \"31\", \"32\", \"36\", \"37\"], \"mode\": \"lines\", \"name\": \"precision_score_micro_max\", \"stepped\": true, \"type\": \"scatter\", \"data\": [0.9075, 0.9075, 0.9075, 0.9075, 0.9075, 0.9075, 0.921, 0.921, 0.921, 0.921, 0.921, 0.921, 0.921, 0.921, 0.921, 0.921, 0.921, 0.921, 0.921, 0.921, 0.921, 0.921, 0.921, 0.921, 0.921, 0.921, 0.921, 0.921, 0.921, 0.921, 0.921, 0.921, 0.921, 0.9365, 0.9365]}], \"accuracy\": [{\"categories\": [\"0\", \"1\", \"2\", \"3\", \"4\", \"5\", \"6\", \"7\", \"8\", \"9\", \"10\", \"11\", \"12\", \"13\", \"14\", \"15\", \"16\", \"17\", \"18\", \"19\", \"20\", \"21\", \"22\", \"23\", \"24\", \"25\", \"26\", \"27\", \"28\", \"29\", \"30\", \"31\", \"32\", \"36\", \"37\"], \"mode\": \"markers\", \"name\": \"accuracy\", \"stepped\": false, \"type\": \"scatter\", \"data\": [0.9075, 0.9030000000000001, 0.7150000000000001, 0.6519999999999999, 0.708, 0.6719999999999999, 0.921, 0.765, 0.7379999999999999, 0.788, 0.7765000000000001, 0.7609999999999999, 0.8005000000000001, 0.805, 0.8705, 0.7795, 0.916, 0.8230000000000001, 0.764, 0.7125, 0.9039999999999999, 0.9015000000000001, 0.8504999999999999, 0.909, 0.7325, 0.2265, 0.9019999999999999, 0.771, 0.8515, 0.8605, 0.9055, 0.8699999999999999, 0.892, 0.9365, 0.931]}, {\"categories\": [\"0\", \"1\", \"2\", \"3\", \"4\", \"5\", \"6\", \"7\", \"8\", \"9\", \"10\", \"11\", \"12\", \"13\", \"14\", \"15\", \"16\", \"17\", \"18\", \"19\", \"20\", \"21\", \"22\", \"23\", \"24\", \"25\", \"26\", \"27\", \"28\", \"29\", \"30\", \"31\", \"32\", \"36\", \"37\"], \"mode\": \"lines\", \"name\": \"accuracy_max\", \"stepped\": true, \"type\": \"scatter\", \"data\": [0.9075, 0.9075, 0.9075, 0.9075, 0.9075, 0.9075, 0.921, 0.921, 0.921, 0.921, 0.921, 0.921, 0.921, 0.921, 0.921, 0.921, 0.921, 0.921, 0.921, 0.921, 0.921, 0.921, 0.921, 0.921, 0.921, 0.921, 0.921, 0.921, 0.921, 0.921, 0.921, 0.921, 0.921, 0.9365, 0.9365]}], \"AUC_macro\": [{\"categories\": [\"0\", \"1\", \"2\", \"3\", \"4\", \"5\", \"6\", \"7\", \"8\", \"9\", \"10\", \"11\", \"12\", \"13\", \"14\", \"15\", \"16\", \"17\", \"18\", \"19\", \"20\", \"21\", \"22\", \"23\", \"24\", \"25\", \"26\", \"27\", \"28\", \"29\", \"30\", \"31\", \"32\", \"36\", \"37\"], \"mode\": \"markers\", \"name\": \"AUC_macro\", \"stepped\": false, \"type\": \"scatter\", \"data\": [0.9872870840548643, 0.9862500160664481, 0.9024906326269067, 0.8621677674612126, 0.8911328501307814, 0.8698038876661431, 0.990836786015139, 0.9001975865320923, 0.918752001810574, 0.942512924925633, 0.9399171554469797, 0.9310763570384895, 0.953146994284974, 0.9577939805685499, 0.9773116414193339, 0.9461177673775373, 0.9906045078851822, 0.9609393880131935, 0.9413641479418955, 0.8798786282132424, 0.9876289605193083, 0.9862019190826654, 0.9733070889427123, 0.9887540788122282, 0.9186057623162608, 0.5, 0.9889664647697384, 0.9326478303198449, 0.9687886616268674, 0.9740052800456486, 0.9884847476529789, 0.9765700029950899, 0.9814935203575488, 0.99446946158943, 0.992995833650334]}, {\"categories\": [\"0\", \"1\", \"2\", \"3\", \"4\", \"5\", \"6\", \"7\", \"8\", \"9\", \"10\", \"11\", \"12\", \"13\", \"14\", \"15\", \"16\", \"17\", \"18\", \"19\", \"20\", \"21\", \"22\", \"23\", \"24\", \"25\", \"26\", \"27\", \"28\", \"29\", \"30\", \"31\", \"32\", \"36\", \"37\"], \"mode\": \"lines\", \"name\": \"AUC_macro_max\", \"stepped\": true, \"type\": \"scatter\", \"data\": [0.9872870840548643, 0.9872870840548643, 0.9872870840548643, 0.9872870840548643, 0.9872870840548643, 0.9872870840548643, 0.990836786015139, 0.990836786015139, 0.990836786015139, 0.990836786015139, 0.990836786015139, 0.990836786015139, 0.990836786015139, 0.990836786015139, 0.990836786015139, 0.990836786015139, 0.990836786015139, 0.990836786015139, 0.990836786015139, 0.990836786015139, 0.990836786015139, 0.990836786015139, 0.990836786015139, 0.990836786015139, 0.990836786015139, 0.990836786015139, 0.990836786015139, 0.990836786015139, 0.990836786015139, 0.990836786015139, 0.990836786015139, 0.990836786015139, 0.990836786015139, 0.99446946158943, 0.99446946158943]}], \"norm_macro_recall\": [{\"categories\": [\"0\", \"1\", \"2\", \"3\", \"4\", \"5\", \"6\", \"7\", \"8\", \"9\", \"10\", \"11\", \"12\", \"13\", \"14\", \"15\", \"16\", \"17\", \"18\", \"19\", \"20\", \"21\", \"22\", \"23\", \"24\", \"25\", \"26\", \"27\", \"28\", \"29\", \"30\", \"31\", \"32\", \"36\", \"37\"], \"mode\": \"markers\", \"name\": \"norm_macro_recall\", \"stepped\": false, \"type\": \"scatter\", \"data\": [0.8770707852379033, 0.8714412889755128, 0.6218800299466339, 0.5412949461097656, 0.6117280784584623, 0.5663877172162576, 0.8959435364225461, 0.6865853349659752, 0.6514928698306853, 0.7211192258973602, 0.7050370774729843, 0.6859220467900864, 0.7353510660184838, 0.7424364722236609, 0.8284392518021615, 0.7069014846996973, 0.8891719500478479, 0.7653851749175062, 0.6853339624392997, 0.6179289745967248, 0.8723467140284857, 0.8702243183704779, 0.801613025039277, 0.8792224283528048, 0.6449461800854913, 0.0, 0.8700913272214204, 0.6969909652874718, 0.8027069618106084, 0.8153315800688412, 0.8749811536815093, 0.8269480573539901, 0.8572456536160378, 0.9157452685741223, 0.9094362971701605]}, {\"categories\": [\"0\", \"1\", \"2\", \"3\", \"4\", \"5\", \"6\", \"7\", \"8\", \"9\", \"10\", \"11\", \"12\", \"13\", \"14\", \"15\", \"16\", \"17\", \"18\", \"19\", \"20\", \"21\", \"22\", \"23\", \"24\", \"25\", \"26\", \"27\", \"28\", \"29\", \"30\", \"31\", \"32\", \"36\", \"37\"], \"mode\": \"lines\", \"name\": \"norm_macro_recall_max\", \"stepped\": true, \"type\": \"scatter\", \"data\": [0.8770707852379033, 0.8770707852379033, 0.8770707852379033, 0.8770707852379033, 0.8770707852379033, 0.8770707852379033, 0.8959435364225461, 0.8959435364225461, 0.8959435364225461, 0.8959435364225461, 0.8959435364225461, 0.8959435364225461, 0.8959435364225461, 0.8959435364225461, 0.8959435364225461, 0.8959435364225461, 0.8959435364225461, 0.8959435364225461, 0.8959435364225461, 0.8959435364225461, 0.8959435364225461, 0.8959435364225461, 0.8959435364225461, 0.8959435364225461, 0.8959435364225461, 0.8959435364225461, 0.8959435364225461, 0.8959435364225461, 0.8959435364225461, 0.8959435364225461, 0.8959435364225461, 0.8959435364225461, 0.8959435364225461, 0.9157452685741223, 0.9157452685741223]}], \"recall_score_macro\": [{\"categories\": [\"0\", \"1\", \"2\", \"3\", \"4\", \"5\", \"6\", \"7\", \"8\", \"9\", \"10\", \"11\", \"12\", \"13\", \"14\", \"15\", \"16\", \"17\", \"18\", \"19\", \"20\", \"21\", \"22\", \"23\", \"24\", \"25\", \"26\", \"27\", \"28\", \"29\", \"30\", \"31\", \"32\", \"36\", \"37\"], \"mode\": \"markers\", \"name\": \"recall_score_macro\", \"stepped\": false, \"type\": \"scatter\", \"data\": [0.9078030889284274, 0.9035809667316347, 0.7164100224599754, 0.6559712095823241, 0.7087960588438467, 0.6747907879121933, 0.9219576523169095, 0.7649390012244814, 0.738619652373014, 0.7908394194230202, 0.7787778081047382, 0.7644415350925649, 0.8015132995138629, 0.8068273541677456, 0.8713294388516211, 0.7801761135247729, 0.9168789625358859, 0.8240388811881296, 0.7640004718294747, 0.7134467309475436, 0.9042600355213644, 0.9026682387778584, 0.851209768779458, 0.9094168212646035, 0.7337096350641186, 0.25, 0.9025684954160653, 0.7727432239656038, 0.8520302213579564, 0.861498685051631, 0.906235865261132, 0.8702110430154928, 0.8929342402120284, 0.9368089514305918, 0.9320772228776203]}, {\"categories\": [\"0\", \"1\", \"2\", \"3\", \"4\", \"5\", \"6\", \"7\", \"8\", \"9\", \"10\", \"11\", \"12\", \"13\", \"14\", \"15\", \"16\", \"17\", \"18\", \"19\", \"20\", \"21\", \"22\", \"23\", \"24\", \"25\", \"26\", \"27\", \"28\", \"29\", \"30\", \"31\", \"32\", \"36\", \"37\"], \"mode\": \"lines\", \"name\": \"recall_score_macro_max\", \"stepped\": true, \"type\": \"scatter\", \"data\": [0.9078030889284274, 0.9078030889284274, 0.9078030889284274, 0.9078030889284274, 0.9078030889284274, 0.9078030889284274, 0.9219576523169095, 0.9219576523169095, 0.9219576523169095, 0.9219576523169095, 0.9219576523169095, 0.9219576523169095, 0.9219576523169095, 0.9219576523169095, 0.9219576523169095, 0.9219576523169095, 0.9219576523169095, 0.9219576523169095, 0.9219576523169095, 0.9219576523169095, 0.9219576523169095, 0.9219576523169095, 0.9219576523169095, 0.9219576523169095, 0.9219576523169095, 0.9219576523169095, 0.9219576523169095, 0.9219576523169095, 0.9219576523169095, 0.9219576523169095, 0.9219576523169095, 0.9219576523169095, 0.9219576523169095, 0.9368089514305918, 0.9368089514305918]}], \"log_loss\": [{\"categories\": [\"0\", \"1\", \"2\", \"3\", \"4\", \"5\", \"6\", \"7\", \"8\", \"9\", \"10\", \"11\", \"12\", \"13\", \"14\", \"15\", \"16\", \"17\", \"18\", \"19\", \"20\", \"21\", \"22\", \"23\", \"24\", \"25\", \"26\", \"27\", \"28\", \"29\", \"30\", \"31\", \"32\", \"36\", \"37\"], \"mode\": \"markers\", \"name\": \"log_loss\", \"stepped\": false, \"type\": \"scatter\", \"data\": [0.24403168994078453, 0.26213464675841486, 0.9792026792673438, 1.1396896274356627, 1.1189888855033, 1.0720199590209816, 0.20825163321020046, 0.7404021408027811, 0.9645246422352429, 0.7625098765844287, 1.1579972229801716, 1.1141057567379975, 0.5358464211141178, 0.6900546522417474, 0.7091867248030473, 0.9443382971815406, 0.2249999828116378, 0.6077758330385994, 0.935249697881409, 0.7623532611009608, 0.26064513550412116, 0.2833391033456403, 0.47425166469851143, 0.3123701104878614, 0.9175089097858338, 1.3884241192086613, 0.23310549338692418, 0.9327288464788366, 0.3827360508409624, 0.40693953600593424, 0.3148622199240652, 0.42979973749657213, 0.3481416220666646, 0.3932873315769667, 0.3992895122740832]}, {\"categories\": [\"0\", \"1\", \"2\", \"3\", \"4\", \"5\", \"6\", \"7\", \"8\", \"9\", \"10\", \"11\", \"12\", \"13\", \"14\", \"15\", \"16\", \"17\", \"18\", \"19\", \"20\", \"21\", \"22\", \"23\", \"24\", \"25\", \"26\", \"27\", \"28\", \"29\", \"30\", \"31\", \"32\", \"36\", \"37\"], \"mode\": \"lines\", \"name\": \"log_loss_min\", \"stepped\": true, \"type\": \"scatter\", \"data\": [0.24403168994078453, 0.24403168994078453, 0.24403168994078453, 0.24403168994078453, 0.24403168994078453, 0.24403168994078453, 0.20825163321020046, 0.20825163321020046, 0.20825163321020046, 0.20825163321020046, 0.20825163321020046, 0.20825163321020046, 0.20825163321020046, 0.20825163321020046, 0.20825163321020046, 0.20825163321020046, 0.20825163321020046, 0.20825163321020046, 0.20825163321020046, 0.20825163321020046, 0.20825163321020046, 0.20825163321020046, 0.20825163321020046, 0.20825163321020046, 0.20825163321020046, 0.20825163321020046, 0.20825163321020046, 0.20825163321020046, 0.20825163321020046, 0.20825163321020046, 0.20825163321020046, 0.20825163321020046, 0.20825163321020046, 0.20825163321020046, 0.20825163321020046]}], \"weighted_accuracy\": [{\"categories\": [\"0\", \"1\", \"2\", \"3\", \"4\", \"5\", \"6\", \"7\", \"8\", \"9\", \"10\", \"11\", \"12\", \"13\", \"14\", \"15\", \"16\", \"17\", \"18\", \"19\", \"20\", \"21\", \"22\", \"23\", \"24\", \"25\", \"26\", \"27\", \"28\", \"29\", \"30\", \"31\", \"32\", \"36\", \"37\"], \"mode\": \"markers\", \"name\": \"weighted_accuracy\", \"stepped\": false, \"type\": \"scatter\", \"data\": [0.9073798434761539, 0.9025350881742338, 0.7141653125906307, 0.6487312048602969, 0.7079684029299367, 0.6698099850012464, 0.9201661937292694, 0.7657186437274447, 0.7379590624743608, 0.7856808911466032, 0.7746038271839987, 0.7583467565389362, 0.7998431281983132, 0.8036638143589802, 0.8699766399070163, 0.7791666708039813, 0.9152893253342917, 0.8223995442451415, 0.76441435506893, 0.7124278636882806, 0.9039203032807018, 0.9004398606040773, 0.8502317559979489, 0.9087221488170332, 0.7322129206025603, 0.20445109126856442, 0.9015113887424224, 0.7697482324274375, 0.8512792816132958, 0.8597852170296747, 0.9049843848089518, 0.8701691584360782, 0.8912286973182347, 0.9362354483946218, 0.9299521345516073]}, {\"categories\": [\"0\", \"1\", \"2\", \"3\", \"4\", \"5\", \"6\", \"7\", \"8\", \"9\", \"10\", \"11\", \"12\", \"13\", \"14\", \"15\", \"16\", \"17\", \"18\", \"19\", \"20\", \"21\", \"22\", \"23\", \"24\", \"25\", \"26\", \"27\", \"28\", \"29\", \"30\", \"31\", \"32\", \"36\", \"37\"], \"mode\": \"lines\", \"name\": \"weighted_accuracy_max\", \"stepped\": true, \"type\": \"scatter\", \"data\": [0.9073798434761539, 0.9073798434761539, 0.9073798434761539, 0.9073798434761539, 0.9073798434761539, 0.9073798434761539, 0.9201661937292694, 0.9201661937292694, 0.9201661937292694, 0.9201661937292694, 0.9201661937292694, 0.9201661937292694, 0.9201661937292694, 0.9201661937292694, 0.9201661937292694, 0.9201661937292694, 0.9201661937292694, 0.9201661937292694, 0.9201661937292694, 0.9201661937292694, 0.9201661937292694, 0.9201661937292694, 0.9201661937292694, 0.9201661937292694, 0.9201661937292694, 0.9201661937292694, 0.9201661937292694, 0.9201661937292694, 0.9201661937292694, 0.9201661937292694, 0.9201661937292694, 0.9201661937292694, 0.9201661937292694, 0.9362354483946218, 0.9362354483946218]}], \"AUC_weighted\": [{\"categories\": [\"0\", \"1\", \"2\", \"3\", \"4\", \"5\", \"6\", \"7\", \"8\", \"9\", \"10\", \"11\", \"12\", \"13\", \"14\", \"15\", \"16\", \"17\", \"18\", \"19\", \"20\", \"21\", \"22\", \"23\", \"24\", \"25\", \"26\", \"27\", \"28\", \"29\", \"30\", \"31\", \"32\", \"36\", \"37\"], \"mode\": \"markers\", \"name\": \"AUC_weighted\", \"stepped\": false, \"type\": \"scatter\", \"data\": [0.9872681967413826, 0.9862317128912998, 0.9024718059534889, 0.8616961249799655, 0.891107000500418, 0.8687468835333749, 0.9907334203181634, 0.899749780876957, 0.9185713847312913, 0.9422502297022181, 0.9397326041919376, 0.9307445276991476, 0.9530425917153769, 0.9577006702778943, 0.9771410376101739, 0.9460045303829272, 0.9905123015307902, 0.9608586951112486, 0.9412141095966104, 0.879446630018734, 0.9875907814182391, 0.986124568480259, 0.9732091046917137, 0.9885912534769125, 0.9179594441556633, 0.5, 0.9889138793991356, 0.9324427237591927, 0.9687173690259432, 0.9739170733360407, 0.9883178433146995, 0.9764266975261104, 0.9814707445588133, 0.9944404263340028, 0.9929922251194476]}, {\"categories\": [\"0\", \"1\", \"2\", \"3\", \"4\", \"5\", \"6\", \"7\", \"8\", \"9\", \"10\", \"11\", \"12\", \"13\", \"14\", \"15\", \"16\", \"17\", \"18\", \"19\", \"20\", \"21\", \"22\", \"23\", \"24\", \"25\", \"26\", \"27\", \"28\", \"29\", \"30\", \"31\", \"32\", \"36\", \"37\"], \"mode\": \"lines\", \"name\": \"AUC_weighted_max\", \"stepped\": true, \"type\": \"scatter\", \"data\": [0.9872681967413826, 0.9872681967413826, 0.9872681967413826, 0.9872681967413826, 0.9872681967413826, 0.9872681967413826, 0.9907334203181634, 0.9907334203181634, 0.9907334203181634, 0.9907334203181634, 0.9907334203181634, 0.9907334203181634, 0.9907334203181634, 0.9907334203181634, 0.9907334203181634, 0.9907334203181634, 0.9907334203181634, 0.9907334203181634, 0.9907334203181634, 0.9907334203181634, 0.9907334203181634, 0.9907334203181634, 0.9907334203181634, 0.9907334203181634, 0.9907334203181634, 0.9907334203181634, 0.9907334203181634, 0.9907334203181634, 0.9907334203181634, 0.9907334203181634, 0.9907334203181634, 0.9907334203181634, 0.9907334203181634, 0.9944404263340028, 0.9944404263340028]}], \"f1_score_micro\": [{\"categories\": [\"0\", \"1\", \"2\", \"3\", \"4\", \"5\", \"6\", \"7\", \"8\", \"9\", \"10\", \"11\", \"12\", \"13\", \"14\", \"15\", \"16\", \"17\", \"18\", \"19\", \"20\", \"21\", \"22\", \"23\", \"24\", \"25\", \"26\", \"27\", \"28\", \"29\", \"30\", \"31\", \"32\", \"36\", \"37\"], \"mode\": \"markers\", \"name\": \"f1_score_micro\", \"stepped\": false, \"type\": \"scatter\", \"data\": [0.9075, 0.9030000000000001, 0.7150000000000001, 0.6519999999999999, 0.708, 0.6719999999999999, 0.921, 0.765, 0.7379999999999999, 0.788, 0.7765000000000001, 0.7609999999999999, 0.8005000000000001, 0.805, 0.8705, 0.7795, 0.916, 0.8230000000000001, 0.764, 0.7125, 0.9039999999999999, 0.9015000000000001, 0.8504999999999999, 0.909, 0.7325, 0.2265, 0.9019999999999999, 0.771, 0.8515, 0.8605, 0.9055, 0.8699999999999999, 0.892, 0.9365, 0.931]}, {\"categories\": [\"0\", \"1\", \"2\", \"3\", \"4\", \"5\", \"6\", \"7\", \"8\", \"9\", \"10\", \"11\", \"12\", \"13\", \"14\", \"15\", \"16\", \"17\", \"18\", \"19\", \"20\", \"21\", \"22\", \"23\", \"24\", \"25\", \"26\", \"27\", \"28\", \"29\", \"30\", \"31\", \"32\", \"36\", \"37\"], \"mode\": \"lines\", \"name\": \"f1_score_micro_max\", \"stepped\": true, \"type\": \"scatter\", \"data\": [0.9075, 0.9075, 0.9075, 0.9075, 0.9075, 0.9075, 0.921, 0.921, 0.921, 0.921, 0.921, 0.921, 0.921, 0.921, 0.921, 0.921, 0.921, 0.921, 0.921, 0.921, 0.921, 0.921, 0.921, 0.921, 0.921, 0.921, 0.921, 0.921, 0.921, 0.921, 0.921, 0.921, 0.921, 0.9365, 0.9365]}], \"f1_score_macro\": [{\"categories\": [\"0\", \"1\", \"2\", \"3\", \"4\", \"5\", \"6\", \"7\", \"8\", \"9\", \"10\", \"11\", \"12\", \"13\", \"14\", \"15\", \"16\", \"17\", \"18\", \"19\", \"20\", \"21\", \"22\", \"23\", \"24\", \"25\", \"26\", \"27\", \"28\", \"29\", \"30\", \"31\", \"32\", \"36\", \"37\"], \"mode\": \"markers\", \"name\": \"f1_score_macro\", \"stepped\": false, \"type\": \"scatter\", \"data\": [0.9074178002692138, 0.9030461647125971, 0.7083936704451853, 0.642577495667366, 0.6978084927123207, 0.660089942701365, 0.9212469238798222, 0.7635902091882898, 0.7359411121452636, 0.784554448792983, 0.776325925213305, 0.7500263015754347, 0.8001639798398953, 0.8014423052234744, 0.8708386104035005, 0.7782744047594697, 0.9160598892117131, 0.8217033662517272, 0.7626100746459332, 0.7029489117778359, 0.9038994923333759, 0.9025151080741789, 0.8477422429017638, 0.909062339513353, 0.7210755017130708, 0.09228927832112976, 0.9025222176687413, 0.769540097763155, 0.8513537470644975, 0.8596703000899538, 0.9053729930535013, 0.868853754826344, 0.8924251887369146, 0.936456847495515, 0.9312565464548795]}, {\"categories\": [\"0\", \"1\", \"2\", \"3\", \"4\", \"5\", \"6\", \"7\", \"8\", \"9\", \"10\", \"11\", \"12\", \"13\", \"14\", \"15\", \"16\", \"17\", \"18\", \"19\", \"20\", \"21\", \"22\", \"23\", \"24\", \"25\", \"26\", \"27\", \"28\", \"29\", \"30\", \"31\", \"32\", \"36\", \"37\"], \"mode\": \"lines\", \"name\": \"f1_score_macro_max\", \"stepped\": true, \"type\": \"scatter\", \"data\": [0.9074178002692138, 0.9074178002692138, 0.9074178002692138, 0.9074178002692138, 0.9074178002692138, 0.9074178002692138, 0.9212469238798222, 0.9212469238798222, 0.9212469238798222, 0.9212469238798222, 0.9212469238798222, 0.9212469238798222, 0.9212469238798222, 0.9212469238798222, 0.9212469238798222, 0.9212469238798222, 0.9212469238798222, 0.9212469238798222, 0.9212469238798222, 0.9212469238798222, 0.9212469238798222, 0.9212469238798222, 0.9212469238798222, 0.9212469238798222, 0.9212469238798222, 0.9212469238798222, 0.9212469238798222, 0.9212469238798222, 0.9212469238798222, 0.9212469238798222, 0.9212469238798222, 0.9212469238798222, 0.9212469238798222, 0.936456847495515, 0.936456847495515]}], \"precision_score_macro\": [{\"categories\": [\"0\", \"1\", \"2\", \"3\", \"4\", \"5\", \"6\", \"7\", \"8\", \"9\", \"10\", \"11\", \"12\", \"13\", \"14\", \"15\", \"16\", \"17\", \"18\", \"19\", \"20\", \"21\", \"22\", \"23\", \"24\", \"25\", \"26\", \"27\", \"28\", \"29\", \"30\", \"31\", \"32\", \"36\", \"37\"], \"mode\": \"markers\", \"name\": \"precision_score_macro\", \"stepped\": false, \"type\": \"scatter\", \"data\": [0.9075152801244964, 0.9032473536539684, 0.7105530934949925, 0.651046519416348, 0.7012052978066199, 0.672071543506135, 0.9217010763628675, 0.7637003167076384, 0.7366908052281984, 0.7861435468275009, 0.7769399585487885, 0.7576145684529476, 0.8001875258520432, 0.8009030532875739, 0.8723668121570552, 0.7781876209043035, 0.9158934425383221, 0.821229811873921, 0.7630422313776142, 0.7007555511143484, 0.9041185263391938, 0.9037270579939184, 0.8496442908090339, 0.9093376446594922, 0.7255918327267674, 0.056625, 0.9037844302617517, 0.7697368662512323, 0.8516649796185531, 0.8595578559981327, 0.9053302845386874, 0.8698425562182379, 0.89275987719206, 0.9365284736980801, 0.9319638945103275]}, {\"categories\": [\"0\", \"1\", \"2\", \"3\", \"4\", \"5\", \"6\", \"7\", \"8\", \"9\", \"10\", \"11\", \"12\", \"13\", \"14\", \"15\", \"16\", \"17\", \"18\", \"19\", \"20\", \"21\", \"22\", \"23\", \"24\", \"25\", \"26\", \"27\", \"28\", \"29\", \"30\", \"31\", \"32\", \"36\", \"37\"], \"mode\": \"lines\", \"name\": \"precision_score_macro_max\", \"stepped\": true, \"type\": \"scatter\", \"data\": [0.9075152801244964, 0.9075152801244964, 0.9075152801244964, 0.9075152801244964, 0.9075152801244964, 0.9075152801244964, 0.9217010763628675, 0.9217010763628675, 0.9217010763628675, 0.9217010763628675, 0.9217010763628675, 0.9217010763628675, 0.9217010763628675, 0.9217010763628675, 0.9217010763628675, 0.9217010763628675, 0.9217010763628675, 0.9217010763628675, 0.9217010763628675, 0.9217010763628675, 0.9217010763628675, 0.9217010763628675, 0.9217010763628675, 0.9217010763628675, 0.9217010763628675, 0.9217010763628675, 0.9217010763628675, 0.9217010763628675, 0.9217010763628675, 0.9217010763628675, 0.9217010763628675, 0.9217010763628675, 0.9217010763628675, 0.9365284736980801, 0.9365284736980801]}], \"f1_score_weighted\": [{\"categories\": [\"0\", \"1\", \"2\", \"3\", \"4\", \"5\", \"6\", \"7\", \"8\", \"9\", \"10\", \"11\", \"12\", \"13\", \"14\", \"15\", \"16\", \"17\", \"18\", \"19\", \"20\", \"21\", \"22\", \"23\", \"24\", \"25\", \"26\", \"27\", \"28\", \"29\", \"30\", \"31\", \"32\", \"36\", \"37\"], \"mode\": \"markers\", \"name\": \"f1_score_weighted\", \"stepped\": false, \"type\": \"scatter\", \"data\": [0.9075339346299641, 0.9030210613106305, 0.7087185132928611, 0.6420760687668854, 0.6973981979588696, 0.6593092348733063, 0.9210859665321655, 0.764015391354262, 0.7364460877842799, 0.7839201251978304, 0.7759852134101288, 0.749682793576484, 0.8000858876890868, 0.8015136685356777, 0.8706691549960881, 0.7783676778821185, 0.9159085621875619, 0.8219735123043485, 0.7628280050204843, 0.703087249890865, 0.9039370884250921, 0.9019762417746359, 0.8483681931392452, 0.90896356804066, 0.7214218045241544, 0.08384288671548094, 0.9024641330209942, 0.7697912339699121, 0.8514766750566954, 0.8596716005858447, 0.9053683058581228, 0.8684939128374143, 0.8923844590941185, 0.9364811222967427, 0.9311663487429762]}, {\"categories\": [\"0\", \"1\", \"2\", \"3\", \"4\", \"5\", \"6\", \"7\", \"8\", \"9\", \"10\", \"11\", \"12\", \"13\", \"14\", \"15\", \"16\", \"17\", \"18\", \"19\", \"20\", \"21\", \"22\", \"23\", \"24\", \"25\", \"26\", \"27\", \"28\", \"29\", \"30\", \"31\", \"32\", \"36\", \"37\"], \"mode\": \"lines\", \"name\": \"f1_score_weighted_max\", \"stepped\": true, \"type\": \"scatter\", \"data\": [0.9075339346299641, 0.9075339346299641, 0.9075339346299641, 0.9075339346299641, 0.9075339346299641, 0.9075339346299641, 0.9210859665321655, 0.9210859665321655, 0.9210859665321655, 0.9210859665321655, 0.9210859665321655, 0.9210859665321655, 0.9210859665321655, 0.9210859665321655, 0.9210859665321655, 0.9210859665321655, 0.9210859665321655, 0.9210859665321655, 0.9210859665321655, 0.9210859665321655, 0.9210859665321655, 0.9210859665321655, 0.9210859665321655, 0.9210859665321655, 0.9210859665321655, 0.9210859665321655, 0.9210859665321655, 0.9210859665321655, 0.9210859665321655, 0.9210859665321655, 0.9210859665321655, 0.9210859665321655, 0.9210859665321655, 0.9364811222967427, 0.9364811222967427]}], \"AUC_micro\": [{\"categories\": [\"0\", \"1\", \"2\", \"3\", \"4\", \"5\", \"6\", \"7\", \"8\", \"9\", \"10\", \"11\", \"12\", \"13\", \"14\", \"15\", \"16\", \"17\", \"18\", \"19\", \"20\", \"21\", \"22\", \"23\", \"24\", \"25\", \"26\", \"27\", \"28\", \"29\", \"30\", \"31\", \"32\", \"36\", \"37\"], \"mode\": \"markers\", \"name\": \"AUC_micro\", \"stepped\": false, \"type\": \"scatter\", \"data\": [0.9886075, 0.9878104166666667, 0.9104741666666667, 0.8711137500000001, 0.90300625, 0.8783349999999999, 0.9916120833333334, 0.9171137500000001, 0.9265945833333333, 0.9469758333333333, 0.9429033333333333, 0.93317625, 0.9590775, 0.9602712500000001, 0.9797329166666666, 0.9498133333333334, 0.9913108333333336, 0.96389125, 0.945655, 0.9066316666666667, 0.9890008333333334, 0.9876525, 0.9745666666666667, 0.989465, 0.9255491666666666, 0.471, 0.99017, 0.9417124999999998, 0.9717266666666665, 0.9766616666666668, 0.98929625, 0.9771812500000001, 0.9837879166666668, 0.9950029166666667, 0.9918962499999999]}, {\"categories\": [\"0\", \"1\", \"2\", \"3\", \"4\", \"5\", \"6\", \"7\", \"8\", \"9\", \"10\", \"11\", \"12\", \"13\", \"14\", \"15\", \"16\", \"17\", \"18\", \"19\", \"20\", \"21\", \"22\", \"23\", \"24\", \"25\", \"26\", \"27\", \"28\", \"29\", \"30\", \"31\", \"32\", \"36\", \"37\"], \"mode\": \"lines\", \"name\": \"AUC_micro_max\", \"stepped\": true, \"type\": \"scatter\", \"data\": [0.9886075, 0.9886075, 0.9886075, 0.9886075, 0.9886075, 0.9886075, 0.9916120833333334, 0.9916120833333334, 0.9916120833333334, 0.9916120833333334, 0.9916120833333334, 0.9916120833333334, 0.9916120833333334, 0.9916120833333334, 0.9916120833333334, 0.9916120833333334, 0.9916120833333334, 0.9916120833333334, 0.9916120833333334, 0.9916120833333334, 0.9916120833333334, 0.9916120833333334, 0.9916120833333334, 0.9916120833333334, 0.9916120833333334, 0.9916120833333334, 0.9916120833333334, 0.9916120833333334, 0.9916120833333334, 0.9916120833333334, 0.9916120833333334, 0.9916120833333334, 0.9916120833333334, 0.9950029166666667, 0.9950029166666667]}], \"precision_score_weighted\": [{\"categories\": [\"0\", \"1\", \"2\", \"3\", \"4\", \"5\", \"6\", \"7\", \"8\", \"9\", \"10\", \"11\", \"12\", \"13\", \"14\", \"15\", \"16\", \"17\", \"18\", \"19\", \"20\", \"21\", \"22\", \"23\", \"24\", \"25\", \"26\", \"27\", \"28\", \"29\", \"30\", \"31\", \"32\", \"36\", \"37\"], \"mode\": \"markers\", \"name\": \"precision_score_weighted\", \"stepped\": false, \"type\": \"scatter\", \"data\": [0.9080460981635541, 0.9038014648998447, 0.7122356007929843, 0.6541870022135094, 0.7009436572440437, 0.6734108617918914, 0.922329211825663, 0.7645152711939841, 0.7383724998294661, 0.7876362355475806, 0.7785983471187166, 0.7603304492409382, 0.8010983738455014, 0.8028088968627713, 0.8728642640532923, 0.7791280565306725, 0.9164583712409552, 0.8227488521109014, 0.7635252083084916, 0.7020472784087783, 0.9044462830871449, 0.9038002234999623, 0.8514280613479498, 0.9095528985677571, 0.7272530131567642, 0.051473750000000006, 0.9042362305510441, 0.7721150432760542, 0.852432927362208, 0.8605961186548919, 0.9060426445119601, 0.8693111271743705, 0.893603986365995, 0.9368915915745794, 0.932870560386952]}, {\"categories\": [\"0\", \"1\", \"2\", \"3\", \"4\", \"5\", \"6\", \"7\", \"8\", \"9\", \"10\", \"11\", \"12\", \"13\", \"14\", \"15\", \"16\", \"17\", \"18\", \"19\", \"20\", \"21\", \"22\", \"23\", \"24\", \"25\", \"26\", \"27\", \"28\", \"29\", \"30\", \"31\", \"32\", \"36\", \"37\"], \"mode\": \"lines\", \"name\": \"precision_score_weighted_max\", \"stepped\": true, \"type\": \"scatter\", \"data\": [0.9080460981635541, 0.9080460981635541, 0.9080460981635541, 0.9080460981635541, 0.9080460981635541, 0.9080460981635541, 0.922329211825663, 0.922329211825663, 0.922329211825663, 0.922329211825663, 0.922329211825663, 0.922329211825663, 0.922329211825663, 0.922329211825663, 0.922329211825663, 0.922329211825663, 0.922329211825663, 0.922329211825663, 0.922329211825663, 0.922329211825663, 0.922329211825663, 0.922329211825663, 0.922329211825663, 0.922329211825663, 0.922329211825663, 0.922329211825663, 0.922329211825663, 0.922329211825663, 0.922329211825663, 0.922329211825663, 0.922329211825663, 0.922329211825663, 0.922329211825663, 0.9368915915745794, 0.9368915915745794]}], \"recall_score_weighted\": [{\"categories\": [\"0\", \"1\", \"2\", \"3\", \"4\", \"5\", \"6\", \"7\", \"8\", \"9\", \"10\", \"11\", \"12\", \"13\", \"14\", \"15\", \"16\", \"17\", \"18\", \"19\", \"20\", \"21\", \"22\", \"23\", \"24\", \"25\", \"26\", \"27\", \"28\", \"29\", \"30\", \"31\", \"32\", \"36\", \"37\"], \"mode\": \"markers\", \"name\": \"recall_score_weighted\", \"stepped\": false, \"type\": \"scatter\", \"data\": [0.9075, 0.9030000000000001, 0.7150000000000001, 0.6519999999999999, 0.708, 0.6719999999999999, 0.921, 0.765, 0.7379999999999999, 0.788, 0.7765000000000001, 0.7609999999999999, 0.8005000000000001, 0.805, 0.8705, 0.7795, 0.916, 0.8230000000000001, 0.764, 0.7125, 0.9039999999999999, 0.9015000000000001, 0.8504999999999999, 0.909, 0.7325, 0.2265, 0.9019999999999999, 0.771, 0.8515, 0.8605, 0.9055, 0.8699999999999999, 0.892, 0.9365, 0.931]}, {\"categories\": [\"0\", \"1\", \"2\", \"3\", \"4\", \"5\", \"6\", \"7\", \"8\", \"9\", \"10\", \"11\", \"12\", \"13\", \"14\", \"15\", \"16\", \"17\", \"18\", \"19\", \"20\", \"21\", \"22\", \"23\", \"24\", \"25\", \"26\", \"27\", \"28\", \"29\", \"30\", \"31\", \"32\", \"36\", \"37\"], \"mode\": \"lines\", \"name\": \"recall_score_weighted_max\", \"stepped\": true, \"type\": \"scatter\", \"data\": [0.9075, 0.9075, 0.9075, 0.9075, 0.9075, 0.9075, 0.921, 0.921, 0.921, 0.921, 0.921, 0.921, 0.921, 0.921, 0.921, 0.921, 0.921, 0.921, 0.921, 0.921, 0.921, 0.921, 0.921, 0.921, 0.921, 0.921, 0.921, 0.921, 0.921, 0.921, 0.921, 0.921, 0.921, 0.9365, 0.9365]}], \"average_precision_score_weighted\": [{\"categories\": [\"0\", \"1\", \"2\", \"3\", \"4\", \"5\", \"6\", \"7\", \"8\", \"9\", \"10\", \"11\", \"12\", \"13\", \"14\", \"15\", \"16\", \"17\", \"18\", \"19\", \"20\", \"21\", \"22\", \"23\", \"24\", \"25\", \"26\", \"27\", \"28\", \"29\", \"30\", \"31\", \"32\", \"36\", \"37\"], \"mode\": \"markers\", \"name\": \"average_precision_score_weighted\", \"stepped\": false, \"type\": \"scatter\", \"data\": [0.9616384107540068, 0.9546299833215828, 0.7682758162204315, 0.678290822995154, 0.7367981436499114, 0.6910000850787901, 0.9743480869145367, 0.7650879422890318, 0.7841145909749734, 0.8412443503181695, 0.8261071788417818, 0.8236384921958143, 0.8662468022265586, 0.8779414770375565, 0.9387196451443511, 0.842364954092915, 0.9740428753686956, 0.8814364569935492, 0.8269098256269446, 0.7266811102211685, 0.9609427801107963, 0.9632766847987858, 0.9310082764183589, 0.9699837773139117, 0.774549000241, 0.2519, 0.9695895493787463, 0.8281756245988282, 0.9031054275884998, 0.9149800303659787, 0.9691413184880261, 0.9375369464436971, 0.941833651234133, 0.984036738626027, 0.9831627099263421]}, {\"categories\": [\"0\", \"1\", \"2\", \"3\", \"4\", \"5\", \"6\", \"7\", \"8\", \"9\", \"10\", \"11\", \"12\", \"13\", \"14\", \"15\", \"16\", \"17\", \"18\", \"19\", \"20\", \"21\", \"22\", \"23\", \"24\", \"25\", \"26\", \"27\", \"28\", \"29\", \"30\", \"31\", \"32\", \"36\", \"37\"], \"mode\": \"lines\", \"name\": \"average_precision_score_weighted_max\", \"stepped\": true, \"type\": \"scatter\", \"data\": [0.9616384107540068, 0.9616384107540068, 0.9616384107540068, 0.9616384107540068, 0.9616384107540068, 0.9616384107540068, 0.9743480869145367, 0.9743480869145367, 0.9743480869145367, 0.9743480869145367, 0.9743480869145367, 0.9743480869145367, 0.9743480869145367, 0.9743480869145367, 0.9743480869145367, 0.9743480869145367, 0.9743480869145367, 0.9743480869145367, 0.9743480869145367, 0.9743480869145367, 0.9743480869145367, 0.9743480869145367, 0.9743480869145367, 0.9743480869145367, 0.9743480869145367, 0.9743480869145367, 0.9743480869145367, 0.9743480869145367, 0.9743480869145367, 0.9743480869145367, 0.9743480869145367, 0.9743480869145367, 0.9743480869145367, 0.984036738626027, 0.984036738626027]}], \"balanced_accuracy\": [{\"categories\": [\"0\", \"1\", \"2\", \"3\", \"4\", \"5\", \"6\", \"7\", \"8\", \"9\", \"10\", \"11\", \"12\", \"13\", \"14\", \"15\", \"16\", \"17\", \"18\", \"19\", \"20\", \"21\", \"22\", \"23\", \"24\", \"25\", \"26\", \"27\", \"28\", \"29\", \"30\", \"31\", \"32\", \"36\", \"37\"], \"mode\": \"markers\", \"name\": \"balanced_accuracy\", \"stepped\": false, \"type\": \"scatter\", \"data\": [0.9078030889284274, 0.9035809667316347, 0.7164100224599754, 0.6559712095823241, 0.7087960588438467, 0.6747907879121933, 0.9219576523169095, 0.7649390012244814, 0.738619652373014, 0.7908394194230202, 0.7787778081047382, 0.7644415350925649, 0.8015132995138629, 0.8068273541677456, 0.8713294388516211, 0.7801761135247729, 0.9168789625358859, 0.8240388811881296, 0.7640004718294747, 0.7134467309475436, 0.9042600355213644, 0.9026682387778584, 0.851209768779458, 0.9094168212646035, 0.7337096350641186, 0.25, 0.9025684954160653, 0.7727432239656038, 0.8520302213579564, 0.861498685051631, 0.906235865261132, 0.8702110430154928, 0.8929342402120284, 0.9368089514305918, 0.9320772228776203]}, {\"categories\": [\"0\", \"1\", \"2\", \"3\", \"4\", \"5\", \"6\", \"7\", \"8\", \"9\", \"10\", \"11\", \"12\", \"13\", \"14\", \"15\", \"16\", \"17\", \"18\", \"19\", \"20\", \"21\", \"22\", \"23\", \"24\", \"25\", \"26\", \"27\", \"28\", \"29\", \"30\", \"31\", \"32\", \"36\", \"37\"], \"mode\": \"lines\", \"name\": \"balanced_accuracy_max\", \"stepped\": true, \"type\": \"scatter\", \"data\": [0.9078030889284274, 0.9078030889284274, 0.9078030889284274, 0.9078030889284274, 0.9078030889284274, 0.9078030889284274, 0.9219576523169095, 0.9219576523169095, 0.9219576523169095, 0.9219576523169095, 0.9219576523169095, 0.9219576523169095, 0.9219576523169095, 0.9219576523169095, 0.9219576523169095, 0.9219576523169095, 0.9219576523169095, 0.9219576523169095, 0.9219576523169095, 0.9219576523169095, 0.9219576523169095, 0.9219576523169095, 0.9219576523169095, 0.9219576523169095, 0.9219576523169095, 0.9219576523169095, 0.9219576523169095, 0.9219576523169095, 0.9219576523169095, 0.9219576523169095, 0.9219576523169095, 0.9219576523169095, 0.9219576523169095, 0.9368089514305918, 0.9368089514305918]}], \"recall_score_micro\": [{\"categories\": [\"0\", \"1\", \"2\", \"3\", \"4\", \"5\", \"6\", \"7\", \"8\", \"9\", \"10\", \"11\", \"12\", \"13\", \"14\", \"15\", \"16\", \"17\", \"18\", \"19\", \"20\", \"21\", \"22\", \"23\", \"24\", \"25\", \"26\", \"27\", \"28\", \"29\", \"30\", \"31\", \"32\", \"36\", \"37\"], \"mode\": \"markers\", \"name\": \"recall_score_micro\", \"stepped\": false, \"type\": \"scatter\", \"data\": [0.9075, 0.9030000000000001, 0.7150000000000001, 0.6519999999999999, 0.708, 0.6719999999999999, 0.921, 0.765, 0.7379999999999999, 0.788, 0.7765000000000001, 0.7609999999999999, 0.8005000000000001, 0.805, 0.8705, 0.7795, 0.916, 0.8230000000000001, 0.764, 0.7125, 0.9039999999999999, 0.9015000000000001, 0.8504999999999999, 0.909, 0.7325, 0.2265, 0.9019999999999999, 0.771, 0.8515, 0.8605, 0.9055, 0.8699999999999999, 0.892, 0.9365, 0.931]}, {\"categories\": [\"0\", \"1\", \"2\", \"3\", \"4\", \"5\", \"6\", \"7\", \"8\", \"9\", \"10\", \"11\", \"12\", \"13\", \"14\", \"15\", \"16\", \"17\", \"18\", \"19\", \"20\", \"21\", \"22\", \"23\", \"24\", \"25\", \"26\", \"27\", \"28\", \"29\", \"30\", \"31\", \"32\", \"36\", \"37\"], \"mode\": \"lines\", \"name\": \"recall_score_micro_max\", \"stepped\": true, \"type\": \"scatter\", \"data\": [0.9075, 0.9075, 0.9075, 0.9075, 0.9075, 0.9075, 0.921, 0.921, 0.921, 0.921, 0.921, 0.921, 0.921, 0.921, 0.921, 0.921, 0.921, 0.921, 0.921, 0.921, 0.921, 0.921, 0.921, 0.921, 0.921, 0.921, 0.921, 0.921, 0.921, 0.921, 0.921, 0.921, 0.921, 0.9365, 0.9365]}], \"average_precision_score_micro\": [{\"categories\": [\"0\", \"1\", \"2\", \"3\", \"4\", \"5\", \"6\", \"7\", \"8\", \"9\", \"10\", \"11\", \"12\", \"13\", \"14\", \"15\", \"16\", \"17\", \"18\", \"19\", \"20\", \"21\", \"22\", \"23\", \"24\", \"25\", \"26\", \"27\", \"28\", \"29\", \"30\", \"31\", \"32\", \"36\", \"37\"], \"mode\": \"markers\", \"name\": \"average_precision_score_micro\", \"stepped\": false, \"type\": \"scatter\", \"data\": [0.9692143584430095, 0.9660359915510904, 0.7894018109349241, 0.710269150446282, 0.7741749835941726, 0.7105624154885471, 0.9765932906651491, 0.7366041127656423, 0.8096480515997, 0.8634791991649948, 0.8507278970446093, 0.8420607662987812, 0.8916942650330244, 0.8878211432705981, 0.9451358441463672, 0.8674147452004917, 0.9760763059325963, 0.901382743477616, 0.8605502339559801, 0.753498380431904, 0.968742217814461, 0.9660355567077037, 0.9311667853598665, 0.9720599290270734, 0.8154361109406878, 0.23832520833333332, 0.9725501613357658, 0.8572836360894364, 0.9207301143786634, 0.9363514877507375, 0.9714246100985088, 0.9366805129620829, 0.9543230167412178, 0.9856045422901627, 0.9791651573847432]}, {\"categories\": [\"0\", \"1\", \"2\", \"3\", \"4\", \"5\", \"6\", \"7\", \"8\", \"9\", \"10\", \"11\", \"12\", \"13\", \"14\", \"15\", \"16\", \"17\", \"18\", \"19\", \"20\", \"21\", \"22\", \"23\", \"24\", \"25\", \"26\", \"27\", \"28\", \"29\", \"30\", \"31\", \"32\", \"36\", \"37\"], \"mode\": \"lines\", \"name\": \"average_precision_score_micro_max\", \"stepped\": true, \"type\": \"scatter\", \"data\": [0.9692143584430095, 0.9692143584430095, 0.9692143584430095, 0.9692143584430095, 0.9692143584430095, 0.9692143584430095, 0.9765932906651491, 0.9765932906651491, 0.9765932906651491, 0.9765932906651491, 0.9765932906651491, 0.9765932906651491, 0.9765932906651491, 0.9765932906651491, 0.9765932906651491, 0.9765932906651491, 0.9765932906651491, 0.9765932906651491, 0.9765932906651491, 0.9765932906651491, 0.9765932906651491, 0.9765932906651491, 0.9765932906651491, 0.9765932906651491, 0.9765932906651491, 0.9765932906651491, 0.9765932906651491, 0.9765932906651491, 0.9765932906651491, 0.9765932906651491, 0.9765932906651491, 0.9765932906651491, 0.9765932906651491, 0.9856045422901627, 0.9856045422901627]}], \"average_precision_score_macro\": [{\"categories\": [\"0\", \"1\", \"2\", \"3\", \"4\", \"5\", \"6\", \"7\", \"8\", \"9\", \"10\", \"11\", \"12\", \"13\", \"14\", \"15\", \"16\", \"17\", \"18\", \"19\", \"20\", \"21\", \"22\", \"23\", \"24\", \"25\", \"26\", \"27\", \"28\", \"29\", \"30\", \"31\", \"32\", \"36\", \"37\"], \"mode\": \"markers\", \"name\": \"average_precision_score_macro\", \"stepped\": false, \"type\": \"scatter\", \"data\": [0.9612953153689456, 0.9540772870537488, 0.7672795249004898, 0.6778023871246031, 0.7367609570041681, 0.6922308109299877, 0.9744019326482267, 0.7650004592862849, 0.7840093946432976, 0.8416011958715645, 0.8256349851368354, 0.8238975074378441, 0.8659001951282731, 0.8778305225283525, 0.9388198081340212, 0.8420317729306177, 0.9740945634813271, 0.8810991915447225, 0.8264148902565503, 0.7265603320952088, 0.9607212562659505, 0.9633920824479839, 0.9308774661108149, 0.970126361930711, 0.7741634136033728, 0.25, 0.9695617497136837, 0.8280702194227583, 0.9023695406741131, 0.914795538724389, 0.9692989100186681, 0.9376407757969952, 0.9414313105585809, 0.9840195189776664, 0.9831202467593929]}, {\"categories\": [\"0\", \"1\", \"2\", \"3\", \"4\", \"5\", \"6\", \"7\", \"8\", \"9\", \"10\", \"11\", \"12\", \"13\", \"14\", \"15\", \"16\", \"17\", \"18\", \"19\", \"20\", \"21\", \"22\", \"23\", \"24\", \"25\", \"26\", \"27\", \"28\", \"29\", \"30\", \"31\", \"32\", \"36\", \"37\"], \"mode\": \"lines\", \"name\": \"average_precision_score_macro_max\", \"stepped\": true, \"type\": \"scatter\", \"data\": [0.9612953153689456, 0.9612953153689456, 0.9612953153689456, 0.9612953153689456, 0.9612953153689456, 0.9612953153689456, 0.9744019326482267, 0.9744019326482267, 0.9744019326482267, 0.9744019326482267, 0.9744019326482267, 0.9744019326482267, 0.9744019326482267, 0.9744019326482267, 0.9744019326482267, 0.9744019326482267, 0.9744019326482267, 0.9744019326482267, 0.9744019326482267, 0.9744019326482267, 0.9744019326482267, 0.9744019326482267, 0.9744019326482267, 0.9744019326482267, 0.9744019326482267, 0.9744019326482267, 0.9744019326482267, 0.9744019326482267, 0.9744019326482267, 0.9744019326482267, 0.9744019326482267, 0.9744019326482267, 0.9744019326482267, 0.9840195189776664, 0.9840195189776664]}], \"matthews_correlation\": [{\"categories\": [\"0\", \"1\", \"2\", \"3\", \"4\", \"5\", \"6\", \"7\", \"8\", \"9\", \"10\", \"11\", \"12\", \"13\", \"14\", \"15\", \"16\", \"17\", \"18\", \"19\", \"20\", \"21\", \"22\", \"23\", \"24\", \"25\", \"26\", \"27\", \"28\", \"29\", \"30\", \"31\", \"32\", \"36\", \"37\"], \"mode\": \"markers\", \"name\": \"matthews_correlation\", \"stepped\": false, \"type\": \"scatter\", \"data\": [0.8765554203040866, 0.8706519639996028, 0.622076160951647, 0.5420846299641543, 0.613536654783881, 0.5686136190044773, 0.894858778265933, 0.6864642663865789, 0.651222533208237, 0.7194242704011703, 0.7027436226518132, 0.6874938214626989, 0.7340213356233436, 0.741180282165516, 0.8276753900256735, 0.7060643383827994, 0.8879931762262931, 0.7641873712102164, 0.6852322990467649, 0.6186124769032768, 0.8718933082544401, 0.8688669235306804, 0.8019282187384207, 0.8785892349155093, 0.6477114335634893, 0.0, 0.8695091367908627, 0.6954560399303062, 0.8019175989985378, 0.8142417252431841, 0.8740070784930836, 0.8269592052660361, 0.8560182848596524, 0.9152973917574008, 0.9083795498670275]}, {\"categories\": [\"0\", \"1\", \"2\", \"3\", \"4\", \"5\", \"6\", \"7\", \"8\", \"9\", \"10\", \"11\", \"12\", \"13\", \"14\", \"15\", \"16\", \"17\", \"18\", \"19\", \"20\", \"21\", \"22\", \"23\", \"24\", \"25\", \"26\", \"27\", \"28\", \"29\", \"30\", \"31\", \"32\", \"36\", \"37\"], \"mode\": \"lines\", \"name\": \"matthews_correlation_max\", \"stepped\": true, \"type\": \"scatter\", \"data\": [0.8765554203040866, 0.8765554203040866, 0.8765554203040866, 0.8765554203040866, 0.8765554203040866, 0.8765554203040866, 0.894858778265933, 0.894858778265933, 0.894858778265933, 0.894858778265933, 0.894858778265933, 0.894858778265933, 0.894858778265933, 0.894858778265933, 0.894858778265933, 0.894858778265933, 0.894858778265933, 0.894858778265933, 0.894858778265933, 0.894858778265933, 0.894858778265933, 0.894858778265933, 0.894858778265933, 0.894858778265933, 0.894858778265933, 0.894858778265933, 0.894858778265933, 0.894858778265933, 0.894858778265933, 0.894858778265933, 0.894858778265933, 0.894858778265933, 0.894858778265933, 0.9152973917574008, 0.9152973917574008]}]}, \"metricName\": null, \"primaryMetricName\": \"accuracy\", \"showLegend\": false}, \"run_metrics\": [{\"name\": \"experiment_status\", \"run_id\": \"AutoML_2e3ecec9-8b98-46e6-8caf-ebe839cb45fc\", \"categories\": [0, 1, 2, 3, 4, 5, 6, 7, 8, 9, 10, 11, 12, 13], \"series\": [{\"data\": [\"DatasetEvaluation\", \"FeaturesGeneration\", \"DatasetFeaturization\", \"DatasetFeaturizationCompleted\", \"DatasetCrossValidationSplit\", \"ModelSelection\", \"BestRunExplainModel\", \"ModelExplanationDataSetSetup\", \"PickSurrogateModel\", \"EngineeredFeatureExplanations\", \"EngineeredFeatureExplanations\", \"RawFeaturesExplanations\", \"RawFeaturesExplanations\", \"BestRunExplainModel\"]}]}, {\"name\": \"experiment_status_description\", \"run_id\": \"AutoML_2e3ecec9-8b98-46e6-8caf-ebe839cb45fc\", \"categories\": [0, 1, 2, 3, 4, 5, 6, 7, 8, 9, 10, 11, 12, 13], \"series\": [{\"data\": [\"Gathering dataset statistics.\", \"Generating features for the dataset.\", \"Beginning to fit featurizers and featurize the dataset.\", \"Completed fit featurizers and featurizing the dataset.\", \"Generating individually featurized CV splits.\", \"Beginning model selection.\", \"Best run model explanations started\", \"Model explanations data setup completed\", \"Choosing LightGBM as the surrogate model for explanations\", \"Computation of engineered features started\", \"Computation of engineered features completed\", \"Computation of raw features started\", \"Computation of raw features completed\", \"Best run model explanations completed\"]}]}, {\"name\": \"average_precision_score_macro\", \"run_id\": \"AutoML_2e3ecec9-8b98-46e6-8caf-ebe839cb45fc\", \"categories\": [0], \"series\": [{\"data\": [0.9840195189776664]}]}, {\"name\": \"recall_score_weighted\", \"run_id\": \"AutoML_2e3ecec9-8b98-46e6-8caf-ebe839cb45fc\", \"categories\": [0], \"series\": [{\"data\": [0.9365]}]}, {\"name\": \"average_precision_score_micro\", \"run_id\": \"AutoML_2e3ecec9-8b98-46e6-8caf-ebe839cb45fc\", \"categories\": [0], \"series\": [{\"data\": [0.9856045422901627]}]}, {\"name\": \"precision_score_weighted\", \"run_id\": \"AutoML_2e3ecec9-8b98-46e6-8caf-ebe839cb45fc\", \"categories\": [0], \"series\": [{\"data\": [0.9368915915745794]}]}, {\"name\": \"AUC_macro\", \"run_id\": \"AutoML_2e3ecec9-8b98-46e6-8caf-ebe839cb45fc\", \"categories\": [0], \"series\": [{\"data\": [0.99446946158943]}]}, {\"name\": \"f1_score_weighted\", \"run_id\": \"AutoML_2e3ecec9-8b98-46e6-8caf-ebe839cb45fc\", \"categories\": [0], \"series\": [{\"data\": [0.9364811222967427]}]}, {\"name\": \"accuracy\", \"run_id\": \"AutoML_2e3ecec9-8b98-46e6-8caf-ebe839cb45fc\", \"categories\": [0], \"series\": [{\"data\": [0.9365]}]}, {\"name\": \"recall_score_micro\", \"run_id\": \"AutoML_2e3ecec9-8b98-46e6-8caf-ebe839cb45fc\", \"categories\": [0], \"series\": [{\"data\": [0.9365]}]}, {\"name\": \"matthews_correlation\", \"run_id\": \"AutoML_2e3ecec9-8b98-46e6-8caf-ebe839cb45fc\", \"categories\": [0], \"series\": [{\"data\": [0.9152973917574008]}]}, {\"name\": \"average_precision_score_weighted\", \"run_id\": \"AutoML_2e3ecec9-8b98-46e6-8caf-ebe839cb45fc\", \"categories\": [0], \"series\": [{\"data\": [0.984036738626027]}]}, {\"name\": \"weighted_accuracy\", \"run_id\": \"AutoML_2e3ecec9-8b98-46e6-8caf-ebe839cb45fc\", \"categories\": [0], \"series\": [{\"data\": [0.9362354483946218]}]}, {\"name\": \"precision_score_micro\", \"run_id\": \"AutoML_2e3ecec9-8b98-46e6-8caf-ebe839cb45fc\", \"categories\": [0], \"series\": [{\"data\": [0.9365]}]}, {\"name\": \"AUC_micro\", \"run_id\": \"AutoML_2e3ecec9-8b98-46e6-8caf-ebe839cb45fc\", \"categories\": [0], \"series\": [{\"data\": [0.9950029166666667]}]}, {\"name\": \"norm_macro_recall\", \"run_id\": \"AutoML_2e3ecec9-8b98-46e6-8caf-ebe839cb45fc\", \"categories\": [0], \"series\": [{\"data\": [0.9157452685741223]}]}, {\"name\": \"balanced_accuracy\", \"run_id\": \"AutoML_2e3ecec9-8b98-46e6-8caf-ebe839cb45fc\", \"categories\": [0], \"series\": [{\"data\": [0.9368089514305918]}]}, {\"name\": \"AUC_weighted\", \"run_id\": \"AutoML_2e3ecec9-8b98-46e6-8caf-ebe839cb45fc\", \"categories\": [0], \"series\": [{\"data\": [0.9944404263340028]}]}, {\"name\": \"f1_score_macro\", \"run_id\": \"AutoML_2e3ecec9-8b98-46e6-8caf-ebe839cb45fc\", \"categories\": [0], \"series\": [{\"data\": [0.936456847495515]}]}, {\"name\": \"precision_score_macro\", \"run_id\": \"AutoML_2e3ecec9-8b98-46e6-8caf-ebe839cb45fc\", \"categories\": [0], \"series\": [{\"data\": [0.9365284736980801]}]}, {\"name\": \"recall_score_macro\", \"run_id\": \"AutoML_2e3ecec9-8b98-46e6-8caf-ebe839cb45fc\", \"categories\": [0], \"series\": [{\"data\": [0.9368089514305918]}]}, {\"name\": \"f1_score_micro\", \"run_id\": \"AutoML_2e3ecec9-8b98-46e6-8caf-ebe839cb45fc\", \"categories\": [0], \"series\": [{\"data\": [0.9365]}]}, {\"name\": \"log_loss\", \"run_id\": \"AutoML_2e3ecec9-8b98-46e6-8caf-ebe839cb45fc\", \"categories\": [0], \"series\": [{\"data\": [0.3932873315769667]}]}], \"run_logs\": \"\\nRun is completed.\", \"graph\": {}, \"widget_settings\": {\"childWidgetDisplay\": \"popup\", \"send_telemetry\": false, \"log_level\": \"INFO\", \"sdk_version\": \"1.24.0\"}, \"loading\": false}"
          },
          "metadata": {}
        }
      ],
      "execution_count": 8,
      "metadata": {
        "gather": {
          "logged": 1616350848625
        },
        "jupyter": {
          "outputs_hidden": false,
          "source_hidden": false
        },
        "nteract": {
          "transient": {
            "deleting": false
          }
        }
      }
    },
    {
      "cell_type": "code",
      "source": [],
      "outputs": [],
      "execution_count": null,
      "metadata": {
        "collapsed": true,
        "jupyter": {
          "source_hidden": false,
          "outputs_hidden": false
        },
        "nteract": {
          "transient": {
            "deleting": false
          }
        }
      }
    },
    {
      "cell_type": "code",
      "source": [],
      "outputs": [],
      "execution_count": null,
      "metadata": {
        "collapsed": true,
        "jupyter": {
          "source_hidden": false,
          "outputs_hidden": false
        },
        "nteract": {
          "transient": {
            "deleting": false
          }
        }
      }
    },
    {
      "cell_type": "markdown",
      "source": [
        "## Run Details\n"
      ],
      "metadata": {}
    },
    {
      "cell_type": "code",
      "source": [
        "RunDetails(remote_run).show()"
      ],
      "outputs": [],
      "execution_count": null,
      "metadata": {
        "gather": {
          "logged": 1616258523276
        },
        "jupyter": {
          "outputs_hidden": false,
          "source_hidden": false
        },
        "nteract": {
          "transient": {
            "deleting": false
          }
        }
      }
    },
    {
      "cell_type": "code",
      "source": [
        "remote_run.wait_for_completion(show_output=True)"
      ],
      "outputs": [
        {
          "output_type": "stream",
          "name": "stdout",
          "text": [
            "\n",
            "Current status: FeaturesGeneration. Generating features for the dataset.\n",
            "Current status: DatasetFeaturization. Beginning to fit featurizers and featurize the dataset.\n",
            "Current status: DatasetCrossValidationSplit. Generating individually featurized CV splits.\n",
            "Current status: ModelSelection. Beginning model selection.\n",
            "\n",
            "****************************************************************************************************\n",
            "DATA GUARDRAILS: \n",
            "\n",
            "TYPE:         Class balancing detection\n",
            "STATUS:       PASSED\n",
            "DESCRIPTION:  Your inputs were analyzed, and all classes are balanced in your training data.\n",
            "              Learn more about imbalanced data: https://aka.ms/AutomatedMLImbalancedData\n",
            "\n",
            "****************************************************************************************************\n",
            "\n",
            "TYPE:         Missing feature values imputation\n",
            "STATUS:       PASSED\n",
            "DESCRIPTION:  No feature missing values were detected in the training data.\n",
            "              Learn more about missing value imputation: https://aka.ms/AutomatedMLFeaturization\n",
            "\n",
            "****************************************************************************************************\n",
            "\n",
            "TYPE:         High cardinality feature detection\n",
            "STATUS:       PASSED\n",
            "DESCRIPTION:  Your inputs were analyzed, and no high cardinality features were detected.\n",
            "              Learn more about high cardinality feature handling: https://aka.ms/AutomatedMLFeaturization\n",
            "\n",
            "****************************************************************************************************\n",
            "\n",
            "****************************************************************************************************\n",
            "ITERATION: The iteration being evaluated.\n",
            "PIPELINE: A summary description of the pipeline being evaluated.\n",
            "DURATION: Time taken for the current iteration.\n",
            "METRIC: The result of computing score on the fitted pipeline.\n",
            "BEST: The best observed score thus far.\n",
            "****************************************************************************************************\n",
            "\n",
            " ITERATION   PIPELINE                                       DURATION      METRIC      BEST\n",
            "         0   MaxAbsScaler LightGBM                          0:00:54       0.9075    0.9075\n",
            "         3   MaxAbsScaler RandomForest                      0:01:07       0.6520    0.9075\n",
            "         2   MaxAbsScaler RandomForest                      0:00:50       0.7150    0.9075\n",
            "         6   SparseNormalizer XGBoostClassifier             0:00:55       0.9210    0.9210\n",
            "         7   MaxAbsScaler LogisticRegression                0:01:00       0.7650    0.9210\n",
            "         1   MaxAbsScaler XGBoostClassifier                 0:03:23       0.9030    0.9210\n",
            "         5   MaxAbsScaler RandomForest                      0:03:23       0.6720    0.9210\n",
            "         4   MaxAbsScaler RandomForest                      0:03:31       0.7080    0.9210\n",
            "         8   SparseNormalizer XGBoostClassifier             0:00:49       0.7380    0.9210\n",
            "        10   MaxAbsScaler LightGBM                          0:00:48       0.7765    0.9210\n",
            "        12   MaxAbsScaler GradientBoosting                  0:00:53       0.8005    0.9210\n",
            "         9   StandardScalerWrapper RandomForest             0:00:55       0.7880    0.9210\n",
            "        11   MaxAbsScaler RandomForest                      0:00:58       0.7610    0.9210\n",
            "        13   MaxAbsScaler ExtremeRandomTrees                0:01:00       0.8050    0.9210\n",
            "        14   SparseNormalizer XGBoostClassifier             0:00:47       0.8705    0.9210\n",
            "        15   MaxAbsScaler LightGBM                          0:00:51       0.7795    0.9210\n",
            "        16   SparseNormalizer XGBoostClassifier             0:00:59       0.9160    0.9210\n",
            "        17   StandardScalerWrapper XGBoostClassifier        0:00:52       0.8230    0.9210\n",
            "        18   MaxAbsScaler LightGBM                          0:00:53       0.7640    0.9210\n",
            "        19   MaxAbsScaler LogisticRegression                0:00:51       0.7125    0.9210\n",
            "        20   MaxAbsScaler LightGBM                          0:00:58       0.9040    0.9210\n",
            "        21   SparseNormalizer LightGBM                      0:00:58       0.9015    0.9210\n",
            "        22   SparseNormalizer LightGBM                      0:00:57       0.8505    0.9210\n",
            "        23   SparseNormalizer XGBoostClassifier             0:00:58       0.9090    0.9210\n",
            "        24   StandardScalerWrapper XGBoostClassifier        0:00:50       0.7325    0.9210\n",
            "        25   StandardScalerWrapper XGBoostClassifier        0:00:54       0.2265    0.9210\n",
            "        26   SparseNormalizer XGBoostClassifier             0:01:09       0.9020    0.9210\n",
            "        27   SparseNormalizer XGBoostClassifier             0:01:04       0.7710    0.9210\n",
            "        28   SparseNormalizer XGBoostClassifier             0:01:14       0.8515    0.9210\n",
            "        29   StandardScalerWrapper XGBoostClassifier        0:01:00       0.8605    0.9210\n",
            "        30   SparseNormalizer XGBoostClassifier             0:00:52       0.9055    0.9210\n",
            "        31   SparseNormalizer RandomForest                  0:00:45       0.8700    0.9210\n",
            "        32   StandardScalerWrapper XGBoostClassifier        0:00:51       0.8920    0.9210\n",
            "        33                                                  0:00:19          nan    0.9210\n",
            "        34                                                  0:00:15          nan    0.9210\n",
            "        35                                                  0:00:16          nan    0.9210\n",
            "        36    VotingEnsemble                                0:01:08       0.9365    0.9365\n",
            "        37    StackEnsemble                                 0:01:41       0.9310    0.9365\n"
          ]
        },
        {
          "output_type": "execute_result",
          "execution_count": 9,
          "data": {
            "text/plain": "{'runId': 'AutoML_2e3ecec9-8b98-46e6-8caf-ebe839cb45fc',\n 'target': 'automl-mobiles',\n 'status': 'Completed',\n 'startTimeUtc': '2021-03-21T18:21:04.971522Z',\n 'endTimeUtc': '2021-03-21T18:46:39.788851Z',\n 'properties': {'num_iterations': '1000',\n  'training_type': 'TrainFull',\n  'acquisition_function': 'EI',\n  'primary_metric': 'accuracy',\n  'train_split': '0',\n  'acquisition_parameter': '0',\n  'num_cross_validation': '5',\n  'target': 'automl-mobiles',\n  'AMLSettingsJsonString': '{\"path\":null,\"name\":\"automl-mobile\",\"subscription_id\":\"f5091c60-1c3c-430f-8d81-d802f6bf2414\",\"resource_group\":\"aml-quickstarts-141054\",\"workspace_name\":\"quick-starts-ws-141054\",\"region\":\"southcentralus\",\"compute_target\":\"automl-mobiles\",\"spark_service\":null,\"azure_service\":\"remote\",\"many_models\":false,\"pipeline_fetch_max_batch_size\":1,\"enable_batch_run\":false,\"iterations\":1000,\"primary_metric\":\"accuracy\",\"task_type\":\"classification\",\"data_script\":null,\"validation_size\":0.0,\"n_cross_validations\":5,\"y_min\":null,\"y_max\":null,\"num_classes\":null,\"featurization\":\"auto\",\"_ignore_package_version_incompatibilities\":false,\"is_timeseries\":false,\"max_cores_per_iteration\":1,\"max_concurrent_iterations\":4,\"iteration_timeout_minutes\":null,\"mem_in_mb\":null,\"enforce_time_on_windows\":false,\"experiment_timeout_minutes\":20,\"experiment_exit_score\":null,\"whitelist_models\":null,\"blacklist_algos\":[\"TensorFlowLinearClassifier\",\"TensorFlowDNN\"],\"supported_models\":[\"BernoulliNaiveBayes\",\"XGBoostClassifier\",\"KNN\",\"AveragedPerceptronClassifier\",\"ExtremeRandomTrees\",\"DecisionTree\",\"GradientBoosting\",\"TensorFlowDNN\",\"TensorFlowLinearClassifier\",\"SGD\",\"SVM\",\"LogisticRegression\",\"LinearSVM\",\"LightGBM\",\"MultinomialNaiveBayes\",\"RandomForest\"],\"private_models\":[],\"auto_blacklist\":true,\"blacklist_samples_reached\":false,\"exclude_nan_labels\":true,\"verbosity\":20,\"_debug_log\":\"azureml_automl.log\",\"show_warnings\":false,\"model_explainability\":true,\"service_url\":null,\"sdk_url\":null,\"sdk_packages\":null,\"enable_onnx_compatible_models\":false,\"enable_split_onnx_featurizer_estimator_models\":false,\"vm_type\":\"STANDARD_D2_V2\",\"telemetry_verbosity\":20,\"send_telemetry\":true,\"enable_dnn\":false,\"scenario\":\"SDK-1.13.0\",\"environment_label\":null,\"save_mlflow\":false,\"force_text_dnn\":false,\"enable_feature_sweeping\":true,\"enable_early_stopping\":true,\"early_stopping_n_iters\":10,\"metrics\":null,\"enable_metric_confidence\":false,\"enable_ensembling\":true,\"enable_stack_ensembling\":true,\"ensemble_iterations\":15,\"enable_tf\":false,\"enable_subsampling\":null,\"subsample_seed\":null,\"enable_nimbusml\":false,\"enable_streaming\":false,\"force_streaming\":false,\"track_child_runs\":true,\"allowed_private_models\":[],\"label_column_name\":\"price_range\",\"weight_column_name\":null,\"cv_split_column_names\":null,\"enable_local_managed\":false,\"_local_managed_run_id\":null,\"cost_mode\":1,\"lag_length\":0,\"metric_operation\":\"maximize\",\"preprocess\":true}',\n  'DataPrepJsonString': '{\\\\\"training_data\\\\\": \\\\\"{\\\\\\\\\\\\\"blocks\\\\\\\\\\\\\": [{\\\\\\\\\\\\\"id\\\\\\\\\\\\\": \\\\\\\\\\\\\"49700a5d-9250-4716-b833-76c1566a6551\\\\\\\\\\\\\", \\\\\\\\\\\\\"type\\\\\\\\\\\\\": \\\\\\\\\\\\\"Microsoft.DPrep.GetDatastoreFilesBlock\\\\\\\\\\\\\", \\\\\\\\\\\\\"arguments\\\\\\\\\\\\\": {\\\\\\\\\\\\\"datastores\\\\\\\\\\\\\": [{\\\\\\\\\\\\\"datastoreName\\\\\\\\\\\\\": \\\\\\\\\\\\\"workspaceblobstore\\\\\\\\\\\\\", \\\\\\\\\\\\\"path\\\\\\\\\\\\\": \\\\\\\\\\\\\"UI/03-21-2021_050026_UTC/train.csv\\\\\\\\\\\\\", \\\\\\\\\\\\\"resourceGroup\\\\\\\\\\\\\": \\\\\\\\\\\\\"aml-quickstarts-141054\\\\\\\\\\\\\", \\\\\\\\\\\\\"subscription\\\\\\\\\\\\\": \\\\\\\\\\\\\"f5091c60-1c3c-430f-8d81-d802f6bf2414\\\\\\\\\\\\\", \\\\\\\\\\\\\"workspaceName\\\\\\\\\\\\\": \\\\\\\\\\\\\"quick-starts-ws-141054\\\\\\\\\\\\\"}]}, \\\\\\\\\\\\\"localData\\\\\\\\\\\\\": {}, \\\\\\\\\\\\\"isEnabled\\\\\\\\\\\\\": true, \\\\\\\\\\\\\"name\\\\\\\\\\\\\": null, \\\\\\\\\\\\\"annotation\\\\\\\\\\\\\": null}, {\\\\\\\\\\\\\"id\\\\\\\\\\\\\": \\\\\\\\\\\\\"1a6b6965-4525-4a36-b326-11158a43ea6a\\\\\\\\\\\\\", \\\\\\\\\\\\\"type\\\\\\\\\\\\\": \\\\\\\\\\\\\"Microsoft.DPrep.ParseDelimitedBlock\\\\\\\\\\\\\", \\\\\\\\\\\\\"arguments\\\\\\\\\\\\\": {\\\\\\\\\\\\\"columnHeadersMode\\\\\\\\\\\\\": 1, \\\\\\\\\\\\\"fileEncoding\\\\\\\\\\\\\": 0, \\\\\\\\\\\\\"handleQuotedLineBreaks\\\\\\\\\\\\\": false, \\\\\\\\\\\\\"preview\\\\\\\\\\\\\": false, \\\\\\\\\\\\\"separator\\\\\\\\\\\\\": \\\\\\\\\\\\\",\\\\\\\\\\\\\", \\\\\\\\\\\\\"skipRows\\\\\\\\\\\\\": 0, \\\\\\\\\\\\\"skipRowsMode\\\\\\\\\\\\\": 0}, \\\\\\\\\\\\\"localData\\\\\\\\\\\\\": {}, \\\\\\\\\\\\\"isEnabled\\\\\\\\\\\\\": true, \\\\\\\\\\\\\"name\\\\\\\\\\\\\": null, \\\\\\\\\\\\\"annotation\\\\\\\\\\\\\": null}, {\\\\\\\\\\\\\"id\\\\\\\\\\\\\": \\\\\\\\\\\\\"7dca64d5-bc9b-4d78-b891-029ef3eb91a0\\\\\\\\\\\\\", \\\\\\\\\\\\\"type\\\\\\\\\\\\\": \\\\\\\\\\\\\"Microsoft.DPrep.DropColumnsBlock\\\\\\\\\\\\\", \\\\\\\\\\\\\"arguments\\\\\\\\\\\\\": {\\\\\\\\\\\\\"columns\\\\\\\\\\\\\": {\\\\\\\\\\\\\"type\\\\\\\\\\\\\": 0, \\\\\\\\\\\\\"details\\\\\\\\\\\\\": {\\\\\\\\\\\\\"selectedColumns\\\\\\\\\\\\\": [\\\\\\\\\\\\\"Path\\\\\\\\\\\\\"]}}}, \\\\\\\\\\\\\"localData\\\\\\\\\\\\\": {}, \\\\\\\\\\\\\"isEnabled\\\\\\\\\\\\\": true, \\\\\\\\\\\\\"name\\\\\\\\\\\\\": null, \\\\\\\\\\\\\"annotation\\\\\\\\\\\\\": null}, {\\\\\\\\\\\\\"id\\\\\\\\\\\\\": \\\\\\\\\\\\\"b078b6bb-70cf-46da-afe7-1511d229c95e\\\\\\\\\\\\\", \\\\\\\\\\\\\"type\\\\\\\\\\\\\": \\\\\\\\\\\\\"Microsoft.DPrep.SetColumnTypesBlock\\\\\\\\\\\\\", \\\\\\\\\\\\\"arguments\\\\\\\\\\\\\": {\\\\\\\\\\\\\"columnConversion\\\\\\\\\\\\\": [{\\\\\\\\\\\\\"column\\\\\\\\\\\\\": {\\\\\\\\\\\\\"type\\\\\\\\\\\\\": 2, \\\\\\\\\\\\\"details\\\\\\\\\\\\\": {\\\\\\\\\\\\\"selectedColumn\\\\\\\\\\\\\": \\\\\\\\\\\\\"Path\\\\\\\\\\\\\"}}, \\\\\\\\\\\\\"typeProperty\\\\\\\\\\\\\": 0}, {\\\\\\\\\\\\\"column\\\\\\\\\\\\\": {\\\\\\\\\\\\\"type\\\\\\\\\\\\\": 2, \\\\\\\\\\\\\"details\\\\\\\\\\\\\": {\\\\\\\\\\\\\"selectedColumn\\\\\\\\\\\\\": \\\\\\\\\\\\\"battery_power\\\\\\\\\\\\\"}}, \\\\\\\\\\\\\"typeProperty\\\\\\\\\\\\\": 2}, {\\\\\\\\\\\\\"column\\\\\\\\\\\\\": {\\\\\\\\\\\\\"type\\\\\\\\\\\\\": 2, \\\\\\\\\\\\\"details\\\\\\\\\\\\\": {\\\\\\\\\\\\\"selectedColumn\\\\\\\\\\\\\": \\\\\\\\\\\\\"blue\\\\\\\\\\\\\"}}, \\\\\\\\\\\\\"typeProperty\\\\\\\\\\\\\": 2}, {\\\\\\\\\\\\\"column\\\\\\\\\\\\\": {\\\\\\\\\\\\\"type\\\\\\\\\\\\\": 2, \\\\\\\\\\\\\"details\\\\\\\\\\\\\": {\\\\\\\\\\\\\"selectedColumn\\\\\\\\\\\\\": \\\\\\\\\\\\\"clock_speed\\\\\\\\\\\\\"}}, \\\\\\\\\\\\\"typeProperty\\\\\\\\\\\\\": 3}, {\\\\\\\\\\\\\"column\\\\\\\\\\\\\": {\\\\\\\\\\\\\"type\\\\\\\\\\\\\": 2, \\\\\\\\\\\\\"details\\\\\\\\\\\\\": {\\\\\\\\\\\\\"selectedColumn\\\\\\\\\\\\\": \\\\\\\\\\\\\"dual_sim\\\\\\\\\\\\\"}}, \\\\\\\\\\\\\"typeProperty\\\\\\\\\\\\\": 2}, {\\\\\\\\\\\\\"column\\\\\\\\\\\\\": {\\\\\\\\\\\\\"type\\\\\\\\\\\\\": 2, \\\\\\\\\\\\\"details\\\\\\\\\\\\\": {\\\\\\\\\\\\\"selectedColumn\\\\\\\\\\\\\": \\\\\\\\\\\\\"fc\\\\\\\\\\\\\"}}, \\\\\\\\\\\\\"typeProperty\\\\\\\\\\\\\": 2}, {\\\\\\\\\\\\\"column\\\\\\\\\\\\\": {\\\\\\\\\\\\\"type\\\\\\\\\\\\\": 2, \\\\\\\\\\\\\"details\\\\\\\\\\\\\": {\\\\\\\\\\\\\"selectedColumn\\\\\\\\\\\\\": \\\\\\\\\\\\\"four_g\\\\\\\\\\\\\"}}, \\\\\\\\\\\\\"typeProperty\\\\\\\\\\\\\": 2}, {\\\\\\\\\\\\\"column\\\\\\\\\\\\\": {\\\\\\\\\\\\\"type\\\\\\\\\\\\\": 2, \\\\\\\\\\\\\"details\\\\\\\\\\\\\": {\\\\\\\\\\\\\"selectedColumn\\\\\\\\\\\\\": \\\\\\\\\\\\\"int_memory\\\\\\\\\\\\\"}}, \\\\\\\\\\\\\"typeProperty\\\\\\\\\\\\\": 2}, {\\\\\\\\\\\\\"column\\\\\\\\\\\\\": {\\\\\\\\\\\\\"type\\\\\\\\\\\\\": 2, \\\\\\\\\\\\\"details\\\\\\\\\\\\\": {\\\\\\\\\\\\\"selectedColumn\\\\\\\\\\\\\": \\\\\\\\\\\\\"m_dep\\\\\\\\\\\\\"}}, \\\\\\\\\\\\\"typeProperty\\\\\\\\\\\\\": 3}, {\\\\\\\\\\\\\"column\\\\\\\\\\\\\": {\\\\\\\\\\\\\"type\\\\\\\\\\\\\": 2, \\\\\\\\\\\\\"details\\\\\\\\\\\\\": {\\\\\\\\\\\\\"selectedColumn\\\\\\\\\\\\\": \\\\\\\\\\\\\"mobile_wt\\\\\\\\\\\\\"}}, \\\\\\\\\\\\\"typeProperty\\\\\\\\\\\\\": 2}, {\\\\\\\\\\\\\"column\\\\\\\\\\\\\": {\\\\\\\\\\\\\"type\\\\\\\\\\\\\": 2, \\\\\\\\\\\\\"details\\\\\\\\\\\\\": {\\\\\\\\\\\\\"selectedColumn\\\\\\\\\\\\\": \\\\\\\\\\\\\"n_cores\\\\\\\\\\\\\"}}, \\\\\\\\\\\\\"typeProperty\\\\\\\\\\\\\": 2}, {\\\\\\\\\\\\\"column\\\\\\\\\\\\\": {\\\\\\\\\\\\\"type\\\\\\\\\\\\\": 2, \\\\\\\\\\\\\"details\\\\\\\\\\\\\": {\\\\\\\\\\\\\"selectedColumn\\\\\\\\\\\\\": \\\\\\\\\\\\\"pc\\\\\\\\\\\\\"}}, \\\\\\\\\\\\\"typeProperty\\\\\\\\\\\\\": 2}, {\\\\\\\\\\\\\"column\\\\\\\\\\\\\": {\\\\\\\\\\\\\"type\\\\\\\\\\\\\": 2, \\\\\\\\\\\\\"details\\\\\\\\\\\\\": {\\\\\\\\\\\\\"selectedColumn\\\\\\\\\\\\\": \\\\\\\\\\\\\"px_height\\\\\\\\\\\\\"}}, \\\\\\\\\\\\\"typeProperty\\\\\\\\\\\\\": 2}, {\\\\\\\\\\\\\"column\\\\\\\\\\\\\": {\\\\\\\\\\\\\"type\\\\\\\\\\\\\": 2, \\\\\\\\\\\\\"details\\\\\\\\\\\\\": {\\\\\\\\\\\\\"selectedColumn\\\\\\\\\\\\\": \\\\\\\\\\\\\"px_width\\\\\\\\\\\\\"}}, \\\\\\\\\\\\\"typeProperty\\\\\\\\\\\\\": 2}, {\\\\\\\\\\\\\"column\\\\\\\\\\\\\": {\\\\\\\\\\\\\"type\\\\\\\\\\\\\": 2, \\\\\\\\\\\\\"details\\\\\\\\\\\\\": {\\\\\\\\\\\\\"selectedColumn\\\\\\\\\\\\\": \\\\\\\\\\\\\"ram\\\\\\\\\\\\\"}}, \\\\\\\\\\\\\"typeProperty\\\\\\\\\\\\\": 2}, {\\\\\\\\\\\\\"column\\\\\\\\\\\\\": {\\\\\\\\\\\\\"type\\\\\\\\\\\\\": 2, \\\\\\\\\\\\\"details\\\\\\\\\\\\\": {\\\\\\\\\\\\\"selectedColumn\\\\\\\\\\\\\": \\\\\\\\\\\\\"sc_h\\\\\\\\\\\\\"}}, \\\\\\\\\\\\\"typeProperty\\\\\\\\\\\\\": 2}, {\\\\\\\\\\\\\"column\\\\\\\\\\\\\": {\\\\\\\\\\\\\"type\\\\\\\\\\\\\": 2, \\\\\\\\\\\\\"details\\\\\\\\\\\\\": {\\\\\\\\\\\\\"selectedColumn\\\\\\\\\\\\\": \\\\\\\\\\\\\"sc_w\\\\\\\\\\\\\"}}, \\\\\\\\\\\\\"typeProperty\\\\\\\\\\\\\": 2}, {\\\\\\\\\\\\\"column\\\\\\\\\\\\\": {\\\\\\\\\\\\\"type\\\\\\\\\\\\\": 2, \\\\\\\\\\\\\"details\\\\\\\\\\\\\": {\\\\\\\\\\\\\"selectedColumn\\\\\\\\\\\\\": \\\\\\\\\\\\\"talk_time\\\\\\\\\\\\\"}}, \\\\\\\\\\\\\"typeProperty\\\\\\\\\\\\\": 2}, {\\\\\\\\\\\\\"column\\\\\\\\\\\\\": {\\\\\\\\\\\\\"type\\\\\\\\\\\\\": 2, \\\\\\\\\\\\\"details\\\\\\\\\\\\\": {\\\\\\\\\\\\\"selectedColumn\\\\\\\\\\\\\": \\\\\\\\\\\\\"three_g\\\\\\\\\\\\\"}}, \\\\\\\\\\\\\"typeProperty\\\\\\\\\\\\\": 2}, {\\\\\\\\\\\\\"column\\\\\\\\\\\\\": {\\\\\\\\\\\\\"type\\\\\\\\\\\\\": 2, \\\\\\\\\\\\\"details\\\\\\\\\\\\\": {\\\\\\\\\\\\\"selectedColumn\\\\\\\\\\\\\": \\\\\\\\\\\\\"touch_screen\\\\\\\\\\\\\"}}, \\\\\\\\\\\\\"typeProperty\\\\\\\\\\\\\": 2}, {\\\\\\\\\\\\\"column\\\\\\\\\\\\\": {\\\\\\\\\\\\\"type\\\\\\\\\\\\\": 2, \\\\\\\\\\\\\"details\\\\\\\\\\\\\": {\\\\\\\\\\\\\"selectedColumn\\\\\\\\\\\\\": \\\\\\\\\\\\\"wifi\\\\\\\\\\\\\"}}, \\\\\\\\\\\\\"typeProperty\\\\\\\\\\\\\": 2}, {\\\\\\\\\\\\\"column\\\\\\\\\\\\\": {\\\\\\\\\\\\\"type\\\\\\\\\\\\\": 2, \\\\\\\\\\\\\"details\\\\\\\\\\\\\": {\\\\\\\\\\\\\"selectedColumn\\\\\\\\\\\\\": \\\\\\\\\\\\\"price_range\\\\\\\\\\\\\"}}, \\\\\\\\\\\\\"typeProperty\\\\\\\\\\\\\": 2}]}, \\\\\\\\\\\\\"localData\\\\\\\\\\\\\": {}, \\\\\\\\\\\\\"isEnabled\\\\\\\\\\\\\": true, \\\\\\\\\\\\\"name\\\\\\\\\\\\\": null, \\\\\\\\\\\\\"annotation\\\\\\\\\\\\\": null}], \\\\\\\\\\\\\"inspectors\\\\\\\\\\\\\": [], \\\\\\\\\\\\\"meta\\\\\\\\\\\\\": {\\\\\\\\\\\\\"savedDatasetId\\\\\\\\\\\\\": \\\\\\\\\\\\\"6398cc1c-e72a-430a-8684-38352d55cbf6\\\\\\\\\\\\\", \\\\\\\\\\\\\"datasetType\\\\\\\\\\\\\": \\\\\\\\\\\\\"tabular\\\\\\\\\\\\\", \\\\\\\\\\\\\"subscriptionId\\\\\\\\\\\\\": \\\\\\\\\\\\\"f5091c60-1c3c-430f-8d81-d802f6bf2414\\\\\\\\\\\\\", \\\\\\\\\\\\\"workspaceId\\\\\\\\\\\\\": \\\\\\\\\\\\\"0ba91f0a-2220-463c-8a8d-41081a563dea\\\\\\\\\\\\\", \\\\\\\\\\\\\"workspaceLocation\\\\\\\\\\\\\": \\\\\\\\\\\\\"southcentralus\\\\\\\\\\\\\"}}\\\\\", \\\\\"activities\\\\\": 0}',\n  'EnableSubsampling': None,\n  'runTemplate': 'AutoML',\n  'azureml.runsource': 'automl',\n  'display_task_type': 'classification',\n  'dependencies_versions': '{\"azureml-widgets\": \"1.24.0\", \"azureml-train\": \"1.24.0\", \"azureml-train-restclients-hyperdrive\": \"1.24.0\", \"azureml-train-core\": \"1.24.0\", \"azureml-train-automl\": \"1.24.0\", \"azureml-train-automl-runtime\": \"1.24.0\", \"azureml-train-automl-client\": \"1.24.0\", \"azureml-tensorboard\": \"1.24.0\", \"azureml-telemetry\": \"1.24.0\", \"azureml-sdk\": \"1.24.0\", \"azureml-samples\": \"0+unknown\", \"azureml-pipeline\": \"1.24.0\", \"azureml-pipeline-steps\": \"1.24.0\", \"azureml-pipeline-core\": \"1.24.0\", \"azureml-opendatasets\": \"1.24.0\", \"azureml-model-management-sdk\": \"1.0.1b6.post1\", \"azureml-mlflow\": \"1.24.0\", \"azureml-interpret\": \"1.24.0\", \"azureml-explain-model\": \"1.24.0\", \"azureml-defaults\": \"1.24.0\", \"azureml-dataset-runtime\": \"1.24.0\", \"azureml-dataprep\": \"2.11.1\", \"azureml-dataprep-rslex\": \"1.9.0\", \"azureml-dataprep-native\": \"30.0.0\", \"azureml-datadrift\": \"1.24.0\", \"azureml-core\": \"1.24.0\", \"azureml-contrib-services\": \"1.24.0\", \"azureml-contrib-server\": \"1.24.0\", \"azureml-contrib-reinforcementlearning\": \"1.24.0\", \"azureml-contrib-pipeline-steps\": \"1.24.0\", \"azureml-contrib-notebook\": \"1.24.0\", \"azureml-contrib-gbdt\": \"1.24.0\", \"azureml-contrib-fairness\": \"1.24.0\", \"azureml-contrib-dataset\": \"1.24.0\", \"azureml-cli-common\": \"1.24.0\", \"azureml-automl-runtime\": \"1.24.0\", \"azureml-automl-dnn-nlp\": \"1.24.0\", \"azureml-automl-core\": \"1.24.0\", \"azureml-accel-models\": \"1.24.0\"}',\n  '_aml_system_scenario_identification': 'Remote.Parent',\n  'ClientType': 'SDK',\n  'environment_cpu_name': 'AzureML-AutoML',\n  'environment_cpu_label': 'prod',\n  'environment_gpu_name': 'AzureML-AutoML-GPU',\n  'environment_gpu_label': 'prod',\n  'root_attribution': 'automl',\n  'attribution': 'AutoML',\n  'Orchestrator': 'AutoML',\n  'CancelUri': 'https://southcentralus.experiments.azureml.net/jasmine/v1.0/subscriptions/f5091c60-1c3c-430f-8d81-d802f6bf2414/resourceGroups/aml-quickstarts-141054/providers/Microsoft.MachineLearningServices/workspaces/quick-starts-ws-141054/experimentids/43fed0bb-8f13-455e-b792-bcfd4c245add/cancel/AutoML_2e3ecec9-8b98-46e6-8caf-ebe839cb45fc',\n  'ClientSdkVersion': '1.24.0',\n  'snapshotId': '00000000-0000-0000-0000-000000000000',\n  'SetupRunId': 'AutoML_2e3ecec9-8b98-46e6-8caf-ebe839cb45fc_setup',\n  'SetupRunContainerId': 'dcid.AutoML_2e3ecec9-8b98-46e6-8caf-ebe839cb45fc_setup',\n  'FeaturizationRunJsonPath': 'featurizer_container.json',\n  'FeaturizationRunId': 'AutoML_2e3ecec9-8b98-46e6-8caf-ebe839cb45fc_featurize',\n  'ProblemInfoJsonString': '{\"dataset_num_categorical\": 0, \"is_sparse\": true, \"subsampling\": false, \"dataset_classes\": 4, \"dataset_features\": 116, \"dataset_samples\": 2000, \"single_frequency_class_detected\": false}',\n  'ModelExplainRunId': 'AutoML_2e3ecec9-8b98-46e6-8caf-ebe839cb45fc_ModelExplain'},\n 'inputDatasets': [{'dataset': {'id': '6398cc1c-e72a-430a-8684-38352d55cbf6'}, 'consumptionDetails': {'type': 'RunInput', 'inputName': 'training_data', 'mechanism': 'Direct'}}],\n 'outputDatasets': [],\n 'logFiles': {},\n 'submittedBy': 'ODL_User 141054'}"
          },
          "metadata": {}
        }
      ],
      "execution_count": 9,
      "metadata": {
        "collapsed": true,
        "jupyter": {
          "source_hidden": false,
          "outputs_hidden": false
        },
        "nteract": {
          "transient": {
            "deleting": false
          }
        },
        "gather": {
          "logged": 1616352425688
        }
      }
    },
    {
      "cell_type": "markdown",
      "source": [
        "## Best Model\n",
        "\n"
      ],
      "metadata": {}
    },
    {
      "cell_type": "code",
      "source": [
        "remote_run.experiment"
      ],
      "outputs": [
        {
          "output_type": "execute_result",
          "execution_count": 55,
          "data": {
            "text/plain": "Experiment(Name: automl-mobile,\nWorkspace: quick-starts-ws-141054)",
            "text/html": "<table style=\"width:100%\"><tr><th>Name</th><th>Workspace</th><th>Report Page</th><th>Docs Page</th></tr><tr><td>automl-mobile</td><td>quick-starts-ws-141054</td><td><a href=\"https://ml.azure.com/experiments/automl-mobile?wsid=/subscriptions/f5091c60-1c3c-430f-8d81-d802f6bf2414/resourcegroups/aml-quickstarts-141054/workspaces/quick-starts-ws-141054\" target=\"_blank\" rel=\"noopener\">Link to Azure Machine Learning studio</a></td><td><a href=\"https://docs.microsoft.com/en-us/python/api/azureml-core/azureml.core.experiment.Experiment?view=azure-ml-py\" target=\"_blank\" rel=\"noopener\">Link to Documentation</a></td></tr></table>"
          },
          "metadata": {}
        }
      ],
      "execution_count": 55,
      "metadata": {
        "collapsed": true,
        "jupyter": {
          "source_hidden": false,
          "outputs_hidden": false
        },
        "nteract": {
          "transient": {
            "deleting": false
          }
        },
        "gather": {
          "logged": 1616354242426
        }
      }
    },
    {
      "cell_type": "code",
      "source": [
        "# from azureml.core.run import get_run\r\n",
        "# run = get_run(experiment, run_id='AutoML_2e3ecec9-8b98-46e6-8caf-ebe839cb45fc')\r\n",
        "best_run, fitted_model = remote_run.get_output()\r\n",
        "print(fitted_model.steps)"
      ],
      "outputs": [
        {
          "output_type": "stream",
          "name": "stdout",
          "text": [
            "[('datatransformer', DataTransformer(enable_dnn=None, enable_feature_sweeping=None,\n",
            "                feature_sweeping_config=None, feature_sweeping_timeout=None,\n",
            "                featurization_config=None, force_text_dnn=None,\n",
            "                is_cross_validation=None, is_onnx_compatible=None, logger=None,\n",
            "                observer=None, task=None, working_dir=None)), ('prefittedsoftvotingclassifier', PreFittedSoftVotingClassifier(classification_labels=None,\n",
            "                              estimators=[('6',\n",
            "                                           Pipeline(memory=None,\n",
            "                                                    steps=[('sparsenormalizer',\n",
            "                                                            <azureml.automl.runtime.shared.model_wrappers.SparseNormalizer object at 0x7f50b2616a20>),\n",
            "                                                           ('xgboostclassifier',\n",
            "                                                            XGBoostClassifier(base_score=0.5,\n",
            "                                                                              booster='gbtree',\n",
            "                                                                              colsample_bylevel=1,\n",
            "                                                                              colsample_bynode=1,\n",
            "                                                                              colsample_bytree=0.5,\n",
            "                                                                              eta=0.1,\n",
            "                                                                              ga...\n",
            "                                                                                   min_weight_fraction_leaf=0.0,\n",
            "                                                                                   n_estimators=25,\n",
            "                                                                                   n_jobs=1,\n",
            "                                                                                   oob_score=True,\n",
            "                                                                                   random_state=None,\n",
            "                                                                                   verbose=0,\n",
            "                                                                                   warm_start=False))],\n",
            "                                                    verbose=False))],\n",
            "                              flatten_transform=None,\n",
            "                              weights=[0.06666666666666667, 0.06666666666666667,\n",
            "                                       0.06666666666666667, 0.13333333333333333,\n",
            "                                       0.06666666666666667, 0.06666666666666667,\n",
            "                                       0.13333333333333333, 0.13333333333333333,\n",
            "                                       0.13333333333333333,\n",
            "                                       0.13333333333333333]))]\n"
          ]
        }
      ],
      "execution_count": 7,
      "metadata": {
        "collapsed": true,
        "jupyter": {
          "source_hidden": false,
          "outputs_hidden": false
        },
        "nteract": {
          "transient": {
            "deleting": false
          }
        },
        "gather": {
          "logged": 1616354688154
        }
      }
    },
    {
      "cell_type": "code",
      "source": [
        "from pprint import pprint\r\n",
        "\r\n",
        "def print_model(model, prefix=\"\"):\r\n",
        "    for step in model.steps:\r\n",
        "        print(prefix + step[0])\r\n",
        "        if hasattr(step[1], 'estimators') and hasattr(step[1], 'weights'):\r\n",
        "            pprint({'estimators': list(\r\n",
        "                e[0] for e in step[1].estimators), 'weights': step[1].weights})\r\n",
        "            print()\r\n",
        "            for estimator in step[1].estimators:\r\n",
        "                print_model(estimator[1], estimator[0] + ' - ')\r\n",
        "        else:\r\n",
        "            pprint(step[1].get_params())\r\n",
        "            print()\r\n",
        "\r\n",
        "print_model(fitted_model)"
      ],
      "outputs": [
        {
          "output_type": "stream",
          "name": "stdout",
          "text": [
            "datatransformer\n",
            "{'enable_dnn': None,\n",
            " 'enable_feature_sweeping': None,\n",
            " 'feature_sweeping_config': None,\n",
            " 'feature_sweeping_timeout': None,\n",
            " 'featurization_config': None,\n",
            " 'force_text_dnn': None,\n",
            " 'is_cross_validation': None,\n",
            " 'is_onnx_compatible': None,\n",
            " 'logger': None,\n",
            " 'observer': None,\n",
            " 'task': None,\n",
            " 'working_dir': None}\n",
            "\n",
            "prefittedsoftvotingclassifier\n",
            "{'estimators': ['6', '16', '23', '0', '30', '20', '1', '25', '26', '4'],\n",
            " 'weights': [0.06666666666666667,\n",
            "             0.06666666666666667,\n",
            "             0.06666666666666667,\n",
            "             0.13333333333333333,\n",
            "             0.06666666666666667,\n",
            "             0.06666666666666667,\n",
            "             0.13333333333333333,\n",
            "             0.13333333333333333,\n",
            "             0.13333333333333333,\n",
            "             0.13333333333333333]}\n",
            "\n",
            "6 - sparsenormalizer\n",
            "{'copy': True, 'norm': 'l2'}\n",
            "\n",
            "6 - xgboostclassifier\n",
            "{'base_score': 0.5,\n",
            " 'booster': 'gbtree',\n",
            " 'colsample_bylevel': 1,\n",
            " 'colsample_bynode': 1,\n",
            " 'colsample_bytree': 0.5,\n",
            " 'eta': 0.1,\n",
            " 'gamma': 0,\n",
            " 'learning_rate': 0.1,\n",
            " 'max_delta_step': 0,\n",
            " 'max_depth': 6,\n",
            " 'max_leaves': 15,\n",
            " 'min_child_weight': 1,\n",
            " 'missing': nan,\n",
            " 'n_estimators': 100,\n",
            " 'n_jobs': 1,\n",
            " 'nthread': None,\n",
            " 'objective': 'multi:softprob',\n",
            " 'random_state': 0,\n",
            " 'reg_alpha': 0,\n",
            " 'reg_lambda': 2.0833333333333335,\n",
            " 'scale_pos_weight': 1,\n",
            " 'seed': None,\n",
            " 'silent': None,\n",
            " 'subsample': 1,\n",
            " 'tree_method': 'auto',\n",
            " 'verbose': -10,\n",
            " 'verbosity': 0}\n",
            "\n",
            "16 - sparsenormalizer\n",
            "{'copy': True, 'norm': 'l2'}\n",
            "\n",
            "16 - xgboostclassifier\n",
            "{'base_score': 0.5,\n",
            " 'booster': 'gbtree',\n",
            " 'colsample_bylevel': 1,\n",
            " 'colsample_bynode': 1,\n",
            " 'colsample_bytree': 0.8,\n",
            " 'eta': 0.3,\n",
            " 'gamma': 0.01,\n",
            " 'learning_rate': 0.1,\n",
            " 'max_delta_step': 0,\n",
            " 'max_depth': 9,\n",
            " 'max_leaves': 255,\n",
            " 'min_child_weight': 1,\n",
            " 'missing': nan,\n",
            " 'n_estimators': 50,\n",
            " 'n_jobs': 1,\n",
            " 'nthread': None,\n",
            " 'objective': 'multi:softprob',\n",
            " 'random_state': 0,\n",
            " 'reg_alpha': 0,\n",
            " 'reg_lambda': 1.1458333333333335,\n",
            " 'scale_pos_weight': 1,\n",
            " 'seed': None,\n",
            " 'silent': None,\n",
            " 'subsample': 0.5,\n",
            " 'tree_method': 'auto',\n",
            " 'verbose': -10,\n",
            " 'verbosity': 0}\n",
            "\n",
            "23 - sparsenormalizer\n",
            "{'copy': True, 'norm': 'l2'}\n",
            "\n",
            "23 - xgboostclassifier\n",
            "{'base_score': 0.5,\n",
            " 'booster': 'gbtree',\n",
            " 'colsample_bylevel': 1,\n",
            " 'colsample_bynode': 1,\n",
            " 'colsample_bytree': 1,\n",
            " 'eta': 0.3,\n",
            " 'gamma': 0,\n",
            " 'learning_rate': 0.1,\n",
            " 'max_delta_step': 0,\n",
            " 'max_depth': 10,\n",
            " 'max_leaves': 0,\n",
            " 'min_child_weight': 1,\n",
            " 'missing': nan,\n",
            " 'n_estimators': 25,\n",
            " 'n_jobs': 1,\n",
            " 'nthread': None,\n",
            " 'objective': 'multi:softprob',\n",
            " 'random_state': 0,\n",
            " 'reg_alpha': 0,\n",
            " 'reg_lambda': 0.625,\n",
            " 'scale_pos_weight': 1,\n",
            " 'seed': None,\n",
            " 'silent': None,\n",
            " 'subsample': 0.7,\n",
            " 'tree_method': 'auto',\n",
            " 'verbose': -10,\n",
            " 'verbosity': 0}\n",
            "\n",
            "0 - maxabsscaler\n",
            "{'copy': True}\n",
            "\n",
            "0 - lightgbmclassifier\n",
            "{'boosting_type': 'gbdt',\n",
            " 'class_weight': None,\n",
            " 'colsample_bytree': 1.0,\n",
            " 'importance_type': 'split',\n",
            " 'learning_rate': 0.1,\n",
            " 'max_depth': -1,\n",
            " 'min_child_samples': 20,\n",
            " 'min_child_weight': 0.001,\n",
            " 'min_split_gain': 0.0,\n",
            " 'n_estimators': 100,\n",
            " 'n_jobs': 1,\n",
            " 'num_leaves': 31,\n",
            " 'objective': None,\n",
            " 'random_state': None,\n",
            " 'reg_alpha': 0.0,\n",
            " 'reg_lambda': 0.0,\n",
            " 'silent': True,\n",
            " 'subsample': 1.0,\n",
            " 'subsample_for_bin': 200000,\n",
            " 'subsample_freq': 0,\n",
            " 'verbose': -10}\n",
            "\n",
            "30 - sparsenormalizer\n",
            "{'copy': True, 'norm': 'l2'}\n",
            "\n",
            "30 - xgboostclassifier\n",
            "{'base_score': 0.5,\n",
            " 'booster': 'gbtree',\n",
            " 'colsample_bylevel': 1,\n",
            " 'colsample_bynode': 1,\n",
            " 'colsample_bytree': 0.9,\n",
            " 'eta': 0.3,\n",
            " 'gamma': 0,\n",
            " 'learning_rate': 0.1,\n",
            " 'max_delta_step': 0,\n",
            " 'max_depth': 9,\n",
            " 'max_leaves': 0,\n",
            " 'min_child_weight': 1,\n",
            " 'missing': nan,\n",
            " 'n_estimators': 25,\n",
            " 'n_jobs': 1,\n",
            " 'nthread': None,\n",
            " 'objective': 'multi:softprob',\n",
            " 'random_state': 0,\n",
            " 'reg_alpha': 0,\n",
            " 'reg_lambda': 0.7291666666666667,\n",
            " 'scale_pos_weight': 1,\n",
            " 'seed': None,\n",
            " 'silent': None,\n",
            " 'subsample': 0.9,\n",
            " 'tree_method': 'auto',\n",
            " 'verbose': -10,\n",
            " 'verbosity': 0}\n",
            "\n",
            "20 - maxabsscaler\n",
            "{'copy': True}\n",
            "\n",
            "20 - lightgbmclassifier\n",
            "{'boosting_type': 'gbdt',\n",
            " 'class_weight': None,\n",
            " 'colsample_bytree': 0.4955555555555555,\n",
            " 'importance_type': 'split',\n",
            " 'learning_rate': 0.06842421052631578,\n",
            " 'max_bin': 20,\n",
            " 'max_depth': -1,\n",
            " 'min_child_samples': 138,\n",
            " 'min_child_weight': 7,\n",
            " 'min_split_gain': 0.21052631578947367,\n",
            " 'n_estimators': 400,\n",
            " 'n_jobs': 1,\n",
            " 'num_leaves': 197,\n",
            " 'objective': None,\n",
            " 'random_state': None,\n",
            " 'reg_alpha': 0.894736842105263,\n",
            " 'reg_lambda': 0.21052631578947367,\n",
            " 'silent': True,\n",
            " 'subsample': 0.9405263157894738,\n",
            " 'subsample_for_bin': 200000,\n",
            " 'subsample_freq': 0,\n",
            " 'verbose': -10}\n",
            "\n",
            "1 - maxabsscaler\n",
            "{'copy': True}\n",
            "\n",
            "1 - xgboostclassifier\n",
            "{'base_score': 0.5,\n",
            " 'booster': 'gbtree',\n",
            " 'colsample_bylevel': 1,\n",
            " 'colsample_bynode': 1,\n",
            " 'colsample_bytree': 1,\n",
            " 'gamma': 0,\n",
            " 'learning_rate': 0.1,\n",
            " 'max_delta_step': 0,\n",
            " 'max_depth': 3,\n",
            " 'min_child_weight': 1,\n",
            " 'missing': nan,\n",
            " 'n_estimators': 100,\n",
            " 'n_jobs': 1,\n",
            " 'nthread': None,\n",
            " 'objective': 'multi:softprob',\n",
            " 'random_state': 0,\n",
            " 'reg_alpha': 0,\n",
            " 'reg_lambda': 1,\n",
            " 'scale_pos_weight': 1,\n",
            " 'seed': None,\n",
            " 'silent': None,\n",
            " 'subsample': 1,\n",
            " 'tree_method': 'auto',\n",
            " 'verbose': -10,\n",
            " 'verbosity': 0}\n",
            "\n",
            "25 - standardscalerwrapper\n",
            "{'class_name': 'StandardScaler',\n",
            " 'copy': True,\n",
            " 'module_name': 'sklearn.preprocessing._data',\n",
            " 'with_mean': False,\n",
            " 'with_std': False}\n",
            "\n",
            "25 - xgboostclassifier\n",
            "{'base_score': 0.5,\n",
            " 'booster': 'gbtree',\n",
            " 'colsample_bylevel': 1,\n",
            " 'colsample_bynode': 1,\n",
            " 'colsample_bytree': 0.9,\n",
            " 'eta': 0.3,\n",
            " 'gamma': 0,\n",
            " 'learning_rate': 0.1,\n",
            " 'max_delta_step': 0,\n",
            " 'max_depth': 0,\n",
            " 'max_leaves': 1023,\n",
            " 'min_child_weight': 1,\n",
            " 'missing': nan,\n",
            " 'n_estimators': 600,\n",
            " 'n_jobs': 1,\n",
            " 'nthread': None,\n",
            " 'objective': 'multi:softprob',\n",
            " 'random_state': 0,\n",
            " 'reg_alpha': 1.4583333333333335,\n",
            " 'reg_lambda': 2.291666666666667,\n",
            " 'scale_pos_weight': 1,\n",
            " 'seed': None,\n",
            " 'silent': None,\n",
            " 'subsample': 0.9,\n",
            " 'tree_method': 'auto',\n",
            " 'verbose': -10,\n",
            " 'verbosity': 0}\n",
            "\n",
            "26 - sparsenormalizer\n",
            "{'copy': True, 'norm': 'l1'}\n",
            "\n",
            "26 - xgboostclassifier\n",
            "{'base_score': 0.5,\n",
            " 'booster': 'gbtree',\n",
            " 'colsample_bylevel': 1,\n",
            " 'colsample_bynode': 1,\n",
            " 'colsample_bytree': 1,\n",
            " 'eta': 0.3,\n",
            " 'gamma': 0.1,\n",
            " 'learning_rate': 0.1,\n",
            " 'max_delta_step': 0,\n",
            " 'max_depth': 6,\n",
            " 'max_leaves': 63,\n",
            " 'min_child_weight': 1,\n",
            " 'missing': nan,\n",
            " 'n_estimators': 100,\n",
            " 'n_jobs': 1,\n",
            " 'nthread': None,\n",
            " 'objective': 'multi:softprob',\n",
            " 'random_state': 0,\n",
            " 'reg_alpha': 0.625,\n",
            " 'reg_lambda': 1.7708333333333335,\n",
            " 'scale_pos_weight': 1,\n",
            " 'seed': None,\n",
            " 'silent': None,\n",
            " 'subsample': 0.7,\n",
            " 'tree_method': 'auto',\n",
            " 'verbose': -10,\n",
            " 'verbosity': 0}\n",
            "\n",
            "4 - maxabsscaler\n",
            "{'copy': True}\n",
            "\n",
            "4 - randomforestclassifier\n",
            "{'bootstrap': True,\n",
            " 'ccp_alpha': 0.0,\n",
            " 'class_weight': 'balanced',\n",
            " 'criterion': 'gini',\n",
            " 'max_depth': None,\n",
            " 'max_features': 'log2',\n",
            " 'max_leaf_nodes': None,\n",
            " 'max_samples': None,\n",
            " 'min_impurity_decrease': 0.0,\n",
            " 'min_impurity_split': None,\n",
            " 'min_samples_leaf': 0.01,\n",
            " 'min_samples_split': 0.01,\n",
            " 'min_weight_fraction_leaf': 0.0,\n",
            " 'n_estimators': 25,\n",
            " 'n_jobs': 1,\n",
            " 'oob_score': True,\n",
            " 'random_state': None,\n",
            " 'verbose': 0,\n",
            " 'warm_start': False}\n",
            "\n"
          ]
        }
      ],
      "execution_count": 40,
      "metadata": {
        "collapsed": true,
        "jupyter": {
          "source_hidden": false,
          "outputs_hidden": false
        },
        "nteract": {
          "transient": {
            "deleting": false
          }
        },
        "gather": {
          "logged": 1616358389546
        }
      }
    },
    {
      "cell_type": "code",
      "source": [
        "# Retrieve and save your best automl model.\r\n",
        "# Retrieve the best automl model\r\n",
        "\r\n",
        "best_automl_run_metrics = best_run.get_metrics()\r\n",
        "\r\n",
        "print('Best Run Id: ', best_run.id)\r\n",
        "print('\\n Accuracy: ', best_automl_run_metrics['accuracy'])\r\n",
        "\r\n",
        "# Save model\r\n",
        "print('\\n SAVE MODEL...')\r\n",
        "final_automl_model = best_run.register_model(model_name = 'automl-mobile', model_path = '/outputs/model.pkl', description='Best Model AutoML for mobile classification dataset')\r\n",
        "print('\\n SAVE MODEL...')"
      ],
      "outputs": [
        {
          "output_type": "stream",
          "name": "stdout",
          "text": [
            "Best Run Id:  AutoML_2e3ecec9-8b98-46e6-8caf-ebe839cb45fc_36\n",
            "\n",
            " Accuracy:  0.9365\n",
            "\n",
            " SAVE MODEL...\n",
            "\n",
            " SAVE MODEL...\n"
          ]
        }
      ],
      "execution_count": 8,
      "metadata": {
        "gather": {
          "logged": 1616354741610
        },
        "jupyter": {
          "outputs_hidden": false,
          "source_hidden": false
        },
        "nteract": {
          "transient": {
            "deleting": false
          }
        }
      }
    },
    {
      "cell_type": "markdown",
      "source": [
        "## Model Deployment\n",
        "\n",
        "Remember you have to deploy only one of the two models you trained.. Perform the steps in the rest of this notebook only if you wish to deploy this model.\n",
        "\n",
        "TODO: In the cell below, register the model, create an inference config and deploy the model as a web service."
      ],
      "metadata": {}
    },
    {
      "cell_type": "code",
      "source": [
        "env = best_run.get_environment()\r\n",
        "env.save_to_directory('dependencies')\r\n",
        "env.load_from_directory('dependencies')"
      ],
      "outputs": [
        {
          "output_type": "execute_result",
          "execution_count": 34,
          "data": {
            "text/plain": "{\n    \"databricks\": {\n        \"eggLibraries\": [],\n        \"jarLibraries\": [],\n        \"mavenLibraries\": [],\n        \"pypiLibraries\": [],\n        \"rcranLibraries\": []\n    },\n    \"docker\": {\n        \"arguments\": [],\n        \"baseDockerfile\": null,\n        \"baseImage\": \"mcr.microsoft.com/azureml/intelmpi2018.3-ubuntu16.04:20210301.v1\",\n        \"baseImageRegistry\": {\n            \"address\": null,\n            \"password\": null,\n            \"registryIdentity\": null,\n            \"username\": null\n        },\n        \"enabled\": true,\n        \"platform\": {\n            \"architecture\": \"amd64\",\n            \"os\": \"Linux\"\n        },\n        \"sharedVolumes\": true,\n        \"shmSize\": null\n    },\n    \"environmentVariables\": {\n        \"EXAMPLE_ENV_VAR\": \"EXAMPLE_VALUE\"\n    },\n    \"inferencingStackVersion\": null,\n    \"name\": \"AutoML-AzureML-AutoML\",\n    \"python\": {\n        \"baseCondaEnvironment\": null,\n        \"condaDependencies\": {\n            \"channels\": [\n                \"anaconda\",\n                \"conda-forge\",\n                \"pytorch\"\n            ],\n            \"dependencies\": [\n                \"python=3.6.2\",\n                \"pip=20.2.4\",\n                {\n                    \"pip\": [\n                        \"azureml-core==1.24.0.post1\",\n                        \"azureml-pipeline-core==1.24.0\",\n                        \"azureml-telemetry==1.24.0\",\n                        \"azureml-defaults==1.24.0\",\n                        \"azureml-interpret==1.24.0\",\n                        \"azureml-automl-core==1.24.0\",\n                        \"azureml-automl-runtime==1.24.0\",\n                        \"azureml-train-automl-client==1.24.0\",\n                        \"azureml-train-automl-runtime==1.24.0\",\n                        \"azureml-dataset-runtime==1.24.0\",\n                        \"azureml-dataprep==2.11.2\",\n                        \"azureml-mlflow==1.24.0\",\n                        \"inference-schema\",\n                        \"py-cpuinfo==5.0.0\",\n                        \"boto3==1.15.18\",\n                        \"botocore==1.18.18\"\n                    ]\n                },\n                \"numpy~=1.18.0\",\n                \"scikit-learn==0.22.1\",\n                \"pandas~=0.25.0\",\n                \"py-xgboost<=0.90\",\n                \"fbprophet==0.5\",\n                \"holidays==0.9.11\",\n                \"setuptools-git\",\n                \"psutil>5.0.0,<6.0.0\"\n            ],\n            \"name\": \"azureml_2b14f450572e78de640d54eaabed5e4d\"\n        },\n        \"condaDependenciesFile\": null,\n        \"interpreterPath\": \"python\",\n        \"userManagedDependencies\": false\n    },\n    \"r\": null,\n    \"spark\": {\n        \"packages\": [],\n        \"precachePackages\": true,\n        \"repositories\": []\n    },\n    \"version\": \"Autosave_2021-03-21T18:21:04Z_75ce2071\"\n}"
          },
          "metadata": {}
        }
      ],
      "execution_count": 34,
      "metadata": {
        "collapsed": true,
        "jupyter": {
          "source_hidden": false,
          "outputs_hidden": false
        },
        "nteract": {
          "transient": {
            "deleting": false
          }
        },
        "gather": {
          "logged": 1616357388608
        }
      }
    },
    {
      "cell_type": "code",
      "source": [
        "%%time\r\n",
        "from azureml.core.webservice import Webservice\r\n",
        "from azureml.core.model import InferenceConfig\r\n",
        "from azureml.core.model import Model\r\n",
        "\r\n",
        "model = Model(ws, 'automl-mobile')\r\n",
        "\r\n",
        "inference_config = InferenceConfig(entry_script=\"scoring_file_v_1_0_0.py\", environment=env)\r\n",
        "from azureml.core.webservice import AciWebservice\r\n",
        "\r\n",
        "aciconfig = AciWebservice.deploy_configuration(cpu_cores=1, \r\n",
        "                                               memory_gb=1, \r\n",
        "                                               description='Predict mobile prices')\r\n",
        "service = Model.deploy(workspace=ws, \r\n",
        "                       name='automl-mobile-sdk-4', \r\n",
        "                       models=[model], \r\n",
        "                       inference_config=inference_config, \r\n",
        "                       deployment_config=aciconfig)\r\n",
        "\r\n",
        "service.wait_for_deployment(show_output=True)"
      ],
      "outputs": [
        {
          "output_type": "stream",
          "name": "stdout",
          "text": [
            "Tips: You can try get_logs(): https://aka.ms/debugimage#dockerlog or local deployment: https://aka.ms/debugimage#debug-locally to debug if deployment takes longer than 10 minutes.\n",
            "Running\n",
            "2021-03-21 20:01:41+00:00 Creating Container Registry if not exists.\n",
            "2021-03-21 20:01:41+00:00 Registering the environment.\n",
            "2021-03-21 20:01:42+00:00 Use the existing image.\n",
            "2021-03-21 20:01:42+00:00 Generating deployment configuration.\n",
            "2021-03-21 20:01:43+00:00 Submitting deployment to compute..\n",
            "2021-03-21 20:01:49+00:00 Checking the status of deployment automl-mobile-sdk-4..\n",
            "2021-03-21 20:05:07+00:00 Checking the status of inference endpoint automl-mobile-sdk-4.\n",
            "Succeeded\n",
            "ACI service creation operation finished, operation \"Succeeded\"\n",
            "CPU times: user 521 ms, sys: 75.8 ms, total: 597 ms\n",
            "Wall time: 3min 49s\n"
          ]
        }
      ],
      "execution_count": 30,
      "metadata": {
        "collapsed": true,
        "jupyter": {
          "source_hidden": false,
          "outputs_hidden": false
        },
        "nteract": {
          "transient": {
            "deleting": false
          }
        }
      }
    },
    {
      "cell_type": "code",
      "source": [
        "import pandas as pd\r\n",
        "df_test = pd.read_csv('test.csv')\r\n",
        "df_test.drop(columns='id', inplace=True)\r\n",
        "df_test.head()"
      ],
      "outputs": [
        {
          "output_type": "execute_result",
          "execution_count": 25,
          "data": {
            "text/plain": "   battery_power  blue  clock_speed  dual_sim  fc  four_g  int_memory  m_dep  \\\n0           1043     1         1.80         1  14       0           5   0.10   \n1            841     1         0.50         1   4       1          61   0.80   \n2           1807     1         2.80         0   1       0          27   0.90   \n3           1546     0         0.50         1  18       1          25   0.50   \n4           1434     0         1.40         0  11       1          49   0.50   \n\n   mobile_wt  n_cores  pc  px_height  px_width   ram  sc_h  sc_w  talk_time  \\\n0        193        3  16        226      1412  3476    12     7          2   \n1        191        5  12        746       857  3895     6     0          7   \n2        186        3   4       1270      1366  2396    17    10         10   \n3         96        8  20        295      1752  3893    10     0          7   \n4        108        6  18        749       810  1773    15     8          7   \n\n   three_g  touch_screen  wifi  \n0        0             1     0  \n1        1             0     0  \n2        0             1     1  \n3        1             1     0  \n4        1             0     1  ",
            "text/html": "<div>\n<style scoped>\n    .dataframe tbody tr th:only-of-type {\n        vertical-align: middle;\n    }\n\n    .dataframe tbody tr th {\n        vertical-align: top;\n    }\n\n    .dataframe thead th {\n        text-align: right;\n    }\n</style>\n<table border=\"1\" class=\"dataframe\">\n  <thead>\n    <tr style=\"text-align: right;\">\n      <th></th>\n      <th>battery_power</th>\n      <th>blue</th>\n      <th>clock_speed</th>\n      <th>dual_sim</th>\n      <th>fc</th>\n      <th>four_g</th>\n      <th>int_memory</th>\n      <th>m_dep</th>\n      <th>mobile_wt</th>\n      <th>n_cores</th>\n      <th>pc</th>\n      <th>px_height</th>\n      <th>px_width</th>\n      <th>ram</th>\n      <th>sc_h</th>\n      <th>sc_w</th>\n      <th>talk_time</th>\n      <th>three_g</th>\n      <th>touch_screen</th>\n      <th>wifi</th>\n    </tr>\n  </thead>\n  <tbody>\n    <tr>\n      <th>0</th>\n      <td>1043</td>\n      <td>1</td>\n      <td>1.80</td>\n      <td>1</td>\n      <td>14</td>\n      <td>0</td>\n      <td>5</td>\n      <td>0.10</td>\n      <td>193</td>\n      <td>3</td>\n      <td>16</td>\n      <td>226</td>\n      <td>1412</td>\n      <td>3476</td>\n      <td>12</td>\n      <td>7</td>\n      <td>2</td>\n      <td>0</td>\n      <td>1</td>\n      <td>0</td>\n    </tr>\n    <tr>\n      <th>1</th>\n      <td>841</td>\n      <td>1</td>\n      <td>0.50</td>\n      <td>1</td>\n      <td>4</td>\n      <td>1</td>\n      <td>61</td>\n      <td>0.80</td>\n      <td>191</td>\n      <td>5</td>\n      <td>12</td>\n      <td>746</td>\n      <td>857</td>\n      <td>3895</td>\n      <td>6</td>\n      <td>0</td>\n      <td>7</td>\n      <td>1</td>\n      <td>0</td>\n      <td>0</td>\n    </tr>\n    <tr>\n      <th>2</th>\n      <td>1807</td>\n      <td>1</td>\n      <td>2.80</td>\n      <td>0</td>\n      <td>1</td>\n      <td>0</td>\n      <td>27</td>\n      <td>0.90</td>\n      <td>186</td>\n      <td>3</td>\n      <td>4</td>\n      <td>1270</td>\n      <td>1366</td>\n      <td>2396</td>\n      <td>17</td>\n      <td>10</td>\n      <td>10</td>\n      <td>0</td>\n      <td>1</td>\n      <td>1</td>\n    </tr>\n    <tr>\n      <th>3</th>\n      <td>1546</td>\n      <td>0</td>\n      <td>0.50</td>\n      <td>1</td>\n      <td>18</td>\n      <td>1</td>\n      <td>25</td>\n      <td>0.50</td>\n      <td>96</td>\n      <td>8</td>\n      <td>20</td>\n      <td>295</td>\n      <td>1752</td>\n      <td>3893</td>\n      <td>10</td>\n      <td>0</td>\n      <td>7</td>\n      <td>1</td>\n      <td>1</td>\n      <td>0</td>\n    </tr>\n    <tr>\n      <th>4</th>\n      <td>1434</td>\n      <td>0</td>\n      <td>1.40</td>\n      <td>0</td>\n      <td>11</td>\n      <td>1</td>\n      <td>49</td>\n      <td>0.50</td>\n      <td>108</td>\n      <td>6</td>\n      <td>18</td>\n      <td>749</td>\n      <td>810</td>\n      <td>1773</td>\n      <td>15</td>\n      <td>8</td>\n      <td>7</td>\n      <td>1</td>\n      <td>0</td>\n      <td>1</td>\n    </tr>\n  </tbody>\n</table>\n</div>"
          },
          "metadata": {}
        }
      ],
      "execution_count": 25,
      "metadata": {
        "collapsed": true,
        "jupyter": {
          "source_hidden": false,
          "outputs_hidden": false
        },
        "nteract": {
          "transient": {
            "deleting": false
          }
        },
        "gather": {
          "logged": 1616356689151
        }
      }
    },
    {
      "cell_type": "code",
      "source": [
        "sample = list(df_test.iloc[0:10, :].to_dict('index').values())\r\n",
        "sample"
      ],
      "outputs": [
        {
          "output_type": "execute_result",
          "execution_count": 26,
          "data": {
            "text/plain": "[{'battery_power': 1043,\n  'blue': 1,\n  'clock_speed': 1.8,\n  'dual_sim': 1,\n  'fc': 14,\n  'four_g': 0,\n  'int_memory': 5,\n  'm_dep': 0.1,\n  'mobile_wt': 193,\n  'n_cores': 3,\n  'pc': 16,\n  'px_height': 226,\n  'px_width': 1412,\n  'ram': 3476,\n  'sc_h': 12,\n  'sc_w': 7,\n  'talk_time': 2,\n  'three_g': 0,\n  'touch_screen': 1,\n  'wifi': 0},\n {'battery_power': 841,\n  'blue': 1,\n  'clock_speed': 0.5,\n  'dual_sim': 1,\n  'fc': 4,\n  'four_g': 1,\n  'int_memory': 61,\n  'm_dep': 0.8,\n  'mobile_wt': 191,\n  'n_cores': 5,\n  'pc': 12,\n  'px_height': 746,\n  'px_width': 857,\n  'ram': 3895,\n  'sc_h': 6,\n  'sc_w': 0,\n  'talk_time': 7,\n  'three_g': 1,\n  'touch_screen': 0,\n  'wifi': 0},\n {'battery_power': 1807,\n  'blue': 1,\n  'clock_speed': 2.8,\n  'dual_sim': 0,\n  'fc': 1,\n  'four_g': 0,\n  'int_memory': 27,\n  'm_dep': 0.9,\n  'mobile_wt': 186,\n  'n_cores': 3,\n  'pc': 4,\n  'px_height': 1270,\n  'px_width': 1366,\n  'ram': 2396,\n  'sc_h': 17,\n  'sc_w': 10,\n  'talk_time': 10,\n  'three_g': 0,\n  'touch_screen': 1,\n  'wifi': 1},\n {'battery_power': 1546,\n  'blue': 0,\n  'clock_speed': 0.5,\n  'dual_sim': 1,\n  'fc': 18,\n  'four_g': 1,\n  'int_memory': 25,\n  'm_dep': 0.5,\n  'mobile_wt': 96,\n  'n_cores': 8,\n  'pc': 20,\n  'px_height': 295,\n  'px_width': 1752,\n  'ram': 3893,\n  'sc_h': 10,\n  'sc_w': 0,\n  'talk_time': 7,\n  'three_g': 1,\n  'touch_screen': 1,\n  'wifi': 0},\n {'battery_power': 1434,\n  'blue': 0,\n  'clock_speed': 1.4,\n  'dual_sim': 0,\n  'fc': 11,\n  'four_g': 1,\n  'int_memory': 49,\n  'm_dep': 0.5,\n  'mobile_wt': 108,\n  'n_cores': 6,\n  'pc': 18,\n  'px_height': 749,\n  'px_width': 810,\n  'ram': 1773,\n  'sc_h': 15,\n  'sc_w': 8,\n  'talk_time': 7,\n  'three_g': 1,\n  'touch_screen': 0,\n  'wifi': 1},\n {'battery_power': 1464,\n  'blue': 1,\n  'clock_speed': 2.9,\n  'dual_sim': 1,\n  'fc': 5,\n  'four_g': 1,\n  'int_memory': 50,\n  'm_dep': 0.8,\n  'mobile_wt': 198,\n  'n_cores': 8,\n  'pc': 9,\n  'px_height': 569,\n  'px_width': 939,\n  'ram': 3506,\n  'sc_h': 10,\n  'sc_w': 7,\n  'talk_time': 3,\n  'three_g': 1,\n  'touch_screen': 1,\n  'wifi': 1},\n {'battery_power': 1718,\n  'blue': 0,\n  'clock_speed': 2.4,\n  'dual_sim': 0,\n  'fc': 1,\n  'four_g': 0,\n  'int_memory': 47,\n  'm_dep': 1.0,\n  'mobile_wt': 156,\n  'n_cores': 2,\n  'pc': 3,\n  'px_height': 1283,\n  'px_width': 1374,\n  'ram': 3873,\n  'sc_h': 14,\n  'sc_w': 2,\n  'talk_time': 10,\n  'three_g': 0,\n  'touch_screen': 0,\n  'wifi': 0},\n {'battery_power': 833,\n  'blue': 0,\n  'clock_speed': 2.4,\n  'dual_sim': 1,\n  'fc': 0,\n  'four_g': 0,\n  'int_memory': 62,\n  'm_dep': 0.8,\n  'mobile_wt': 111,\n  'n_cores': 1,\n  'pc': 2,\n  'px_height': 1312,\n  'px_width': 1880,\n  'ram': 1495,\n  'sc_h': 7,\n  'sc_w': 2,\n  'talk_time': 18,\n  'three_g': 0,\n  'touch_screen': 1,\n  'wifi': 1},\n {'battery_power': 1111,\n  'blue': 1,\n  'clock_speed': 2.9,\n  'dual_sim': 1,\n  'fc': 9,\n  'four_g': 1,\n  'int_memory': 25,\n  'm_dep': 0.6,\n  'mobile_wt': 101,\n  'n_cores': 5,\n  'pc': 19,\n  'px_height': 556,\n  'px_width': 876,\n  'ram': 3485,\n  'sc_h': 11,\n  'sc_w': 9,\n  'talk_time': 10,\n  'three_g': 1,\n  'touch_screen': 1,\n  'wifi': 0},\n {'battery_power': 1520,\n  'blue': 0,\n  'clock_speed': 0.5,\n  'dual_sim': 0,\n  'fc': 1,\n  'four_g': 0,\n  'int_memory': 25,\n  'm_dep': 0.5,\n  'mobile_wt': 171,\n  'n_cores': 3,\n  'pc': 20,\n  'px_height': 52,\n  'px_width': 1009,\n  'ram': 651,\n  'sc_h': 6,\n  'sc_w': 0,\n  'talk_time': 5,\n  'three_g': 1,\n  'touch_screen': 0,\n  'wifi': 1}]"
          },
          "metadata": {}
        }
      ],
      "execution_count": 26,
      "metadata": {
        "collapsed": true,
        "jupyter": {
          "source_hidden": false,
          "outputs_hidden": false
        },
        "nteract": {
          "transient": {
            "deleting": false
          }
        },
        "gather": {
          "logged": 1616356689902
        }
      }
    },
    {
      "cell_type": "code",
      "source": [
        "import requests\r\n",
        "import json\r\n",
        "\r\n",
        "# URL for the web service, should be similar to:\r\n",
        "# 'http://8530a665-66f3-49c8-a953-b82a2d312917.eastus.azurecontainer.io/score'\r\n",
        "scoring_uri = 'http://7ad2a469-bb4e-4dbd-bc92-76496d925381.southcentralus.azurecontainer.io/score'\r\n",
        "# If the service is authenticated, set the key or token\r\n",
        "# key = 'zcdL9IVlIn5Gb6yCEAZ0NrBapBkOQvbw'\r\n",
        "\r\n",
        "# Two sets of data to score, so we get two results back\r\n",
        "data = {\"data\": sample}\r\n",
        "\r\n",
        "# Convert to JSON string\r\n",
        "input_data = json.dumps(data)\r\n",
        "with open(\"data.json\", \"w\") as _f:\r\n",
        "    _f.write(input_data)\r\n",
        "\r\n",
        "# Set the content type\r\n",
        "headers = {'Content-Type': 'application/json'}\r\n",
        "# If authentication is enabled, set the authorization header\r\n",
        "# headers['Authorization'] = f'Bearer {key}'\r\n",
        "\r\n",
        "# Make the request and display the response\r\n",
        "resp = requests.post(scoring_uri, input_data, headers=headers)\r\n",
        "print(resp.json())"
      ],
      "outputs": [
        {
          "output_type": "stream",
          "name": "stdout",
          "text": [
            "{\"result\": [3, 3, 2, 3, 1, 3, 3, 1, 3, 0]}\n"
          ]
        }
      ],
      "execution_count": 31,
      "metadata": {
        "gather": {
          "logged": 1616357174043
        },
        "jupyter": {
          "outputs_hidden": false,
          "source_hidden": false
        },
        "nteract": {
          "transient": {
            "deleting": false
          }
        }
      }
    },
    {
      "cell_type": "markdown",
      "source": [
        "TODO: In the cell below, print the logs of the web service and delete the service"
      ],
      "metadata": {
        "collapsed": true,
        "gather": {
          "logged": 1598432765711
        },
        "jupyter": {
          "outputs_hidden": false,
          "source_hidden": false
        },
        "nteract": {
          "transient": {
            "deleting": false
          }
        }
      }
    },
    {
      "cell_type": "code",
      "source": [
        "print(service.get_logs())"
      ],
      "outputs": [
        {
          "output_type": "stream",
          "name": "stdout",
          "text": [
            "2021-03-20T19:13:50,926065000+00:00 - iot-server/run \n",
            "2021-03-20T19:13:50,933904600+00:00 - gunicorn/run \n",
            "2021-03-20T19:13:50,936763000+00:00 - rsyslog/run \n",
            "2021-03-20T19:13:50,970808000+00:00 - nginx/run \n",
            "/usr/sbin/nginx: /azureml-envs/azureml_661474bbe74e96b5d8added5888dfc85/lib/libcrypto.so.1.0.0: no version information available (required by /usr/sbin/nginx)\n",
            "/usr/sbin/nginx: /azureml-envs/azureml_661474bbe74e96b5d8added5888dfc85/lib/libcrypto.so.1.0.0: no version information available (required by /usr/sbin/nginx)\n",
            "/usr/sbin/nginx: /azureml-envs/azureml_661474bbe74e96b5d8added5888dfc85/lib/libssl.so.1.0.0: no version information available (required by /usr/sbin/nginx)\n",
            "/usr/sbin/nginx: /azureml-envs/azureml_661474bbe74e96b5d8added5888dfc85/lib/libssl.so.1.0.0: no version information available (required by /usr/sbin/nginx)\n",
            "/usr/sbin/nginx: /azureml-envs/azureml_661474bbe74e96b5d8added5888dfc85/lib/libssl.so.1.0.0: no version information available (required by /usr/sbin/nginx)\n",
            "rsyslogd: /azureml-envs/azureml_661474bbe74e96b5d8added5888dfc85/lib/libuuid.so.1: no version information available (required by rsyslogd)\n",
            "EdgeHubConnectionString and IOTEDGE_IOTHUBHOSTNAME are not set. Exiting...\n",
            "2021-03-20T19:13:52,555178100+00:00 - iot-server/finish 1 0\n",
            "2021-03-20T19:13:52,565225100+00:00 - Exit code 1 is normal. Not restarting iot-server.\n",
            "Starting gunicorn 19.9.0\n",
            "Listening at: http://127.0.0.1:31311 (69)\n",
            "Using worker: sync\n",
            "worker timeout is set to 300\n",
            "Booting worker with pid: 98\n",
            "SPARK_HOME not set. Skipping PySpark Initialization.\n",
            "Generating new fontManager, this may take some time...\n",
            "Initializing logger\n",
            "2021-03-20 19:13:59,476 | root | INFO | Starting up app insights client\n",
            "2021-03-20 19:13:59,476 | root | INFO | Starting up request id generator\n",
            "2021-03-20 19:13:59,476 | root | INFO | Starting up app insight hooks\n",
            "2021-03-20 19:13:59,477 | root | INFO | Invoking user's init function\n",
            "2021-03-20 19:14:11,472 | azureml.core | WARNING | Failure while loading azureml_run_type_providers. Failed to load entrypoint automl = azureml.train.automl.run:AutoMLRun._from_run_dto with exception (cryptography 3.2 (/azureml-envs/azureml_661474bbe74e96b5d8added5888dfc85/lib/python3.6/site-packages), Requirement.parse('cryptography<4.0.0,>=3.3.1; extra == \"crypto\"'), {'PyJWT'}).\n",
            "Failure while loading azureml_run_type_providers. Failed to load entrypoint automl = azureml.train.automl.run:AutoMLRun._from_run_dto with exception (cryptography 3.2 (/azureml-envs/azureml_661474bbe74e96b5d8added5888dfc85/lib/python3.6/site-packages), Requirement.parse('cryptography<4.0.0,>=3.3.1; extra == \"crypto\"'), {'PyJWT'}).\n",
            "2021-03-20 19:14:12,375 | root | INFO | Users's init has completed successfully\n",
            "2021-03-20 19:14:12,429 | root | INFO | Skipping middleware: dbg_model_info as it's not enabled.\n",
            "2021-03-20 19:14:12,429 | root | INFO | Skipping middleware: dbg_resource_usage as it's not enabled.\n",
            "2021-03-20 19:14:12,432 | root | INFO | Scoring timeout is found from os.environ: 60000 ms\n",
            "2021-03-20 19:14:12,449 | root | INFO | 200\n",
            "127.0.0.1 - - [20/Mar/2021:19:14:12 +0000] \"GET /swagger.json HTTP/1.0\" 200 3272 \"-\" \"Go-http-client/1.1\"\n",
            "2021-03-20 19:14:14,176 | root | INFO | 200\n",
            "127.0.0.1 - - [20/Mar/2021:19:14:14 +0000] \"GET /swagger.json HTTP/1.0\" 200 3272 \"-\" \"Go-http-client/1.1\"\n",
            "2021-03-20 19:14:42,771 | root | INFO | 200\n",
            "127.0.0.1 - - [20/Mar/2021:19:14:42 +0000] \"GET /swagger.json HTTP/1.0\" 200 3272 \"-\" \"Go-http-client/1.1\"\n",
            "2021-03-20 19:14:46,443 | root | INFO | 200\n",
            "127.0.0.1 - - [20/Mar/2021:19:14:46 +0000] \"GET /swagger.json HTTP/1.0\" 200 3272 \"-\" \"Go-http-client/1.1\"\n",
            "2021-03-20 19:15:37,273 | root | INFO | Validation Request Content-Type\n",
            "2021-03-20 19:15:37,274 | root | INFO | Scoring Timer is set to 60.0 seconds\n",
            "2021-03-20 19:15:37,460 | root | INFO | 200\n",
            "127.0.0.1 - - [20/Mar/2021:19:15:37 +0000] \"POST /score HTTP/1.0\" 200 22 \"-\" \"python-requests/2.25.1\"\n",
            "2021-03-20 19:16:01,924 | root | INFO | Validation Request Content-Type\n",
            "2021-03-20 19:16:01,927 | root | INFO | Scoring Timer is set to 60.0 seconds\n",
            "2021-03-20 19:16:02,116 | root | INFO | 200\n",
            "127.0.0.1 - - [20/Mar/2021:19:16:02 +0000] \"POST /score HTTP/1.0\" 200 46 \"-\" \"python-requests/2.25.1\"\n",
            "\n"
          ]
        }
      ],
      "execution_count": 48,
      "metadata": {
        "collapsed": true,
        "jupyter": {
          "source_hidden": false,
          "outputs_hidden": false
        },
        "nteract": {
          "transient": {
            "deleting": false
          }
        },
        "gather": {
          "logged": 1616268088331
        }
      }
    },
    {
      "cell_type": "code",
      "source": [
        "cpu_cluster.delete()\r\n",
        "service.delete()"
      ],
      "outputs": [
        {
          "output_type": "stream",
          "name": "stdout",
          "text": [
            "Current provisioning state of AmlCompute is \"Deleting\"\n",
            "\n"
          ]
        }
      ],
      "execution_count": 49,
      "metadata": {
        "collapsed": true,
        "jupyter": {
          "source_hidden": false,
          "outputs_hidden": false
        },
        "nteract": {
          "transient": {
            "deleting": false
          }
        },
        "gather": {
          "logged": 1616268358110
        }
      }
    },
    {
      "cell_type": "code",
      "source": [],
      "outputs": [],
      "execution_count": null,
      "metadata": {
        "collapsed": true,
        "jupyter": {
          "source_hidden": false,
          "outputs_hidden": false
        },
        "nteract": {
          "transient": {
            "deleting": false
          }
        }
      }
    }
  ],
  "metadata": {
    "kernel_info": {
      "name": "python3"
    },
    "kernelspec": {
      "name": "python3",
      "language": "python",
      "display_name": "Python 3"
    },
    "language_info": {
      "name": "python",
      "version": "3.6.9",
      "mimetype": "text/x-python",
      "codemirror_mode": {
        "name": "ipython",
        "version": 3
      },
      "pygments_lexer": "ipython3",
      "nbconvert_exporter": "python",
      "file_extension": ".py"
    },
    "nteract": {
      "version": "nteract-front-end@1.0.0"
    },
    "microsoft": {
      "host": {
        "AzureML": {
          "notebookHasBeenCompleted": true
        }
      }
    }
  },
  "nbformat": 4,
  "nbformat_minor": 2
}